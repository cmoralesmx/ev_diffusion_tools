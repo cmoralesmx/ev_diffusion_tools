{
 "cells": [
  {
   "cell_type": "markdown",
   "metadata": {},
   "source": [
    "# Generate cell distributions from Polygons and Segments  \n",
    "\n",
    "The polygons must be already computed from cross-sectional images\n",
    "\n",
    "**Avoid computing the boundaries again**  \n",
    "For the next 3 scenarios, it is necessary to click on \"cell>Run All above\" after browsing to the target cell and clicking on it, this will load the needed dependencies.  \n",
    "- 1D displacement test\n",
    "- 2D source point test\n",
    "- Generate EVs in a pre processed cross section  \n",
    "\n",
    "[load the dependencies](#Dependencies)\n",
    "\n",
    "**Otherwise:** [Load the dependencies](#Dependencies) first, then proceed to [process a new cross section](#The-full-pipeline) "
   ]
  },
  {
   "cell_type": "code",
   "execution_count": 1,
   "metadata": {},
   "outputs": [
    {
     "name": "stdout",
     "output_type": "stream",
     "text": [
      "For a temperature of 20C (293.15 Kelvin) water has a viscosity of 0.0010016\n",
      "const_Boltzmann * const_Temperature_K = 4.0473766476e-21\n",
      "6. * math.pi * const_water_viscosity = 0.018879715211013223\n"
     ]
    }
   ],
   "source": [
    "%matplotlib inline\n",
    "import numpy as np\n",
    "import math\n",
    "\n",
    "import os\n",
    "import itertools\n",
    "\n",
    "import pickle\n",
    "#from mpl_toolkits.axes_grid1.inset_locator import zoomed_inset_axes\n",
    "#from mpl_toolkits.axes_grid1.inset_locator import mark_inset\n",
    "#from struct import pack\n",
    "#from shapely.geometry import MultiPolygon\n",
    "import time\n",
    "\n",
    "from ev_model import elements, environment\n",
    "from ev_model.utilities import geometry as evmetry\n",
    "\n",
    "sections = {\n",
    "    'utj': '.\\img\\polygons_3-1to3-5_L2-3_bl-utj.pickle',\n",
    "    'isthmus': '.\\img\\polygons_3-1to3-5_L2-3_tl-isth.pickle',\n",
    "    'ia-junction': '.\\img\\polygons_3-1to3-5_L2-3_c.pickle',\n",
    "    'ampulla': '.\\img\\polygons_3-1to3-5_L2-3_tr-amp_2.pickle',\n",
    "    'infundibulum': '.\\img\\polygons_3-1to3-5_L2-3_br-inf.pickle'\n",
    "}\n",
    "\n",
    "print(f\"For a temperature of {elements.tempC}C ({elements.const_Temperature_K} Kelvin) water has a viscosity of {elements.const_water_viscosity}\")\n",
    "print(f\"const_Boltzmann * const_Temperature_K = {elements.const_Boltzmann * elements.const_Temperature_K}\")\n",
    "print(f\"6. * math.pi * const_water_viscosity = {6. * math.pi * elements.const_water_viscosity}\")"
   ]
  },
  {
   "cell_type": "markdown",
   "metadata": {},
   "source": [
    "# Dependencies\n",
    "After clicking on this cell, select `Cell>Run All above` (or `Run>Run All Above Selected Cell` on Jupyter Lab), this will load the needed dependencies. Then proceed to the desired scenario or [Process a new cross section](#Full-pipeline)  \n",
    "\n",
    "Available scenarios:  \n",
    "- [Simple tests](#Simple-tests-(alternative-pipeline))\n",
    "  - [1D displacement test](#1D-displacement-test)\n",
    "  - [2D source point test](#2D-source-point-test)\n",
    "  - [2D collisions test](#2d-collisions-test)\n",
    "- [Load previously computed cell-distributions from file](#Load-previously-computed-cell-distributions-from-file)\n",
    "- Generate EVs from a pre-processed cross-section by executing the [Full-pipeline](#Full-pipeline)  \n",
    "- [Full experiments](#Full-experiments)\n",
    "\n",
    "## Simple tests (alternative pipeline)  \n",
    "For the following two tests, we defined a simple pipeline as follows  \n",
    "\n",
    "1. Produce a simple geometry  \n",
    "  1. 1D source point test  \n",
    "  1. 2D source point test (EVs inside a circumference)  \n",
    "1. Generate the cell distributions  \n",
    "1. Export the 0.xml file  \n",
    "\n",
    "The base unit for the experiments is the micrometer ($\\mu m$)  \n",
    "## 1D displacement test"
   ]
  },
  {
   "cell_type": "code",
   "execution_count": null,
   "metadata": {},
   "outputs": [],
   "source": [
    "base_filename = '1D_test'\n",
    "dt = 0.05\n",
    "degrees_of_freedom = 1\n",
    "n = 100\n",
    "version = 28\n",
    "threshold_secretory = 0.2\n",
    "\n",
    "segments = []\n",
    "avg_cell_diameter = 4.5 # um\n",
    "\n",
    "# this would produce a playground area of 900 units (pixels) which translates to 900 um, almost a millimeter\n",
    "coords = np.array([(0, -450),(0, 450), (0, 450), (0,-450), (0, -450)])\n",
    "segments.extend(environment.process_edge([], coords[0], coords[1], avg_cell_diameter, 0))\n",
    "segments.extend(environment.process_edge([], coords[2], coords[3], avg_cell_diameter, 0))\n",
    "cells, secretory, ciliary = environment.produce_cells(segments, probabilistic=False, threshold_secretory = threshold_secretory)\n",
    "print(f'total cells: {len(cells)}, secretory: {len(secretory)}, ciliary: {len(ciliary)}')\n",
    "\n",
    "source_points, max_spts_per_cell = environment.generate_source_points_from_cells(secretory, debug_log=False)\n",
    "print(f\"source points: {len(source_points['location'])}\")\n",
    "# produce the EVs\n",
    "\n",
    "new_evs = environment.generate_evs_from_source_points(n, source_points, debug_log=False)"
   ]
  },
  {
   "cell_type": "code",
   "execution_count": null,
   "metadata": {},
   "outputs": [],
   "source": [
    "environment.visualize_distributions(cells, secretory, ciliary, threshold_secretory = threshold_secretory, normals=False, scalebar=False, save=False, zoom_in=False, autoscale=True)"
   ]
  },
  {
   "cell_type": "code",
   "execution_count": null,
   "metadata": {},
   "outputs": [],
   "source": [
    "save_0xml_file(evs, n, dt, degrees_of_freedom, base_filename, target_spts_per_cell=0, \n",
    "               version=version, boundaries=False, ev_ev_collisions=False, cells=None, new_evs=False,\n",
    "               new_evs_interval_seconds=5, new_evs_threshold=0.95, seconds_in_initial_state=0.)"
   ]
  },
  {
   "cell_type": "markdown",
   "metadata": {},
   "source": [
    "## 2D source point test (broken)"
   ]
  },
  {
   "cell_type": "code",
   "execution_count": null,
   "metadata": {},
   "outputs": [],
   "source": [
    "base_filename = '2D_sp'\n",
    "dt = 0.025\n",
    "degrees_of_freedom = 2\n",
    "\n",
    "segments = []\n",
    "avg_cell_diameter = 4.5 # um\n",
    "coords = np.array([(0, -4),(0, 4), (0, 4), (0,-4), (0, -4)])\n",
    "segments.extend(environment.process_edge([], coords[0], coords[1], avg_cell_diameter, 0))\n",
    "segments.extend(environment.process_edge([], coords[2], coords[3], avg_cell_diameter, 0))\n",
    "cells, secretory, ciliary = environment.produce_cells(segments, probabilistic=False)\n",
    "\n",
    "n = 2**12\n",
    "version = 28\n",
    "circle_radius = 45 #um\n",
    "evs = environment.generate_evs_in_circle(n, circle_radius)"
   ]
  },
  {
   "cell_type": "code",
   "execution_count": null,
   "metadata": {},
   "outputs": [],
   "source": [
    "environment.visualize_distributions(cells, secretory, ciliary, threshold_secretory = threshold_secretory, normals=False, scalebar=False, save=False, zoom_in=False, autoscale=True)"
   ]
  },
  {
   "cell_type": "code",
   "execution_count": null,
   "metadata": {},
   "outputs": [],
   "source": [
    "save_0xml_file(evs, n, dt, degrees_of_freedom, base_filename, target_spts_per_cell=0, \n",
    "               version=version, boundaries=False, ev_ev_collisions=False, cells=None, new_evs=False,\n",
    "               new_evs_interval_seconds=5, new_evs_threshold=0.95, seconds_in_initial_state=0.)"
   ]
  },
  {
   "cell_type": "markdown",
   "metadata": {},
   "source": [
    "## 2D source points proximity test\n",
    "\n",
    "We place EVs inside a 3um by 3um box to check for collisions against walls and EVs.\n"
   ]
  },
  {
   "cell_type": "code",
   "execution_count": null,
   "metadata": {},
   "outputs": [],
   "source": [
    "base_filename = '2D_proximity_test'\n",
    "dt=0.005\n",
    "degrees_of_freedom=2\n",
    "# produce N EVs\n",
    "n = 32\n",
    "version = 28\n",
    "target_spts_per_cell = 11\n",
    "\n",
    "#set_dt_and_dof(dt, degrees_of_freedom)\n",
    "\n",
    "segments = []\n",
    "avg_cell_diameter = 4.5 # um\n",
    "coords = np.array([(1, 1.5), (4.6, 1), (5, 2), (4.3, 4),\n",
    "                   (4.3, 8), (3.7, 8), (3.7,4), (4, 2)])\n",
    "segments.extend(environment.process_edge([], coords[0], coords[1], avg_cell_diameter, 0))\n",
    "segments.extend(environment.process_edge([], coords[1], coords[2], avg_cell_diameter, 0))\n",
    "segments.extend(environment.process_edge([], coords[2], coords[3], avg_cell_diameter, 0))\n",
    "segments.extend(environment.process_edge([], coords[3], coords[4], avg_cell_diameter, 0))\n",
    "segments.extend(environment.process_edge([], coords[4], coords[5], avg_cell_diameter, 0))\n",
    "segments.extend(environment.process_edge([], coords[5], coords[6], avg_cell_diameter, 0))\n",
    "segments.extend(environment.process_edge([], coords[6], coords[7], avg_cell_diameter, 0))\n",
    "segments.extend(environment.process_edge([], coords[7], coords[0], avg_cell_diameter, 0))\n",
    "\n",
    "# check distance between segments\n",
    "\n",
    "\n",
    "cells, secretory, ciliary = environment.produce_cells(segments, probabilistic=True, threshold_secretory = 0.5)\n",
    "print(f'total cells: {len(cells)}, secretory: {len(secretory)}, ciliary: {len(ciliary)}')\n",
    "\n",
    "source_points, max_spts_per_cell = environment.generate_source_points_from_cells(secretory, debug_log=False)\n",
    "print(f\"source points: {len(source_points['location'])}\")\n",
    "\n",
    "\n",
    "new_evs = environment.generate_evs_from_source_points(n, source_points, debug_log=False)"
   ]
  },
  {
   "cell_type": "code",
   "execution_count": null,
   "metadata": {},
   "outputs": [],
   "source": [
    "environment.visualize_distributions(cells, secretory, ciliary, threshold_secretory = 0.75, normals=True, scalebar=False, evs=new_evs, save=False)"
   ]
  },
  {
   "cell_type": "code",
   "execution_count": null,
   "metadata": {},
   "outputs": [],
   "source": [
    "save_0xml_file(new_evs, n, dt, degrees_of_freedom, base_filename, target_spts_per_cell, \n",
    "               version, boundaries=True, ev_ev_collisions=True, cells=cells, new_evs=True,\n",
    "               new_evs_interval_seconds=5, new_evs_threshold=0.95, seconds_in_initial_state=2.0)"
   ]
  },
  {
   "cell_type": "markdown",
   "metadata": {},
   "source": [
    "## 2D Full collisions and EV production test\n",
    "\n",
    "We place EVs inside a n by n um box to check for collisions against walls and EVs."
   ]
  },
  {
   "cell_type": "code",
   "execution_count": null,
   "metadata": {},
   "outputs": [],
   "source": [
    "base_filename = '2D_collisions_w_newEvs'\n",
    "\n",
    "segments = []\n",
    "avg_cell_diameter = 4.5 # um\n",
    "coords = np.array([(1, 13), (1, 1), (13, 1), (13, 13),\n",
    "                   (4, 7), (7, 4), (10, 7), (7, 10) ])\n",
    "segments.extend(environment.process_edge([], coords[0], coords[1], avg_cell_diameter, 0))\n",
    "segments.extend(environment.process_edge([], coords[1], coords[2], avg_cell_diameter, 0))\n",
    "segments.extend(environment.process_edge([], coords[2], coords[3], avg_cell_diameter, 0))\n",
    "segments.extend(environment.process_edge([], coords[3], coords[0], avg_cell_diameter, 0))\n",
    "# inner\n",
    "segments.extend(environment.process_edge([], coords[4], coords[5], avg_cell_diameter, 1, inside_another=True))\n",
    "segments.extend(environment.process_edge([], coords[5], coords[6], avg_cell_diameter, 1, inside_another=True))\n",
    "segments.extend(environment.process_edge([], coords[6], coords[7], avg_cell_diameter, 1, inside_another=True))\n",
    "segments.extend(environment.process_edge([], coords[7], coords[4], avg_cell_diameter, 1, inside_another=True))\n",
    "\n",
    "cells, secretory, ciliary = environment.produce_cells(segments, probabilistic=True, threshold_secretory = 0.5)\n",
    "print(f'total cells: {len(cells)}, secretory: {len(secretory)}, ciliary: {len(ciliary)}')\n",
    "\n",
    "source_points, max_spts_per_cell = environment.generate_source_points_from_cells(secretory, debug_log=False)\n",
    "print(f\"source points: {len(source_points['location'])}\")\n",
    "\n",
    "dt=0.005\n",
    "degrees_of_freedom=2\n",
    "# produce N EVs\n",
    "n = 64 #int(len(secretory)) * 2\n",
    "version = 28\n",
    "target_spts_per_cell = 11\n",
    "\n",
    "new_evs = environment.generate_evs_from_source_points(n, source_points, debug_log=False)"
   ]
  },
  {
   "cell_type": "code",
   "execution_count": null,
   "metadata": {},
   "outputs": [],
   "source": [
    "environment.visualize_distributions(cells, secretory, ciliary, threshold_secretory = 0.5, normals=True, scalebar=False, evs=new_evs, save=False)"
   ]
  },
  {
   "cell_type": "code",
   "execution_count": null,
   "metadata": {},
   "outputs": [],
   "source": [
    "save_0xml_file(new_evs, n, dt, degrees_of_freedom, base_filename, target_spts_per_cell, \n",
    "               version, boundaries=True, ev_ev_collisions=True, cells=cells, new_evs=True,\n",
    "               new_evs_interval_seconds=5, new_evs_threshold=0.95, seconds_in_initial_state=1.9)"
   ]
  },
  {
   "cell_type": "markdown",
   "metadata": {},
   "source": [
    "# A model of Extracellular Vesicles behaviour\n",
    "The state of the art about extracellular vesicle offers significant detail about the biological characterisations of their content, we identified some gaps regarding other systemic characteristics such as production rate, diffusion coefficient, mass, lifespan, and decay or decomposition rate. This complicated things a bit for creating our first model of EV behaviour. However, we expect that our findings will eventually help reduce this gap."
   ]
  },
  {
   "cell_type": "code",
   "execution_count": null,
   "metadata": {},
   "outputs": [],
   "source": [
    "# In the images 100 um are represented by 48 pixels\n",
    "scale = 100/48\n",
    "width_in_pixels = 2717\n",
    "height_in_pixels = 1410\n",
    "width = width_in_pixels * scale\n",
    "height = height_in_pixels * scale\n",
    "depth = 4\n",
    "\n",
    "vol_um = width*height*depth\n",
    "\n",
    "print(f'w: {width} um, h: {height} um, d: {depth} um, vol: {vol_um:,.2f} um^3 -> ')"
   ]
  },
  {
   "cell_type": "markdown",
   "metadata": {},
   "source": [
    "## The environment (Oviduct measurements)\n",
    "\n",
    "After measuring the dimensions of the oviduct from histological images, we have identified the following:  \n",
    "\n",
    "| Region| Width ($\\mu m$) | Height ($\\mu m$) |  \n",
    "|:-:|-:|-:|  \n",
    "|UTJ|0|0 |  \n",
    "|Isthmus|1,000|1,000|  \n",
    "|IA junction|0|0|\n",
    "|Ampulla|5,560|2,937|\n",
    "|Infundibulum|0|0|\n",
    "  \n",
    "Sources:  \n",
    "- Ampulla (D:\\gDrive\\Histology\\PigHistologyImages\\3-1to3-5\\L2-3\\tr-amp\\Untitled-1-modified-b.w.jpg) w: 2717 px, h: 1410 px  \n",
    "- Isthmus (D:\\gDrive\\Histology\\PigHistologyImages\\3-1to3-5\\L2-3\\??\\??.jpg)  \n",
    "\n",
    "Next, we load the data from the environment from a set of previously prepared files.\n",
    "\n",
    "### Load previously computed cell distributions from file\n",
    "\n",
    "Previously computed distributions are stored in the directory 'distributions'. The files there are related to the experiment they belong by the first part of their name. As an example, the for the experiment 'ampulla_(3-1to3-5_L2-3_tr-amp)\\_2' would produce the files:  \n",
    "\n",
    "$$\n",
    "V2 files\n",
    "\\begin{cases}\n",
    "\\text{3-1to3-5_L2-3_tr-amp_2__distribution_80-20_s-c__allCells.pickle} & \\text{w/ all cells}\\\\\n",
    "\\text{3-1to3-5_L2-3_tr-amp_2__distribution_80-20_s-c__ciliary.pickle} & \\text{ciliary cells}\\\\\n",
    "\\text{3-1to3-5_L2-3_tr-amp_2__distribution_80-20_s-c__secretory.pickle} & \\text{secretory cells}\n",
    "\\end{cases}\n",
    "$$\n",
    "*Note: the number 80, 20 corresponds to an 80/20 percent distribution of secretory/ciliary cells*\n",
    "\n",
    "$$\n",
    "\\text{v1 files}\n",
    "\\begin{cases}\n",
    "\\text{`ampulla_(3-1to3-5_L2-3_tr-amp)_2_0_boundaries.evbin`} & \\text{the boundaries} \\\\\n",
    "\\text{`ampulla_(3-1to3-5_L2-3_tr-amp)_2_0_starting_points.evbin`} & \\text{the starting points}  \n",
    "\\end{cases}\n",
    "$$\n",
    "\n",
    "\n",
    "# The ampulla\n",
    "\n",
    "The first cell distributions were generated from the cross-sections of the ampulla. This process follows"
   ]
  },
  {
   "cell_type": "code",
   "execution_count": null,
   "metadata": {},
   "outputs": [],
   "source": [
    "# preset environments:\n",
    "presets = [{'amp':'3-1to3-5_L2-3_tr-amp_2', 's':'80', 'c':'20'}]\n",
    "p = 0\n",
    "base_filename = presets[p]['amp']\n",
    "\n",
    "cells, secretory, ciliary = load_cell_distributions(base_filename, presets[p]['s'], presets[p]['c'])\n",
    "#distributions = load_distributions(base_filename, presets[p]['s'], presets[p]['c'])\n",
    "#f\"loaded {len(distributions['cells']):,d} cells from which the distribution is as follows: ciliary {len(distributions['ciliary']):,d}, secretory: {len(distributions['secretory']):,d}\"\n",
    "f\"loaded {len(cells):,d} cells from which the distribution is as follows: secretory: {len(secretory):,d}, ciliary {len(ciliary):,d}\""
   ]
  },
  {
   "cell_type": "markdown",
   "metadata": {},
   "source": [
    "## The Vesicles\n",
    "Each vesicle is represented as a particle, assigning parameters such as mass, position, and velocity. Then, the interactions between the vesicles or with the oviduct were decided to be treated as perfectly plastic collisions observing the principles of conservation of momentum, angle, and energy.\n",
    "\n",
    "### Size\n",
    "As previously discussed in our literature review, it is well accepted that in general the range of EV sizes lies within 10 nm and 1500 nm. And depending on their biogenesis, this range becomes narrower. In the case of oviductosomes, experimental data has shown they typically have diametral size between 30 and 300 nm. However, more specific characterisation has narrowed down this range even further to be between 80 and 150 nm. Therefore, for the first version of our model, we decided to work with sizes in this range only (80 to 150 nm or 0.080 to 0.150 um) using increments of 10 nm (0.010um).\n",
    "\n",
    "### Mass\n",
    "From the published data of the molecular mass for an exosome with a diameter of 100nm, produced by blood plasma cells, we derived a mass of 1.34e-24 Kg per vesicle. Then, the corresponding mass for the range of sizes described was obtained by simple extrapolation. This procedure gave us the following masses.  \n",
    "\n",
    "| EV diameter (nm) | Mass (Kg) |  \n",
    "|------------------|-----------|\n",
    "|30|1.64397E-20|\n",
    "|40|2.19196E-20|\n",
    "|50|2.73995E-20|\n",
    "|60|3.28794E-20|\n",
    "|70|3.83593E-20|\n",
    "|80|4.38393E-20|\n",
    "|90|4.93192E-20|\n",
    "|100|5.47991E-20|\n",
    "|110|6.0279E-20|\n",
    "|120|6.57589E-20|\n",
    "|130|7.12388E-20|\n",
    "|140|7.67187E-20|\n",
    "|150|8.21986E-20|\n",
    "\n",
    "### Displacement\n",
    "Given that the vesicles are governed by physical laws, we estimate the corresponding diffusion rate for each vesicle based on their diameter. For this we use the Stokes-Einstein equation where $k_B$ is the Boltzman constant, $T$ is the absolute temperature. And the frictional coefficient, acting against the spherical particle is given by the divisor. Where $\\eta$ is the dynamic viscosity of water at $T$ temperature, and $r$ is the radius of the vesicle.\n",
    "\n",
    "$$\n",
    "D = \\frac{k_B T}{6 \\pi \\eta r}\n",
    "$$\n",
    "The Stokes-Einstein equation  \n",
    "\n",
    "We use the computed value for the displacement to estimate the initial velocity of the particle."
   ]
  },
  {
   "cell_type": "code",
   "execution_count": null,
   "metadata": {},
   "outputs": [],
   "source": [
    "# produce the EVs\n",
    "n = 25000\n",
    "#new_evs = generate_evs_from_source_points(n, distributions['secretory'])\n",
    "new_evs = generate_evs_from_source_points(n, secretory)\n",
    "\n",
    "# save the cell distributions to file for future reuse\n",
    "export_cell_distributions(base_filename, threshold_secretory, cells, secretory, ciliary)\n",
    "\n",
    "# export the initial states file\n",
    "dt = 0.001194158\n",
    "degrees_of_freedom = 2\n",
    "\n",
    "# save_0xml_file(new_evs, n, degrees_of_freedom, base_filename, version=18, boundaries = True, ev_ev_collisions = False, cells=cells)\n",
    "save_0xml_file(new_evs, n, dt, degrees_of_freedom, base_filename, target_spts_per_cell, \n",
    "               version, boundaries=True, ev_ev_collisions=False, cells=cells)"
   ]
  },
  {
   "cell_type": "markdown",
   "metadata": {},
   "source": [
    "------\n",
    "# Full pipeline\n",
    "\n",
    "1. Image processing (edge detection, edge to polygon conversion, polygon persistency) must be done in a separate notebook named: `00_Xsec-contours`. The list of Shapely Polygons produced should be loaded here.   \n",
    "1. [Loading the pre-computed polygons](#Polygon-loading)  \n",
    "1. [Generate the hypothetical cell distributions](#Generate-the-hypothetical-cell-distributions)  \n",
    "1. [Export the computed cell distributions](#Export-the-computed-cell-distributions)\n",
    "1. Generate the 0.xml file  \n",
    "\n",
    "\n",
    "## Polygon loading\n",
    "\n",
    "The following pickled files with polygons are available:  \n",
    "`.\\img\\polygons_3-1to3-5_L2-3_bl-utj.pickle`,  \n",
    "`.\\img\\polygons_3-1to3-5_L2-3_tl-isth.pickle`,  \n",
    "`.\\img\\polygons_3-1to3-5_L2-3_c.pickle`,  \n",
    "`.\\img\\polygons_3-1to3-5_L2-3_tr-amp_2.pickle`,  \n",
    "`.\\img\\polygons_3-1to3-5_L2-3_br-inf.pickle`  "
   ]
  },
  {
   "cell_type": "code",
   "execution_count": null,
   "metadata": {},
   "outputs": [],
   "source": [
    "working_section = 'ampulla'\n",
    "base_filename = sections[working_section][len('.\\img\\polygons_'):- len('.pickle')]\n",
    "print(f'Base filename: {base_filename}')\n",
    "with open(sections[working_section], 'rb') as pickled_source:\n",
    "    polygons = pickle.load(pickled_source)\n",
    "MultiPolygon(polygons)"
   ]
  },
  {
   "cell_type": "markdown",
   "metadata": {},
   "source": [
    "After the previous step, the cell distributions can be computed\n",
    "\n",
    "## Generate the hypothetical cell distributions\n",
    "\n",
    "Firstly, we must identify the segments in each edge of the polygons. Then, the cells are generated from them.  "
   ]
  },
  {
   "cell_type": "code",
   "execution_count": null,
   "metadata": {},
   "outputs": [],
   "source": [
    "avg_cell_diameter = 4.5\n",
    "threshold_secretory = 0.5\n",
    "\n",
    "segments = environment.identify_segments_in_polygons(polygons, avg_cell_diameter)\n",
    "print(f'Computed {len(segments)} segments in all polygons')\n",
    "\n",
    "cells, secretory, ciliary = environment.produce_cells(segments, True, threshold_secretory)\n",
    "print(f'Generated {len(cells)} cells. The distribution is: {len(secretory)} secretory and {len(ciliary)} ciliary')\n",
    "\n",
    "source_points = environment.generate_source_points_from_cells(secretory, debug_log=False)\n",
    "print(f\"source points: {len(source_points['location'])}\")"
   ]
  },
  {
   "cell_type": "markdown",
   "metadata": {},
   "source": [
    "------\n",
    "# Full experiments\n",
    "\n",
    "[back to start](#Dependencies)"
   ]
  },
  {
   "cell_type": "markdown",
   "metadata": {},
   "source": [
    "# UTJ\n",
    "Expected run time: from 69 sec to 2.26 sec, finally 2.87 sec with filtering"
   ]
  },
  {
   "cell_type": "code",
   "execution_count": 3,
   "metadata": {},
   "outputs": [
    {
     "name": "stdout",
     "output_type": "stream",
     "text": [
      "Base filename: 3-1to3-5_L2-3_bl-utj\n",
      "Computed 6871 segments in all polygons. Elapsed 0.29\n",
      "Generated 6871 cells. The distribution is: 3741 secretory and 3130 ciliary. Elapsed 0.62\n",
      "Removed 60  potentially conflictive source points.As a result, 16 secretory cells have no source points. These will become ciliary cells.\n",
      "Updated lists: 6871 cells, 3725 secretory, 3146 ciliary\n",
      "Filtered source points. Elapsed 0.81\n",
      "Exported file: ./distributions/3-1to3-5_L2-3_bl-utj_30-70_s-c_secretory.pickle\n",
      "Exported file: ./distributions/3-1to3-5_L2-3_bl-utj_30-70_s-c_ciliary.pickle\n",
      "Exported file: ./distributions/3-1to3-5_L2-3_bl-utj_30-70_s-c_allCells.pickle\n",
      "EVs generated. Elapsed 0.00299072265625\n",
      "file saved as: D:\\iterations\\v31\\3-1to3-5_L2-3_bl-utj_0.0k_intCol_newEvs\\0_0.0k_intCol_newEVs.xml\n",
      "Total time: 3.00 seconds\n"
     ]
    }
   ],
   "source": [
    "# produce the EVs\n",
    "environment.setup_experiment(sections=sections, version=31, working_section='utj', new_evs_interval_seconds=15, \n",
    "                             new_evs_threshold=0.95, threshold_secretory=0.3, n = 10)"
   ]
  },
  {
   "cell_type": "markdown",
   "metadata": {},
   "source": [
    "------\n",
    "\n",
    "# Isthmus\n",
    "\n",
    "Expected run time: 33 sec, now ~ 2.17 sec"
   ]
  },
  {
   "cell_type": "code",
   "execution_count": 3,
   "metadata": {},
   "outputs": [
    {
     "name": "stdout",
     "output_type": "stream",
     "text": [
      "Base filename: 3-1to3-5_L2-3_tl-isth\n",
      "Computed 4849 segments in all polygons. Elapsed 0.19\n",
      "Generated 4849 cells. The distribution is: 2618 secretory and 2231 ciliary. Elapsed 0.44\n",
      "Removed 38  potentially conflictive source points.As a result, 17 secretory cells have no source points. These will become ciliary cells.\n",
      "Updated lists: 4849 cells, 2601 secretory, 2248 ciliary\n",
      "Filtered source points. Elapsed 0.69\n",
      "Exported file: ./distributions/3-1to3-5_L2-3_tl-isth_30-70_s-c_secretory.pickle\n",
      "Exported file: ./distributions/3-1to3-5_L2-3_tl-isth_30-70_s-c_ciliary.pickle\n",
      "Exported file: ./distributions/3-1to3-5_L2-3_tl-isth_30-70_s-c_allCells.pickle\n",
      "WARNING: max EV introduced in initial state caped at 1/4 len(secretory), or: 650\n",
      "EVs generated: 650. Elapsed 0.019946575164794922\n",
      "file saved as: D:\\iterations\\v31\\3-1to3-5_L2-3_tl-isth_0.7k_intCol_newEvs\\0_0.7k_intCol_newEVs.xml\n",
      "Total time: 2.29 seconds\n"
     ]
    }
   ],
   "source": [
    "# load the section's polygons\n",
    "environment.setup_experiment(sections=sections, version=31, working_section='isthmus', new_evs_interval_seconds=15, \n",
    "                             new_evs_threshold=0.95, threshold_secretory=0.3, n= 1000)"
   ]
  },
  {
   "cell_type": "markdown",
   "metadata": {},
   "source": [
    "------\n",
    "\n",
    "# IA junction\n",
    "Expected run time: from 1002 sec (~16min) to 7.6 sec"
   ]
  },
  {
   "cell_type": "code",
   "execution_count": 6,
   "metadata": {},
   "outputs": [
    {
     "name": "stdout",
     "output_type": "stream",
     "text": [
      "Base filename: 3-1to3-5_L2-3_c\n",
      "Computed 30922 segments in all polygons. Elapsed 1.10\n",
      "Generated 30922 cells. The distribution is: 12328 secretory and 18594 ciliary. Elapsed 2.25\n",
      "Removed 90  potentially conflictive source points.As a result, 27 secretory cells have no source points. These will become ciliary cells.\n",
      "Updated lists: 30922 cells, 12301 secretory, 18621 ciliary\n",
      "Filtered source points. Elapsed 1.17\n",
      "Exported file: ./distributions/3-1to3-5_L2-3_c_50-50_s-c_secretory.pickle\n",
      "Exported file: ./distributions/3-1to3-5_L2-3_c_50-50_s-c_ciliary.pickle\n",
      "Exported file: ./distributions/3-1to3-5_L2-3_c_50-50_s-c_allCells.pickle\n",
      "EVs generated. Elapsed 0.008975982666015625\n",
      "file saved as: D:\\iterations\\v31\\3-1to3-5_L2-3_c_0.0k_intCol_newEvs\\0_0.0k_intCol_newEVs.xml\n",
      "Total time: 10.36 seconds\n"
     ]
    }
   ],
   "source": [
    "# produce the EVs\n",
    "environment.setup_experiment(sections=sections, version=31, working_section='ia-junction', new_evs_interval_seconds=15, new_evs_threshold=0.95, threshold_secretory=0.5)"
   ]
  },
  {
   "cell_type": "markdown",
   "metadata": {},
   "source": [
    "------\n",
    "\n",
    "# Ampulla\n",
    "Expected runtime: 5068 sec ~ 84 min, now 15 sec"
   ]
  },
  {
   "cell_type": "code",
   "execution_count": 7,
   "metadata": {},
   "outputs": [
    {
     "name": "stdout",
     "output_type": "stream",
     "text": [
      "Base filename: 3-1to3-5_L2-3_tr-amp_2\n",
      "Computed 58979 segments in all polygons. Elapsed 2.06\n",
      "Generated 58979 cells. The distribution is: 28974 secretory and 30005 ciliary. Elapsed 4.76\n",
      "Removed 20  potentially conflictive source points.As a result, 0 secretory cells have no source points. These will become ciliary cells.\n",
      "Updated lists: 58979 cells, 28974 secretory, 30005 ciliary\n",
      "Filtered source points. Elapsed 1.64\n",
      "Exported file: ./distributions/3-1to3-5_L2-3_tr-amp_2_50-50_s-c_secretory.pickle\n",
      "Exported file: ./distributions/3-1to3-5_L2-3_tr-amp_2_50-50_s-c_ciliary.pickle\n",
      "Exported file: ./distributions/3-1to3-5_L2-3_tr-amp_2_50-50_s-c_allCells.pickle\n",
      "EVs generated. Elapsed 0.022939443588256836\n",
      "file saved as: D:\\iterations\\v31\\3-1to3-5_L2-3_tr-amp_2_0.0k_intCol_newEvs\\0_0.0k_intCol_newEVs.xml\n",
      "Total time: 20.51 seconds\n"
     ]
    }
   ],
   "source": [
    "# produce the EVs\n",
    "environment.setup_experiment(sections=sections, version=31, working_section='ampulla', new_evs_interval_seconds=15, new_evs_threshold=0.95, threshold_secretory=0.5)"
   ]
  },
  {
   "cell_type": "markdown",
   "metadata": {},
   "source": [
    "------\n",
    "\n",
    "# Infundibulum\n",
    "Expected runtime: 1969 sec ~ 32 min, now 10 sec"
   ]
  },
  {
   "cell_type": "code",
   "execution_count": 8,
   "metadata": {},
   "outputs": [
    {
     "name": "stdout",
     "output_type": "stream",
     "text": [
      "Base filename: 3-1to3-5_L2-3_br-inf\n",
      "Computed 43577 segments in all polygons. Elapsed 1.53\n",
      "Generated 43577 cells. The distribution is: 17414 secretory and 26163 ciliary. Elapsed 3.14\n",
      "Removed 126  potentially conflictive source points.As a result, 50 secretory cells have no source points. These will become ciliary cells.\n",
      "Updated lists: 43577 cells, 17364 secretory, 26213 ciliary\n",
      "Filtered source points. Elapsed 1.47\n",
      "Exported file: ./distributions/3-1to3-5_L2-3_br-inf_50-50_s-c_secretory.pickle\n",
      "Exported file: ./distributions/3-1to3-5_L2-3_br-inf_50-50_s-c_ciliary.pickle\n",
      "Exported file: ./distributions/3-1to3-5_L2-3_br-inf_50-50_s-c_allCells.pickle\n",
      "EVs generated. Elapsed 0.011968135833740234\n",
      "file saved as: D:\\iterations\\v31\\3-1to3-5_L2-3_br-inf_0.0k_intCol_newEvs\\0_0.0k_intCol_newEVs.xml\n",
      "Total time: 14.43 seconds\n"
     ]
    }
   ],
   "source": [
    "environment.setup_experiment(sections=sections, version=31, working_section='infundibulum', new_evs_interval_seconds=15, new_evs_threshold=0.95, threshold_secretory=0.5)"
   ]
  },
  {
   "cell_type": "code",
   "execution_count": null,
   "metadata": {},
   "outputs": [],
   "source": []
  }
 ],
 "metadata": {
  "kernelspec": {
   "display_name": "Python 3",
   "language": "python",
   "name": "python3"
  },
  "language_info": {
   "codemirror_mode": {
    "name": "ipython",
    "version": 3
   },
   "file_extension": ".py",
   "mimetype": "text/x-python",
   "name": "python",
   "nbconvert_exporter": "python",
   "pygments_lexer": "ipython3",
   "version": "3.6.9"
  }
 },
 "nbformat": 4,
 "nbformat_minor": 4
}

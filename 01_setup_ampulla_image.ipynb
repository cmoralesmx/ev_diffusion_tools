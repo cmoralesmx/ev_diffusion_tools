{
 "cells": [
  {
   "cell_type": "markdown",
   "metadata": {},
   "source": [
    "# Generate cell distributions from Polygons and Segments  \n",
    "\n",
    "The polygons must be already computed from cross-sectional images\n",
    "\n",
    "**Avoid computing the boundaries again**  \n",
    "For the next 3 scenarios, it is necessary to click on \"cell>Run All above\" after browsing to the target cell and clicking on it, this will load the needed dependencies.  \n",
    "- 1D displacement test\n",
    "- 2D source point test\n",
    "- Generate EVs in a pre processed cross section  \n",
    "\n",
    "[load the dependencies](#Dependencies)\n",
    "\n",
    "**Otherwise:** [Load the dependencies](#Dependencies) first, then proceed to [process a new cross section](#Full-pipeline) "
   ]
  },
  {
   "cell_type": "code",
   "execution_count": 1,
   "metadata": {},
   "outputs": [
    {
     "name": "stdout",
     "output_type": "stream",
     "text": [
      "For a temperature of 20C (293.15 Kelvin) water has a viscosity of 0.0010016\n",
      "const_Boltzmann * const_Temperature_K = 4.0473766476e-21\n",
      "6. * math.pi * const_water_viscosity = 0.018879715211013223\n"
     ]
    }
   ],
   "source": [
    "%matplotlib inline\n",
    "import numpy as np\n",
    "import math\n",
    "\n",
    "import os\n",
    "import itertools\n",
    "\n",
    "import pickle\n",
    "#from mpl_toolkits.axes_grid1.inset_locator import zoomed_inset_axes\n",
    "#from mpl_toolkits.axes_grid1.inset_locator import mark_inset\n",
    "#from struct import pack\n",
    "from shapely.geometry import MultiPolygon\n",
    "import time\n",
    "\n",
    "from ev_model import elements, environment\n",
    "from ev_model.utilities import geometry as evmetry\n",
    "\n",
    "sections = {\n",
    "    'utj': './resources/img_polygons/3-1to3-5_L2-3_bl-utj.pickle',\n",
    "    'isthmus': './resources/img_polygons/3-1to3-5_L2-3_tl-isth_fixed.pickle',\n",
    "    'ia-junction': './resources/img_polygons/3-1to3-5_L2-3_c.pickle',\n",
    "    'ampulla': './img_polygons/3-1to3-5_L2-3_tr-amp_2.pickle',\n",
    "    'infundibulum': './img_polygons/3-1to3-5_L2-3_br-inf.pickle'\n",
    "}\n",
    "\n",
    "print(f\"For a temperature of {elements.tempC}C ({elements.const_Temperature_K} Kelvin) water has a viscosity of {elements.const_water_viscosity}\")\n",
    "print(f\"const_Boltzmann * const_Temperature_K = {elements.const_Boltzmann * elements.const_Temperature_K}\")\n",
    "print(f\"6. * math.pi * const_water_viscosity = {6. * math.pi * elements.const_water_viscosity}\")"
   ]
  },
  {
   "cell_type": "markdown",
   "metadata": {},
   "source": [
    "# Dependencies\n",
    "After clicking on this cell, select `Cell>Run All above` (or `Run>Run All Above Selected Cell` on Jupyter Lab), this will load the needed dependencies. Then proceed to the desired scenario or [Process a new cross section](#Full-pipeline)  \n",
    "\n",
    "Available scenarios:  \n",
    "- [Simple tests](#Simple-tests-(alternative-pipeline))\n",
    "  - [1D displacement test](#1D-displacement-test)\n",
    "  - [2D source point test](#2D-source-point-test)\n",
    "  - [2D collisions test](#2d-collisions-test)\n",
    "- [Load previously computed cell-distributions from file](#Load-previously-computed-cell-distributions-from-file)\n",
    "- Generate EVs from a pre-processed cross-section by executing the [Full-pipeline](#Full-pipeline)  \n",
    "- [Full experiments](#Full-experiments)\n",
    "\n",
    "## Simple tests (alternative pipeline)  \n",
    "For the following two tests, we defined a simple pipeline as follows  \n",
    "\n",
    "1. Produce a simple geometry  \n",
    "  1. 1D source point test  \n",
    "  1. 2D source point test (EVs inside a circumference)  \n",
    "1. Generate the cell distributions  \n",
    "1. Export the 0.xml file  \n",
    "\n",
    "The base unit for the experiments is the micrometer ($\\mu m$)  \n",
    "## 1D displacement test"
   ]
  },
  {
   "cell_type": "code",
   "execution_count": null,
   "metadata": {},
   "outputs": [],
   "source": [
    "base_filename = '1D_test'\n",
    "dt = 0.05\n",
    "degrees_of_freedom = 1\n",
    "n = 100\n",
    "version = 28\n",
    "threshold_secretory = 0.2\n",
    "\n",
    "segments = []\n",
    "avg_cell_diameter = 4.5 # um\n",
    "\n",
    "# this would produce a playground area of 900 units (pixels) which translates to 900 um, almost a millimeter\n",
    "coords = np.array([(0, -450),(0, 450), (0, 450), (0,-450), (0, -450)])\n",
    "segments.extend(environment.process_edge([], coords[0], coords[1], avg_cell_diameter, 0))\n",
    "segments.extend(environment.process_edge([], coords[2], coords[3], avg_cell_diameter, 0))\n",
    "cells, secretory, ciliary = environment.produce_cells(segments, probabilistic=False, threshold_secretory = threshold_secretory)\n",
    "print(f'total cells: {len(cells)}, secretory: {len(secretory)}, ciliary: {len(ciliary)}')\n",
    "\n",
    "source_points, max_spts_per_cell = environment.generate_source_points_from_cells(secretory, debug_log=False)\n",
    "print(f\"source points: {len(source_points['location'])}\")\n",
    "# produce the EVs\n",
    "\n",
    "new_evs = environment.generate_evs_from_source_points(n, source_points, debug_log=False)"
   ]
  },
  {
   "cell_type": "code",
   "execution_count": null,
   "metadata": {},
   "outputs": [],
   "source": [
    "environment.visualize_distributions(cells, secretory, ciliary, threshold_secretory = threshold_secretory, normals=False, scalebar=False, save=False, zoom_in=False, autoscale=True)"
   ]
  },
  {
   "cell_type": "code",
   "execution_count": null,
   "metadata": {},
   "outputs": [],
   "source": [
    "save_0xml_file(evs, n, dt, degrees_of_freedom, base_filename, target_spts_per_cell=0, \n",
    "               version=version, boundaries=False, ev_ev_collisions=False, cells=None, new_evs=False,\n",
    "               new_evs_interval_seconds=5, new_evs_threshold=0.95, seconds_in_initial_state=0.)"
   ]
  },
  {
   "cell_type": "markdown",
   "metadata": {},
   "source": [
    "## 2D source point test (broken)"
   ]
  },
  {
   "cell_type": "code",
   "execution_count": null,
   "metadata": {},
   "outputs": [],
   "source": [
    "base_filename = '2D_sp'\n",
    "dt = 0.025\n",
    "degrees_of_freedom = 2\n",
    "\n",
    "segments = []\n",
    "avg_cell_diameter = 4.5 # um\n",
    "coords = np.array([(0, -4),(0, 4), (0, 4), (0,-4), (0, -4)])\n",
    "segments.extend(environment.process_edge([], coords[0], coords[1], avg_cell_diameter, 0))\n",
    "segments.extend(environment.process_edge([], coords[2], coords[3], avg_cell_diameter, 0))\n",
    "cells, secretory, ciliary = environment.produce_cells(segments, probabilistic=False)\n",
    "\n",
    "n = 2**12\n",
    "version = 28\n",
    "circle_radius = 45 #um\n",
    "evs = environment.generate_evs_in_circle(n, circle_radius)"
   ]
  },
  {
   "cell_type": "code",
   "execution_count": null,
   "metadata": {},
   "outputs": [],
   "source": [
    "environment.visualize_distributions(cells, secretory, ciliary, threshold_secretory = threshold_secretory, normals=False, scalebar=False, save=False, zoom_in=False, autoscale=True)"
   ]
  },
  {
   "cell_type": "code",
   "execution_count": null,
   "metadata": {},
   "outputs": [],
   "source": [
    "save_0xml_file(evs, n, dt, degrees_of_freedom, base_filename, target_spts_per_cell=0, \n",
    "               version=version, boundaries=False, ev_ev_collisions=False, cells=None, new_evs=False,\n",
    "               new_evs_interval_seconds=5, new_evs_threshold=0.95, seconds_in_initial_state=0.)"
   ]
  },
  {
   "cell_type": "markdown",
   "metadata": {},
   "source": [
    "## 2D source points proximity test\n",
    "\n",
    "We place EVs inside a 3um by 3um box to check for collisions against walls and EVs.\n"
   ]
  },
  {
   "cell_type": "code",
   "execution_count": null,
   "metadata": {},
   "outputs": [],
   "source": [
    "base_filename = '2D_proximity_test'\n",
    "dt=0.005\n",
    "degrees_of_freedom=2\n",
    "# produce N EVs\n",
    "n = 32\n",
    "version = 28\n",
    "target_spts_per_cell = 11\n",
    "\n",
    "#set_dt_and_dof(dt, degrees_of_freedom)\n",
    "\n",
    "segments = []\n",
    "avg_cell_diameter = 4.5 # um\n",
    "coords = np.array([(1, 1.5), (4.6, 1), (5, 2), (4.3, 4),\n",
    "                   (4.3, 8), (3.7, 8), (3.7,4), (4, 2)])\n",
    "segments.extend(environment.process_edge([], coords[0], coords[1], avg_cell_diameter, 0))\n",
    "segments.extend(environment.process_edge([], coords[1], coords[2], avg_cell_diameter, 0))\n",
    "segments.extend(environment.process_edge([], coords[2], coords[3], avg_cell_diameter, 0))\n",
    "segments.extend(environment.process_edge([], coords[3], coords[4], avg_cell_diameter, 0))\n",
    "segments.extend(environment.process_edge([], coords[4], coords[5], avg_cell_diameter, 0))\n",
    "segments.extend(environment.process_edge([], coords[5], coords[6], avg_cell_diameter, 0))\n",
    "segments.extend(environment.process_edge([], coords[6], coords[7], avg_cell_diameter, 0))\n",
    "segments.extend(environment.process_edge([], coords[7], coords[0], avg_cell_diameter, 0))\n",
    "\n",
    "# check distance between segments\n",
    "\n",
    "\n",
    "cells, secretory, ciliary = environment.produce_cells(segments, probabilistic=True, threshold_secretory = 0.5)\n",
    "print(f'total cells: {len(cells)}, secretory: {len(secretory)}, ciliary: {len(ciliary)}')\n",
    "\n",
    "source_points, max_spts_per_cell = environment.generate_source_points_from_cells(secretory, debug_log=False)\n",
    "print(f\"source points: {len(source_points['location'])}\")\n",
    "\n",
    "\n",
    "new_evs = environment.generate_evs_from_source_points(n, source_points, debug_log=False)"
   ]
  },
  {
   "cell_type": "code",
   "execution_count": null,
   "metadata": {},
   "outputs": [],
   "source": [
    "environment.visualize_distributions(cells, secretory, ciliary, threshold_secretory = 0.75, normals=True, scalebar=False, evs=new_evs, save=False)"
   ]
  },
  {
   "cell_type": "code",
   "execution_count": null,
   "metadata": {},
   "outputs": [],
   "source": [
    "save_0xml_file(new_evs, n, dt, degrees_of_freedom, base_filename, target_spts_per_cell, \n",
    "               version, boundaries=True, ev_ev_collisions=True, cells=cells, new_evs=True,\n",
    "               new_evs_interval_seconds=5, new_evs_threshold=0.95, seconds_in_initial_state=2.0)"
   ]
  },
  {
   "cell_type": "markdown",
   "metadata": {},
   "source": [
    "## 2D Full collisions and EV production test\n",
    "\n",
    "We place EVs inside a n by n um box to check for collisions against walls and EVs."
   ]
  },
  {
   "cell_type": "code",
   "execution_count": null,
   "metadata": {},
   "outputs": [],
   "source": [
    "base_filename = '2D_collisions_w_newEvs'\n",
    "\n",
    "segments = []\n",
    "avg_cell_diameter = 4.5 # um\n",
    "coords = np.array([(1, 13), (1, 1), (13, 1), (13, 13),\n",
    "                   (4, 7), (7, 4), (10, 7), (7, 10) ])\n",
    "segments.extend(environment.process_edge([], coords[0], coords[1], avg_cell_diameter, 0))\n",
    "segments.extend(environment.process_edge([], coords[1], coords[2], avg_cell_diameter, 0))\n",
    "segments.extend(environment.process_edge([], coords[2], coords[3], avg_cell_diameter, 0))\n",
    "segments.extend(environment.process_edge([], coords[3], coords[0], avg_cell_diameter, 0))\n",
    "# inner\n",
    "segments.extend(environment.process_edge([], coords[4], coords[5], avg_cell_diameter, 1, inside_another=True))\n",
    "segments.extend(environment.process_edge([], coords[5], coords[6], avg_cell_diameter, 1, inside_another=True))\n",
    "segments.extend(environment.process_edge([], coords[6], coords[7], avg_cell_diameter, 1, inside_another=True))\n",
    "segments.extend(environment.process_edge([], coords[7], coords[4], avg_cell_diameter, 1, inside_another=True))\n",
    "\n",
    "cells, secretory, ciliary = environment.produce_cells(segments, probabilistic=True, threshold_secretory = 0.5)\n",
    "print(f'total cells: {len(cells)}, secretory: {len(secretory)}, ciliary: {len(ciliary)}')\n",
    "\n",
    "source_points, max_spts_per_cell = environment.generate_source_points_from_cells(secretory, debug_log=False)\n",
    "print(f\"source points: {len(source_points['location'])}\")\n",
    "\n",
    "dt=0.005\n",
    "degrees_of_freedom=2\n",
    "# produce N EVs\n",
    "n = 64 #int(len(secretory)) * 2\n",
    "version = 28\n",
    "target_spts_per_cell = 11\n",
    "\n",
    "new_evs = environment.generate_evs_from_source_points(n, source_points, debug_log=False)"
   ]
  },
  {
   "cell_type": "code",
   "execution_count": null,
   "metadata": {},
   "outputs": [],
   "source": [
    "environment.visualize_distributions(cells, secretory, ciliary, threshold_secretory = 0.5, normals=True, scalebar=False, evs=new_evs, save=False)"
   ]
  },
  {
   "cell_type": "code",
   "execution_count": null,
   "metadata": {},
   "outputs": [],
   "source": [
    "save_0xml_file(new_evs, n, dt, degrees_of_freedom, base_filename, target_spts_per_cell, \n",
    "               version, boundaries=True, ev_ev_collisions=True, cells=cells, new_evs=True,\n",
    "               new_evs_interval_seconds=5, new_evs_threshold=0.95, seconds_in_initial_state=1.9)"
   ]
  },
  {
   "cell_type": "markdown",
   "metadata": {},
   "source": [
    "# A model of Extracellular Vesicles behaviour\n",
    "The state of the art about extracellular vesicle offers significant detail about the biological characterisations of their content, we identified some gaps regarding other systemic characteristics such as production rate, diffusion coefficient, mass, lifespan, and decay or decomposition rate. This complicated things a bit for creating our first model of EV behaviour. However, we expect that our findings will eventually help reduce this gap."
   ]
  },
  {
   "cell_type": "code",
   "execution_count": null,
   "metadata": {},
   "outputs": [],
   "source": [
    "# In the images 100 um are represented by 48 pixels\n",
    "scale = 100/48\n",
    "width_in_pixels = 2717\n",
    "height_in_pixels = 1410\n",
    "width = width_in_pixels * scale\n",
    "height = height_in_pixels * scale\n",
    "depth = 4\n",
    "\n",
    "vol_um = width*height*depth\n",
    "\n",
    "print(f'w: {width} um, h: {height} um, d: {depth} um, vol: {vol_um:,.2f} um^3 -> ')"
   ]
  },
  {
   "cell_type": "markdown",
   "metadata": {},
   "source": [
    "## The environment (Oviduct measurements)\n",
    "\n",
    "After measuring the dimensions of the oviduct from histological images, we have identified the following:  \n",
    "\n",
    "| Region| Width ($\\mu m$) | Height ($\\mu m$) |  \n",
    "|:-:|-:|-:|  \n",
    "|UTJ|0|0 |  \n",
    "|Isthmus|1,000|1,000|  \n",
    "|IA junction|0|0|\n",
    "|Ampulla|5,560|2,937|\n",
    "|Infundibulum|0|0|\n",
    "  \n",
    "Sources:  \n",
    "- Ampulla (D:\\gDrive\\Histology\\PigHistologyImages\\3-1to3-5\\L2-3\\tr-amp\\Untitled-1-modified-b.w.jpg) w: 2717 px, h: 1410 px  \n",
    "- Isthmus (D:\\gDrive\\Histology\\PigHistologyImages\\3-1to3-5\\L2-3\\??\\??.jpg)  \n",
    "\n",
    "Next, we load the data from the environment from a set of previously prepared files.\n",
    "\n",
    "### Load previously computed cell distributions from file\n",
    "\n",
    "Previously computed distributions are stored in the directory 'distributions'. The files there are related to the experiment they belong by the first part of their name. As an example, the for the experiment 'ampulla_(3-1to3-5_L2-3_tr-amp)\\_2' would produce the files:  \n",
    "\n",
    "$$\n",
    "V2 files\n",
    "\\begin{cases}\n",
    "\\text{3-1to3-5_L2-3_tr-amp_2__distribution_80-20_s-c__allCells.pickle} & \\text{w/ all cells}\\\\\n",
    "\\text{3-1to3-5_L2-3_tr-amp_2__distribution_80-20_s-c__ciliary.pickle} & \\text{ciliary cells}\\\\\n",
    "\\text{3-1to3-5_L2-3_tr-amp_2__distribution_80-20_s-c__secretory.pickle} & \\text{secretory cells}\n",
    "\\end{cases}\n",
    "$$\n",
    "*Note: the number 80, 20 corresponds to an 80/20 percent distribution of secretory/ciliary cells*\n",
    "\n",
    "$$\n",
    "\\text{v1 files}\n",
    "\\begin{cases}\n",
    "\\text{`ampulla_(3-1to3-5_L2-3_tr-amp)_2_0_boundaries.evbin`} & \\text{the boundaries} \\\\\n",
    "\\text{`ampulla_(3-1to3-5_L2-3_tr-amp)_2_0_starting_points.evbin`} & \\text{the starting points}  \n",
    "\\end{cases}\n",
    "$$\n",
    "\n",
    "\n",
    "# The ampulla\n",
    "\n",
    "The first cell distributions were generated from the cross-sections of the ampulla. This process follows"
   ]
  },
  {
   "cell_type": "code",
   "execution_count": null,
   "metadata": {},
   "outputs": [],
   "source": [
    "# preset environments:\n",
    "presets = [{'amp':'3-1to3-5_L2-3_tr-amp_2', 's':'80', 'c':'20'}]\n",
    "p = 0\n",
    "base_filename = presets[p]['amp']\n",
    "\n",
    "cells, secretory, ciliary = load_cell_distributions(base_filename, presets[p]['s'], presets[p]['c'])\n",
    "#distributions = load_distributions(base_filename, presets[p]['s'], presets[p]['c'])\n",
    "#f\"loaded {len(distributions['cells']):,d} cells from which the distribution is as follows: ciliary {len(distributions['ciliary']):,d}, secretory: {len(distributions['secretory']):,d}\"\n",
    "f\"loaded {len(cells):,d} cells from which the distribution is as follows: secretory: {len(secretory):,d}, ciliary {len(ciliary):,d}\""
   ]
  },
  {
   "cell_type": "markdown",
   "metadata": {},
   "source": [
    "## The Vesicles\n",
    "Each vesicle is represented as a particle, assigning parameters such as mass, position, and velocity. Then, the interactions between the vesicles or with the oviduct were decided to be treated as perfectly plastic collisions observing the principles of conservation of momentum, angle, and energy.\n",
    "\n",
    "### Size\n",
    "As previously discussed in our literature review, it is well accepted that in general the range of EV sizes lies within 10 nm and 1500 nm. And depending on their biogenesis, this range becomes narrower. In the case of oviductosomes, experimental data has shown they typically have diametral size between 30 and 300 nm. However, more specific characterisation has narrowed down this range even further to be between 80 and 150 nm. Therefore, for the first version of our model, we decided to work with sizes in this range only (80 to 150 nm or 0.080 to 0.150 um) using increments of 10 nm (0.010um).\n",
    "\n",
    "### Mass\n",
    "From the published data of the molecular mass for an exosome with a diameter of 100nm, produced by blood plasma cells, we derived a mass of 1.34e-24 Kg per vesicle. Then, the corresponding mass for the range of sizes described was obtained by simple extrapolation. This procedure gave us the following masses.  \n",
    "\n",
    "| EV diameter (nm) | Mass (Kg) |  \n",
    "|------------------|-----------|\n",
    "|30|1.64397E-20|\n",
    "|40|2.19196E-20|\n",
    "|50|2.73995E-20|\n",
    "|60|3.28794E-20|\n",
    "|70|3.83593E-20|\n",
    "|80|4.38393E-20|\n",
    "|90|4.93192E-20|\n",
    "|100|5.47991E-20|\n",
    "|110|6.0279E-20|\n",
    "|120|6.57589E-20|\n",
    "|130|7.12388E-20|\n",
    "|140|7.67187E-20|\n",
    "|150|8.21986E-20|\n",
    "\n",
    "### Displacement\n",
    "Given that the vesicles are governed by physical laws, we estimate the corresponding diffusion rate for each vesicle based on their diameter. For this we use the Stokes-Einstein equation where $k_B$ is the Boltzman constant, $T$ is the absolute temperature. And the frictional coefficient, acting against the spherical particle is given by the divisor. Where $\\eta$ is the dynamic viscosity of water at $T$ temperature, and $r$ is the radius of the vesicle.\n",
    "\n",
    "$$\n",
    "D = \\frac{k_B T}{6 \\pi \\eta r}\n",
    "$$\n",
    "The Stokes-Einstein equation  \n",
    "\n",
    "We use the computed value for the displacement to estimate the initial velocity of the particle."
   ]
  },
  {
   "cell_type": "code",
   "execution_count": null,
   "metadata": {},
   "outputs": [],
   "source": [
    "# produce the EVs\n",
    "n = 25000\n",
    "#new_evs = generate_evs_from_source_points(n, distributions['secretory'])\n",
    "new_evs = generate_evs_from_source_points(n, secretory)\n",
    "\n",
    "# save the cell distributions to file for future reuse\n",
    "export_cell_distributions(base_filename, threshold_secretory, cells, secretory, ciliary)\n",
    "\n",
    "# export the initial states file\n",
    "dt = 0.001194158\n",
    "degrees_of_freedom = 2\n",
    "\n",
    "# save_0xml_file(new_evs, n, degrees_of_freedom, base_filename, version=18, boundaries = True, ev_ev_collisions = False, cells=cells)\n",
    "save_0xml_file(new_evs, n, dt, degrees_of_freedom, base_filename, target_spts_per_cell, \n",
    "               version, boundaries=True, ev_ev_collisions=False, cells=cells)"
   ]
  },
  {
   "cell_type": "markdown",
   "metadata": {},
   "source": [
    "------\n",
    "# Full pipeline\n",
    "\n",
    "1. Image processing (edge detection, edge to polygon conversion, polygon persistency) must be done in a separate notebook named: `00_Xsec-contours`. The list of Shapely Polygons produced should be loaded here.   \n",
    "1. [Loading the pre-computed polygons](#Polygon-loading)  \n",
    "1. [Generate the hypothetical cell distributions](#Generate-the-hypothetical-cell-distributions)  \n",
    "1. [Export the computed cell distributions](#Export-the-computed-cell-distributions)\n",
    "1. Generate the 0.xml file  \n",
    "\n",
    "\n",
    "## Polygon loading\n",
    "\n",
    "The following pickled files with polygons are available:  \n",
    "`.\\img\\polygons_3-1to3-5_L2-3_bl-utj.pickle`,  \n",
    "`.\\img\\polygons_3-1to3-5_L2-3_tl-isth.pickle`,  \n",
    "`.\\img\\polygons_3-1to3-5_L2-3_c.pickle`,  \n",
    "`.\\img\\polygons_3-1to3-5_L2-3_tr-amp_2.pickle`,  \n",
    "`.\\img\\polygons_3-1to3-5_L2-3_br-inf.pickle`  "
   ]
  },
  {
   "cell_type": "code",
   "execution_count": 4,
   "metadata": {},
   "outputs": [
    {
     "name": "stdout",
     "output_type": "stream",
     "text": [
      "Base filename: _polygons/3-1to3-5_L2-3_tl-isth_fixed\n"
     ]
    },
    {
     "data": {
      "image/svg+xml": [
       "<svg xmlns=\"http://www.w3.org/2000/svg\" xmlns:xlink=\"http://www.w3.org/1999/xlink\" width=\"300\" height=\"300\" viewBox=\"20.823999999999995 79.824 782.3520000000001 758.3520000000001\" preserveAspectRatio=\"xMinYMin meet\"><g transform=\"matrix(1,0,0,-1,0,918.0)\"><g><path fill-rule=\"evenodd\" fill=\"#66cc99\" stroke=\"#555555\" stroke-width=\"5.215680000000001\" opacity=\"0.6\" d=\"M 774.2,432.0 L 774.2,430.0 L 774.0,429.8 L 770.0,429.8 L 768.0,431.8 L 767.0,431.8 L 766.8,432.0 L 766.8,433.0 L 766.0,433.8 L 765.0,433.8 L 764.8,434.0 L 764.8,435.0 L 764.0,435.8 L 763.0,435.8 L 762.8,436.0 L 762.8,437.0 L 762.0,437.8 L 759.0,437.8 L 758.8,438.0 L 758.8,439.0 L 758.0,439.8 L 757.0,439.8 L 756.8,440.0 L 756.8,441.0 L 756.0,441.8 L 753.0,441.8 L 752.8,442.0 L 752.8,445.0 L 752.0,445.8 L 751.0,445.8 L 750.8,446.0 L 750.8,447.0 L 750.0,447.8 L 747.0,447.8 L 746.8,448.0 L 746.8,451.0 L 745.0,452.8 L 744.0,452.8 L 743.8,453.0 L 743.8,454.0 L 743.0,454.8 L 742.0,454.8 L 741.8,455.0 L 741.8,462.0 L 739.8,464.0 L 739.8,468.0 L 737.8,470.0 L 737.8,478.0 L 736.0,479.8 L 734.0,477.8 L 715.0,477.8 L 714.8,478.0 L 714.8,479.0 L 714.0,479.8 L 697.0,479.8 L 695.0,481.8 L 690.0,481.8 L 689.2,481.0 L 689.2,480.0 L 689.0,479.8 L 678.0,479.8 L 676.0,481.8 L 674.0,479.8 L 670.0,479.8 L 668.0,477.8 L 666.0,477.8 L 664.0,475.8 L 662.0,475.8 L 661.0,474.8 L 660.0,474.8 L 659.0,473.8 L 658.0,473.8 L 657.0,472.8 L 656.0,472.8 L 655.2,472.0 L 655.2,471.0 L 655.0,470.8 L 654.0,470.8 L 653.2,470.0 L 653.2,469.0 L 653.0,468.8 L 650.0,468.8 L 649.2,468.0 L 649.2,463.0 L 651.0,461.2 L 653.0,461.2 L 663.0,451.2 L 665.0,451.2 L 667.0,449.2 L 669.0,449.2 L 671.0,447.2 L 674.0,447.2 L 674.2,447.0 L 674.2,446.0 L 675.0,445.2 L 678.0,445.2 L 678.2,445.0 L 678.2,444.0 L 679.0,443.2 L 680.0,443.2 L 681.0,442.2 L 682.0,442.2 L 684.0,440.2 L 687.0,440.2 L 687.2,440.0 L 687.2,439.0 L 688.2,438.0 L 686.0,435.8 L 682.0,435.8 L 681.8,436.0 L 681.8,437.0 L 681.0,437.8 L 678.0,437.8 L 676.0,439.8 L 672.0,439.8 L 670.0,441.8 L 668.0,441.8 L 666.0,443.8 L 664.0,443.8 L 651.0,456.8 L 649.0,456.8 L 647.0,458.8 L 644.0,458.8 L 643.2,458.0 L 643.2,457.0 L 643.0,456.8 L 640.0,456.8 L 639.2,456.0 L 639.2,455.0 L 639.0,454.8 L 636.0,454.8 L 634.0,452.8 L 632.0,452.8 L 630.2,451.0 L 630.2,448.0 L 630.0,447.8 L 627.0,447.8 L 623.0,443.8 L 621.0,443.8 L 620.2,443.0 L 620.2,441.0 L 618.2,439.0 L 618.2,437.0 L 619.0,436.2 L 620.0,436.2 L 620.2,436.0 L 620.2,431.0 L 621.0,430.2 L 624.0,430.2 L 624.2,430.0 L 624.2,429.0 L 625.0,428.2 L 626.0,428.2 L 626.2,428.0 L 626.2,427.0 L 627.0,426.2 L 630.0,426.2 L 630.2,426.0 L 630.2,423.0 L 631.0,422.2 L 632.0,422.2 L 632.2,422.0 L 632.2,421.0 L 633.0,420.2 L 636.0,420.2 L 636.2,420.0 L 638.2,418.0 L 638.2,416.0 L 639.2,415.0 L 639.2,414.0 L 640.0,413.2 L 643.0,413.2 L 643.2,413.0 L 643.2,412.0 L 644.0,411.2 L 645.0,411.2 L 645.2,411.0 L 645.2,410.0 L 646.0,409.2 L 647.0,409.2 L 647.2,409.0 L 647.2,408.0 L 648.0,407.2 L 649.0,407.2 L 649.2,407.0 L 649.2,406.0 L 650.0,405.2 L 651.0,405.2 L 651.2,405.0 L 651.2,404.0 L 652.0,403.2 L 655.0,403.2 L 659.0,399.2 L 661.0,399.2 L 665.0,395.2 L 667.0,395.2 L 674.0,388.2 L 678.0,388.2 L 680.0,386.2 L 684.0,386.2 L 686.0,384.2 L 697.0,384.2 L 697.2,384.0 L 697.2,383.0 L 698.0,382.2 L 714.0,382.2 L 714.8,383.0 L 714.8,384.0 L 715.0,384.2 L 716.0,384.2 L 716.2,384.0 L 716.2,383.0 L 717.0,382.2 L 724.0,382.2 L 726.0,384.2 L 728.0,382.2 L 730.0,382.2 L 732.0,380.2 L 734.0,380.2 L 734.2,380.0 L 734.2,378.0 L 734.0,377.8 L 705.0,377.8 L 703.0,375.8 L 701.0,377.8 L 692.0,377.8 L 691.8,378.0 L 691.8,379.0 L 691.0,379.8 L 684.0,379.8 L 682.0,381.8 L 678.0,381.8 L 676.0,383.8 L 672.0,383.8 L 670.0,385.8 L 667.0,385.8 L 666.8,386.0 L 666.8,387.0 L 666.0,387.8 L 663.0,387.8 L 662.8,388.0 L 662.8,389.0 L 662.0,389.8 L 661.0,389.8 L 660.8,390.0 L 660.8,391.0 L 660.0,391.8 L 657.0,391.8 L 656.8,392.0 L 656.8,393.0 L 656.0,393.8 L 655.0,393.8 L 654.8,394.0 L 654.8,395.0 L 654.0,395.8 L 653.0,395.8 L 652.8,396.0 L 652.8,397.0 L 652.0,397.8 L 651.0,397.8 L 650.8,398.0 L 650.8,399.0 L 650.0,399.8 L 649.0,399.8 L 648.8,400.0 L 648.8,401.0 L 647.0,402.8 L 646.0,402.8 L 645.8,403.0 L 645.8,404.0 L 645.0,404.8 L 644.0,404.8 L 643.8,405.0 L 643.8,406.0 L 643.0,406.8 L 642.0,406.8 L 641.8,407.0 L 641.8,408.0 L 641.0,408.8 L 640.0,408.8 L 639.8,409.0 L 639.8,410.0 L 639.0,410.8 L 636.0,410.8 L 635.8,411.0 L 635.8,412.0 L 635.0,412.8 L 634.0,412.8 L 633.8,413.0 L 633.8,414.0 L 633.0,414.8 L 632.0,414.8 L 631.8,415.0 L 631.8,416.0 L 631.0,416.8 L 630.0,416.8 L 629.8,417.0 L 629.8,418.0 L 629.0,418.8 L 628.0,418.8 L 627.8,419.0 L 627.8,420.0 L 627.0,420.8 L 626.0,420.8 L 625.8,421.0 L 625.8,422.0 L 625.0,422.8 L 622.0,422.8 L 618.8,426.0 L 618.8,429.0 L 618.0,429.8 L 617.0,429.8 L 616.8,430.0 L 616.8,431.0 L 616.0,431.8 L 611.0,431.8 L 610.8,432.0 L 610.8,433.0 L 610.0,433.8 L 609.0,433.8 L 607.0,431.8 L 603.0,431.8 L 597.0,425.8 L 593.0,425.8 L 590.0,422.8 L 588.0,422.8 L 586.2,421.0 L 586.2,417.0 L 586.0,416.8 L 582.0,416.8 L 581.8,417.0 L 581.8,418.0 L 581.0,418.8 L 565.0,418.8 L 563.0,416.8 L 559.0,416.8 L 557.0,414.8 L 552.0,414.8 L 551.2,414.0 L 551.2,413.0 L 551.0,412.8 L 542.0,412.8 L 540.0,410.8 L 530.0,410.8 L 528.0,408.8 L 525.0,408.8 L 524.2,408.0 L 524.2,407.0 L 524.0,406.8 L 513.0,406.8 L 511.0,404.8 L 503.0,404.8 L 501.0,406.8 L 499.0,406.8 L 497.0,404.8 L 494.0,404.8 L 493.2,404.0 L 493.2,403.0 L 493.0,402.8 L 490.0,402.8 L 489.2,402.0 L 489.2,401.0 L 488.0,399.8 L 487.0,399.8 L 486.2,399.0 L 486.2,398.0 L 486.0,397.8 L 483.0,397.8 L 482.2,397.0 L 482.2,396.0 L 482.0,395.8 L 481.0,395.8 L 480.2,395.0 L 480.2,392.0 L 480.0,391.8 L 479.0,391.8 L 478.2,391.0 L 478.2,369.0 L 480.2,367.0 L 480.2,365.0 L 482.2,363.0 L 482.2,361.0 L 488.2,355.0 L 488.2,353.0 L 490.2,351.0 L 490.2,349.0 L 495.2,344.0 L 495.2,342.0 L 501.0,336.2 L 503.0,336.2 L 511.0,328.2 L 513.0,328.2 L 515.0,326.2 L 517.0,326.2 L 521.0,322.2 L 523.0,322.2 L 525.0,320.2 L 532.0,320.2 L 532.2,320.0 L 532.2,319.0 L 534.0,317.2 L 616.0,317.2 L 618.0,315.2 L 622.0,315.2 L 623.8,317.0 L 623.8,318.0 L 624.0,318.2 L 625.0,318.2 L 626.0,319.2 L 626.2,319.0 L 626.2,317.0 L 630.0,313.2 L 634.0,313.2 L 636.0,311.2 L 639.0,311.2 L 639.2,311.0 L 639.2,310.0 L 640.0,309.2 L 643.0,309.2 L 643.2,309.0 L 643.2,308.0 L 644.0,307.2 L 647.0,307.2 L 647.2,307.0 L 647.2,306.0 L 648.0,305.2 L 653.0,305.2 L 653.2,305.0 L 653.2,304.0 L 654.0,303.2 L 659.0,303.2 L 661.0,301.2 L 665.0,301.2 L 667.0,299.2 L 669.0,299.2 L 671.0,297.2 L 673.0,297.2 L 678.0,292.2 L 680.0,292.2 L 682.0,290.2 L 687.0,290.2 L 687.2,290.0 L 687.2,289.0 L 688.0,288.2 L 693.0,288.2 L 693.2,288.0 L 693.2,287.0 L 694.0,286.2 L 703.0,286.2 L 705.0,284.2 L 710.0,284.2 L 710.8,285.0 L 710.8,286.0 L 711.0,286.2 L 713.0,284.2 L 720.0,284.2 L 720.2,284.0 L 720.2,281.0 L 721.0,280.2 L 724.0,280.2 L 725.8,282.0 L 725.8,284.0 L 728.0,286.2 L 730.0,286.2 L 732.0,288.2 L 739.0,288.2 L 739.2,288.0 L 739.2,287.0 L 740.0,286.2 L 745.0,286.2 L 745.2,286.0 L 745.2,285.0 L 746.0,284.2 L 747.0,284.2 L 747.2,284.0 L 747.2,283.0 L 748.0,282.2 L 749.0,282.2 L 749.2,282.0 L 749.2,277.0 L 750.0,276.2 L 752.0,276.2 L 752.8,277.0 L 752.8,278.0 L 753.0,278.2 L 754.0,278.2 L 754.8,279.0 L 754.8,284.0 L 755.0,284.2 L 755.2,284.0 L 755.2,282.0 L 757.2,280.0 L 757.2,271.0 L 758.0,270.2 L 759.0,270.2 L 759.2,270.0 L 759.2,267.0 L 757.0,264.8 L 756.8,265.0 L 756.8,266.0 L 756.0,266.8 L 755.0,266.8 L 754.8,267.0 L 754.8,270.0 L 754.0,270.8 L 753.0,270.8 L 752.8,271.0 L 752.8,274.0 L 752.0,274.8 L 751.0,274.8 L 750.0,275.8 L 749.0,275.8 L 748.8,276.0 L 748.8,278.0 L 748.0,278.8 L 745.0,281.8 L 742.0,281.8 L 741.8,282.0 L 741.8,283.0 L 741.0,283.8 L 730.0,283.8 L 724.0,277.8 L 722.0,277.8 L 720.0,279.8 L 701.0,279.8 L 699.2,278.0 L 699.2,271.0 L 705.2,265.0 L 705.2,263.0 L 716.2,252.0 L 716.2,246.0 L 720.2,242.0 L 720.0,241.8 L 718.0,241.8 L 712.8,247.0 L 712.8,251.0 L 706.8,257.0 L 706.8,259.0 L 698.8,267.0 L 698.8,269.0 L 691.8,276.0 L 691.8,283.0 L 691.0,283.8 L 682.0,283.8 L 680.0,285.8 L 678.0,285.8 L 676.0,287.8 L 674.0,287.8 L 670.0,291.8 L 668.0,291.8 L 666.0,293.8 L 662.0,293.8 L 660.0,295.8 L 655.0,295.8 L 654.8,296.0 L 654.8,297.0 L 654.0,297.8 L 649.0,297.8 L 646.0,300.8 L 642.0,300.8 L 640.0,302.8 L 636.0,302.8 L 634.0,304.8 L 632.0,304.8 L 630.0,306.8 L 617.0,306.8 L 616.8,307.0 L 616.8,308.0 L 616.0,308.8 L 609.0,308.8 L 607.0,310.8 L 600.0,310.8 L 599.2,310.0 L 599.2,309.0 L 599.0,308.8 L 597.0,310.8 L 571.0,310.8 L 570.2,310.0 L 570.2,309.0 L 570.0,308.8 L 569.0,308.8 L 568.2,308.0 L 568.2,307.0 L 568.0,306.8 L 567.0,306.8 L 566.2,306.0 L 566.2,305.0 L 566.0,304.8 L 559.0,304.8 L 557.0,302.8 L 553.0,302.8 L 551.0,300.8 L 549.0,300.8 L 546.0,297.8 L 542.0,297.8 L 540.0,295.8 L 538.0,295.8 L 536.0,293.8 L 531.0,293.8 L 530.2,293.0 L 530.2,292.0 L 530.0,291.8 L 525.0,291.8 L 524.2,291.0 L 524.2,290.0 L 526.2,288.0 L 526.2,283.0 L 527.0,282.2 L 528.0,282.2 L 528.2,282.0 L 528.2,281.0 L 529.0,280.2 L 530.0,280.2 L 530.2,280.0 L 530.2,279.0 L 531.0,278.2 L 532.0,278.2 L 534.2,276.0 L 534.2,271.0 L 535.0,270.2 L 536.0,270.2 L 536.2,270.0 L 536.2,269.0 L 537.0,268.2 L 538.0,268.2 L 539.2,267.0 L 539.2,266.0 L 540.0,265.2 L 541.0,265.2 L 541.2,265.0 L 541.2,264.0 L 542.0,263.2 L 553.0,263.2 L 555.0,265.2 L 572.0,265.2 L 572.2,265.0 L 572.2,263.0 L 572.0,262.8 L 569.0,262.8 L 568.2,262.0 L 568.2,261.0 L 568.0,260.8 L 553.0,260.8 L 551.0,258.8 L 548.0,258.8 L 547.2,258.0 L 547.2,257.0 L 545.2,255.0 L 545.2,252.0 L 547.2,250.0 L 547.2,244.0 L 549.0,242.2 L 551.0,242.2 L 551.2,242.0 L 553.2,240.0 L 553.2,236.0 L 555.0,234.2 L 557.0,234.2 L 563.0,228.2 L 601.0,228.2 L 601.2,228.0 L 601.2,227.0 L 602.0,226.2 L 611.0,226.2 L 613.0,224.2 L 615.0,224.2 L 617.0,222.2 L 619.0,222.2 L 622.0,219.2 L 624.0,219.2 L 626.0,217.2 L 630.0,217.2 L 632.0,215.2 L 634.0,215.2 L 636.2,213.0 L 636.2,211.0 L 634.0,208.8 L 632.0,210.8 L 628.0,210.8 L 626.0,212.8 L 624.0,212.8 L 622.0,214.8 L 620.0,214.8 L 618.0,216.8 L 616.0,216.8 L 614.0,218.8 L 607.0,218.8 L 606.8,219.0 L 606.8,220.0 L 606.0,220.8 L 601.0,220.8 L 599.0,222.8 L 563.0,222.8 L 561.2,221.0 L 561.2,217.0 L 563.2,215.0 L 563.2,213.0 L 565.0,211.2 L 566.0,211.2 L 566.2,211.0 L 566.2,206.0 L 567.0,205.2 L 570.0,205.2 L 570.2,205.0 L 570.2,202.0 L 572.2,200.0 L 572.2,196.0 L 574.2,194.0 L 574.2,192.0 L 578.2,188.0 L 578.2,186.0 L 582.2,182.0 L 582.2,180.0 L 586.2,176.0 L 586.2,174.0 L 597.2,163.0 L 597.2,162.0 L 598.0,161.2 L 599.0,161.2 L 599.2,161.0 L 599.2,160.0 L 600.0,159.2 L 603.0,159.2 L 607.0,155.2 L 609.0,155.2 L 613.0,151.2 L 615.0,151.2 L 619.0,147.2 L 637.0,147.2 L 641.0,151.2 L 669.0,151.2 L 671.0,149.2 L 676.0,149.2 L 676.2,149.0 L 676.2,148.0 L 677.0,147.2 L 678.0,147.2 L 678.2,147.0 L 678.2,146.0 L 678.0,145.8 L 675.0,145.8 L 674.2,145.0 L 674.2,144.0 L 674.0,143.8 L 670.0,147.8 L 646.0,147.8 L 644.0,145.8 L 640.0,145.8 L 638.0,143.8 L 631.0,143.8 L 630.2,143.0 L 630.2,142.0 L 630.0,141.8 L 629.0,141.8 L 628.2,141.0 L 628.2,134.0 L 630.2,132.0 L 630.2,130.0 L 632.2,128.0 L 632.2,123.0 L 633.0,122.2 L 634.0,122.2 L 634.2,122.0 L 634.2,121.0 L 635.0,120.2 L 636.0,120.2 L 636.2,120.0 L 636.2,117.0 L 638.0,115.2 L 639.0,115.2 L 639.2,115.0 L 639.2,114.0 L 640.0,113.2 L 641.0,113.2 L 641.2,113.0 L 641.2,109.0 L 641.0,108.8 L 640.0,108.8 L 639.8,109.0 L 639.8,110.0 L 639.0,110.8 L 638.0,110.8 L 636.0,108.8 L 635.8,109.0 L 635.8,112.0 L 635.0,112.8 L 634.0,112.8 L 633.8,113.0 L 633.8,114.0 L 633.0,114.8 L 632.0,114.8 L 631.8,115.0 L 631.8,118.0 L 631.0,118.8 L 630.0,118.8 L 629.8,119.0 L 629.8,124.0 L 629.0,124.8 L 628.0,124.8 L 627.8,125.0 L 627.8,130.0 L 625.8,132.0 L 625.8,134.0 L 623.8,136.0 L 627.8,140.0 L 627.8,142.0 L 624.0,145.8 L 616.0,145.8 L 614.0,147.8 L 607.0,147.8 L 606.8,148.0 L 606.8,149.0 L 606.0,149.8 L 601.0,149.8 L 600.8,150.0 L 600.8,151.0 L 600.0,151.8 L 599.0,151.8 L 598.8,152.0 L 598.8,153.0 L 597.0,154.8 L 594.0,154.8 L 593.8,155.0 L 593.8,156.0 L 593.0,156.8 L 590.0,156.8 L 589.8,157.0 L 589.8,158.0 L 589.0,158.8 L 586.0,158.8 L 580.0,164.8 L 578.0,164.8 L 573.8,169.0 L 573.8,171.0 L 571.8,173.0 L 571.8,175.0 L 566.8,180.0 L 566.8,185.0 L 566.0,185.8 L 565.0,185.8 L 564.8,186.0 L 564.8,187.0 L 564.0,187.8 L 563.0,187.8 L 562.8,188.0 L 562.8,189.0 L 562.0,189.8 L 561.0,189.8 L 560.8,190.0 L 560.8,193.0 L 560.0,193.8 L 559.0,193.8 L 558.8,194.0 L 558.8,199.0 L 556.8,201.0 L 556.8,203.0 L 554.8,205.0 L 554.8,213.0 L 552.8,215.0 L 552.8,220.0 L 552.0,220.8 L 549.0,220.8 L 547.0,222.8 L 544.0,222.8 L 536.2,215.0 L 536.2,213.0 L 532.2,209.0 L 532.2,205.0 L 528.2,201.0 L 528.2,198.0 L 528.0,197.8 L 527.0,197.8 L 526.2,197.0 L 526.2,194.0 L 526.0,193.8 L 525.0,193.8 L 524.2,193.0 L 524.2,190.0 L 524.0,189.8 L 523.0,189.8 L 522.2,189.0 L 522.2,188.0 L 522.0,187.8 L 521.0,187.8 L 520.2,187.0 L 520.2,186.0 L 520.0,185.8 L 519.0,185.8 L 518.2,185.0 L 518.2,182.0 L 518.0,181.8 L 517.0,181.8 L 516.2,181.0 L 516.2,178.0 L 511.2,173.0 L 511.2,167.0 L 509.2,165.0 L 509.2,159.0 L 507.2,157.0 L 507.2,146.0 L 507.0,145.8 L 506.0,145.8 L 505.2,145.0 L 505.2,138.0 L 503.2,136.0 L 503.2,126.0 L 500.0,122.8 L 499.0,122.8 L 498.8,123.0 L 498.8,138.0 L 500.8,140.0 L 500.8,153.0 L 502.8,155.0 L 502.8,161.0 L 504.8,163.0 L 504.8,174.0 L 505.0,174.2 L 506.0,174.2 L 506.8,175.0 L 506.8,178.0 L 507.0,178.2 L 508.0,178.2 L 508.8,179.0 L 508.8,182.0 L 509.0,182.2 L 512.0,182.2 L 512.8,183.0 L 512.8,186.0 L 513.0,186.2 L 514.0,186.2 L 514.8,187.0 L 514.8,188.0 L 515.0,188.2 L 516.0,188.2 L 516.8,189.0 L 516.8,192.0 L 518.8,194.0 L 518.8,196.0 L 521.8,199.0 L 521.8,201.0 L 525.8,205.0 L 525.8,207.0 L 527.8,209.0 L 527.8,211.0 L 529.8,213.0 L 529.8,217.0 L 533.8,221.0 L 533.8,224.0 L 534.0,224.2 L 535.0,224.2 L 535.8,225.0 L 535.8,226.0 L 536.0,226.2 L 537.0,226.2 L 537.8,227.0 L 537.8,240.0 L 539.8,242.0 L 539.8,245.0 L 537.8,247.0 L 537.8,251.0 L 533.8,255.0 L 533.8,257.0 L 529.8,261.0 L 529.8,265.0 L 527.8,267.0 L 527.8,270.0 L 527.0,270.8 L 526.0,270.8 L 525.8,271.0 L 525.8,274.0 L 525.0,274.8 L 524.0,274.8 L 523.8,275.0 L 523.8,277.0 L 522.8,278.0 L 522.8,279.0 L 522.0,279.8 L 521.0,279.8 L 520.8,280.0 L 520.8,281.0 L 520.0,281.8 L 519.0,281.8 L 518.8,282.0 L 518.8,283.0 L 518.0,283.8 L 517.0,283.8 L 516.8,284.0 L 516.8,289.0 L 516.0,289.8 L 515.0,289.8 L 514.8,290.0 L 514.8,293.0 L 506.8,301.0 L 506.8,303.0 L 499.0,310.8 L 497.0,310.8 L 489.0,318.8 L 486.0,318.8 L 485.8,319.0 L 485.8,320.0 L 485.0,320.8 L 484.0,320.8 L 483.8,321.0 L 483.8,322.0 L 483.0,322.8 L 480.0,322.8 L 479.8,323.0 L 479.8,324.0 L 479.0,324.8 L 478.0,324.8 L 477.0,325.8 L 470.0,325.8 L 463.2,319.0 L 463.2,313.0 L 461.2,311.0 L 461.2,301.0 L 461.0,300.8 L 460.8,301.0 L 460.8,305.0 L 458.8,307.0 L 458.8,316.0 L 458.0,316.8 L 457.0,316.8 L 456.8,317.0 L 456.8,318.0 L 456.0,318.8 L 455.0,318.8 L 454.8,319.0 L 454.8,320.0 L 454.0,320.8 L 442.0,320.8 L 440.0,318.8 L 438.0,318.8 L 436.2,317.0 L 436.2,309.0 L 436.0,308.8 L 434.0,308.8 L 432.0,310.8 L 430.0,310.8 L 426.0,314.8 L 421.0,314.8 L 420.2,314.0 L 420.2,309.0 L 420.0,308.8 L 419.0,308.8 L 418.2,308.0 L 418.2,305.0 L 418.0,304.8 L 405.0,304.8 L 401.2,301.0 L 401.2,299.0 L 399.2,297.0 L 399.2,290.0 L 401.2,288.0 L 401.2,283.0 L 402.0,282.2 L 405.0,282.2 L 405.2,282.0 L 405.2,279.0 L 406.0,278.2 L 407.0,278.2 L 407.2,278.0 L 407.2,277.0 L 408.0,276.2 L 409.0,276.2 L 409.2,276.0 L 409.2,275.0 L 410.0,274.2 L 411.0,274.2 L 411.2,274.0 L 411.2,271.0 L 412.0,270.2 L 413.0,270.2 L 413.2,270.0 L 413.2,265.0 L 415.2,263.0 L 415.2,257.0 L 418.2,254.0 L 418.2,252.0 L 420.2,250.0 L 420.2,227.0 L 422.2,225.0 L 422.2,217.0 L 424.2,215.0 L 424.2,201.0 L 422.2,199.0 L 422.2,192.0 L 424.2,190.0 L 424.2,155.0 L 422.0,152.8 L 420.0,152.8 L 418.0,150.8 L 417.0,150.8 L 414.8,153.0 L 414.8,155.0 L 412.8,157.0 L 412.8,159.0 L 413.0,159.2 L 414.0,159.2 L 414.8,160.0 L 414.8,161.0 L 415.0,161.2 L 416.0,161.2 L 416.8,162.0 L 416.8,167.0 L 418.8,169.0 L 418.8,185.0 L 418.0,185.8 L 417.0,185.8 L 416.8,186.0 L 416.8,189.0 L 416.0,189.8 L 415.0,189.8 L 414.8,190.0 L 416.8,192.0 L 416.8,209.0 L 417.0,209.2 L 418.0,209.2 L 418.8,210.0 L 418.8,216.0 L 416.8,218.0 L 416.8,226.0 L 414.8,228.0 L 414.8,235.0 L 414.0,235.8 L 413.0,235.8 L 412.8,236.0 L 412.8,251.0 L 410.8,253.0 L 410.8,257.0 L 408.8,259.0 L 408.8,266.0 L 408.0,266.8 L 407.0,266.8 L 406.8,267.0 L 406.8,268.0 L 406.0,268.8 L 405.0,268.8 L 404.8,269.0 L 404.8,274.0 L 404.0,274.8 L 403.0,274.8 L 402.0,275.8 L 401.0,275.8 L 400.8,276.0 L 400.8,278.0 L 399.0,279.8 L 398.0,279.8 L 397.8,280.0 L 397.8,281.0 L 397.0,281.8 L 396.0,281.8 L 395.8,282.0 L 395.8,285.0 L 395.0,285.8 L 394.0,285.8 L 393.8,286.0 L 393.8,289.0 L 393.0,289.8 L 384.0,289.8 L 378.2,284.0 L 378.2,282.0 L 378.0,281.8 L 376.0,281.8 L 370.2,276.0 L 370.2,259.0 L 370.0,258.8 L 365.0,258.8 L 363.0,256.8 L 361.0,256.8 L 357.2,253.0 L 357.2,251.0 L 353.2,247.0 L 353.2,242.0 L 353.0,241.8 L 350.0,241.8 L 349.2,241.0 L 349.2,240.0 L 349.0,239.8 L 348.0,239.8 L 347.2,239.0 L 347.2,238.0 L 347.0,237.8 L 346.0,237.8 L 345.2,237.0 L 345.2,234.0 L 345.0,233.8 L 344.0,233.8 L 343.2,233.0 L 343.2,230.0 L 343.0,229.8 L 342.0,229.8 L 341.2,229.0 L 341.2,228.0 L 340.2,227.0 L 340.2,209.0 L 342.2,207.0 L 340.2,205.0 L 347.2,198.0 L 347.2,194.0 L 351.2,190.0 L 351.2,183.0 L 352.0,182.2 L 353.0,182.2 L 353.2,182.0 L 353.2,175.0 L 354.0,174.2 L 355.0,174.2 L 355.2,174.0 L 355.2,173.0 L 355.0,172.8 L 354.0,172.8 L 353.2,172.0 L 353.2,165.0 L 353.0,164.8 L 352.0,164.8 L 351.2,164.0 L 351.2,157.0 L 349.2,155.0 L 349.2,147.0 L 347.2,145.0 L 347.2,143.0 L 345.2,141.0 L 345.2,134.0 L 345.0,133.8 L 344.0,133.8 L 343.2,133.0 L 343.2,130.0 L 340.2,127.0 L 340.2,123.0 L 340.0,122.8 L 339.0,122.8 L 338.8,123.0 L 338.8,124.0 L 339.8,125.0 L 339.8,126.0 L 337.8,128.0 L 338.0,128.2 L 339.0,128.2 L 339.8,129.0 L 339.8,130.0 L 337.8,132.0 L 337.8,138.0 L 341.8,142.0 L 341.8,147.0 L 337.8,151.0 L 337.8,168.0 L 337.0,168.8 L 336.0,168.8 L 335.8,169.0 L 335.8,170.0 L 335.0,170.8 L 334.0,170.8 L 333.8,171.0 L 333.8,180.0 L 329.8,184.0 L 329.8,190.0 L 327.8,192.0 L 327.8,194.0 L 325.8,196.0 L 325.8,200.0 L 322.8,203.0 L 322.8,206.0 L 322.0,206.8 L 321.0,206.8 L 320.8,207.0 L 320.8,214.0 L 320.0,214.8 L 319.0,214.8 L 318.8,215.0 L 318.8,216.0 L 318.0,216.8 L 313.0,216.8 L 311.0,214.8 L 309.0,214.8 L 307.0,212.8 L 302.0,212.8 L 301.2,212.0 L 301.2,211.0 L 301.0,210.8 L 296.0,210.8 L 295.2,210.0 L 295.2,207.0 L 295.0,206.8 L 292.0,206.8 L 288.0,202.8 L 286.0,202.8 L 284.2,201.0 L 284.2,200.0 L 284.0,199.8 L 283.0,199.8 L 282.2,199.0 L 282.2,198.0 L 282.0,197.8 L 275.0,197.8 L 274.2,197.0 L 274.2,195.0 L 273.0,193.8 L 271.0,193.8 L 269.0,191.8 L 267.0,191.8 L 265.0,189.8 L 263.0,189.8 L 257.2,184.0 L 257.2,182.0 L 257.0,181.8 L 255.0,181.8 L 253.2,180.0 L 253.2,178.0 L 253.0,177.8 L 251.0,177.8 L 249.2,176.0 L 249.2,174.0 L 248.0,172.8 L 246.0,172.8 L 245.2,172.0 L 245.2,170.0 L 242.2,167.0 L 242.2,163.0 L 240.2,161.0 L 240.2,155.0 L 238.2,153.0 L 238.2,134.0 L 236.2,132.0 L 236.2,128.0 L 234.2,126.0 L 234.2,125.0 L 234.0,124.8 L 233.0,124.8 L 232.2,124.0 L 232.2,121.0 L 232.0,120.8 L 231.0,120.8 L 230.2,120.0 L 230.2,115.0 L 230.0,114.8 L 227.0,114.8 L 226.2,114.0 L 226.2,113.0 L 226.0,112.8 L 224.0,112.8 L 222.8,114.0 L 222.8,119.0 L 224.8,121.0 L 224.8,122.0 L 223.8,123.0 L 223.8,124.0 L 224.0,124.2 L 226.0,124.2 L 228.0,126.2 L 229.8,128.0 L 229.8,130.0 L 233.8,134.0 L 233.8,142.0 L 235.8,144.0 L 235.8,163.0 L 234.0,164.8 L 231.0,164.8 L 230.2,164.0 L 230.2,163.0 L 230.0,162.8 L 229.0,162.8 L 228.2,162.0 L 228.2,161.0 L 228.0,160.8 L 225.0,160.8 L 224.2,160.0 L 224.2,159.0 L 224.0,158.8 L 221.0,158.8 L 220.2,158.0 L 220.2,157.0 L 220.0,156.8 L 215.0,156.8 L 211.0,152.8 L 209.0,154.8 L 205.0,154.8 L 203.0,156.8 L 188.0,156.8 L 185.8,159.0 L 185.8,161.0 L 188.0,163.2 L 192.0,163.2 L 194.0,165.2 L 195.0,165.2 L 195.2,165.0 L 195.2,164.0 L 196.0,163.2 L 201.0,163.2 L 201.2,163.0 L 201.2,162.0 L 202.0,161.2 L 211.0,161.2 L 213.0,163.2 L 220.0,163.2 L 220.8,164.0 L 220.8,165.0 L 221.0,165.2 L 224.0,165.2 L 224.8,166.0 L 224.8,167.0 L 225.0,167.2 L 228.0,167.2 L 229.8,169.0 L 229.8,170.0 L 230.0,170.2 L 231.0,170.2 L 231.8,171.0 L 231.8,172.0 L 232.0,172.2 L 237.0,172.2 L 237.8,173.0 L 237.8,174.0 L 238.0,174.2 L 239.0,174.2 L 239.8,175.0 L 239.8,176.0 L 240.0,176.2 L 245.0,176.2 L 245.8,177.0 L 245.8,179.0 L 247.0,180.2 L 249.0,180.2 L 249.8,181.0 L 250.8,182.0 L 250.8,184.0 L 257.0,190.2 L 259.0,190.2 L 259.8,191.0 L 264.8,196.0 L 264.8,198.0 L 268.0,201.2 L 270.0,201.2 L 270.8,202.0 L 270.8,204.0 L 272.0,205.2 L 274.0,205.2 L 276.0,207.2 L 278.0,207.2 L 280.0,209.2 L 284.0,209.2 L 290.0,215.2 L 292.0,215.2 L 294.0,217.2 L 298.0,217.2 L 303.0,222.2 L 308.0,222.2 L 308.8,223.0 L 308.8,224.0 L 309.0,224.2 L 310.0,224.2 L 310.8,225.0 L 310.8,226.0 L 311.0,226.2 L 312.0,226.2 L 312.8,227.0 L 312.8,228.0 L 313.0,228.2 L 320.0,228.2 L 320.8,229.0 L 320.8,234.0 L 321.0,234.2 L 322.0,234.2 L 322.8,235.0 L 322.8,236.0 L 323.0,236.2 L 324.0,236.2 L 327.8,240.0 L 327.8,242.0 L 328.0,242.2 L 330.0,242.2 L 331.8,244.0 L 331.8,247.0 L 332.0,247.2 L 337.0,247.2 L 337.8,248.0 L 337.8,257.0 L 338.0,257.2 L 341.0,257.2 L 341.8,258.0 L 341.8,263.0 L 342.0,263.2 L 345.0,263.2 L 345.8,264.0 L 345.8,269.0 L 348.8,272.0 L 348.8,275.0 L 346.0,277.8 L 338.0,277.8 L 336.0,275.8 L 328.0,275.8 L 327.0,276.8 L 326.0,276.8 L 325.8,277.0 L 325.8,280.0 L 326.0,280.2 L 337.0,280.2 L 337.8,281.0 L 337.8,282.0 L 338.0,282.2 L 341.0,282.2 L 341.8,283.0 L 341.8,284.0 L 342.0,284.2 L 345.0,284.2 L 345.8,285.0 L 345.8,288.0 L 346.0,288.2 L 352.0,288.2 L 354.8,291.0 L 354.8,292.0 L 356.0,293.2 L 358.0,293.2 L 358.8,294.0 L 358.8,295.0 L 359.0,295.2 L 360.0,295.2 L 360.8,296.0 L 360.8,297.0 L 361.0,297.2 L 363.0,297.2 L 367.0,301.2 L 368.0,301.2 L 368.8,302.0 L 368.8,305.0 L 369.0,305.2 L 370.0,305.2 L 373.8,309.0 L 373.8,311.0 L 375.8,313.0 L 375.8,317.0 L 376.0,317.2 L 377.0,317.2 L 378.0,318.2 L 379.0,318.2 L 379.8,319.0 L 379.8,320.0 L 380.0,320.2 L 381.0,320.2 L 381.8,321.0 L 381.8,324.0 L 382.0,324.2 L 383.0,324.2 L 383.8,325.0 L 383.8,328.0 L 384.0,328.2 L 385.0,328.2 L 385.8,329.0 L 385.8,330.0 L 386.0,330.2 L 387.0,330.2 L 387.8,331.0 L 387.8,334.0 L 388.0,334.2 L 389.0,334.2 L 389.8,335.0 L 389.8,338.0 L 393.8,342.0 L 393.8,344.0 L 401.0,351.2 L 406.0,351.2 L 406.8,352.0 L 406.8,353.0 L 407.0,353.2 L 408.0,353.2 L 408.8,354.0 L 408.8,355.0 L 409.0,355.2 L 410.0,355.2 L 410.8,356.0 L 410.8,357.0 L 411.0,357.2 L 412.0,357.2 L 412.8,358.0 L 412.8,359.0 L 413.0,359.2 L 414.0,359.2 L 414.8,360.0 L 414.8,361.0 L 417.0,363.2 L 420.0,363.2 L 420.8,364.0 L 420.8,367.0 L 423.8,370.0 L 423.8,372.0 L 425.8,374.0 L 425.8,407.0 L 423.8,409.0 L 423.8,411.0 L 420.8,414.0 L 420.8,416.0 L 409.0,427.8 L 407.0,427.8 L 403.0,431.8 L 396.0,431.8 L 395.8,432.0 L 395.8,433.0 L 395.0,433.8 L 392.0,433.8 L 391.8,434.0 L 391.8,435.0 L 391.0,435.8 L 371.0,435.8 L 370.0,434.8 L 369.0,434.8 L 368.0,433.8 L 352.0,433.8 L 351.2,433.0 L 351.2,432.0 L 351.0,431.8 L 349.0,433.8 L 348.0,433.8 L 347.2,433.0 L 347.2,432.0 L 347.0,431.8 L 342.0,431.8 L 340.0,429.8 L 332.0,429.8 L 330.0,431.8 L 263.0,431.8 L 261.0,433.8 L 251.0,433.8 L 249.0,435.8 L 236.0,435.8 L 234.0,437.8 L 232.0,437.8 L 230.0,439.8 L 222.0,439.8 L 220.0,441.8 L 217.0,441.8 L 215.0,439.8 L 213.0,439.8 L 211.2,438.0 L 211.2,436.0 L 209.2,434.0 L 209.2,432.0 L 211.2,430.0 L 211.2,428.0 L 209.2,426.0 L 209.2,424.0 L 209.0,423.8 L 208.8,424.0 L 208.8,426.0 L 203.0,431.8 L 200.0,431.8 L 199.2,431.0 L 199.2,430.0 L 199.0,429.8 L 198.0,429.8 L 197.2,429.0 L 197.2,428.0 L 197.0,427.8 L 194.0,427.8 L 193.2,427.0 L 193.2,426.0 L 193.0,425.8 L 192.0,424.8 L 191.0,424.8 L 190.2,424.0 L 190.2,423.0 L 190.0,422.8 L 189.0,422.8 L 188.2,422.0 L 188.2,417.0 L 188.0,416.8 L 184.0,416.8 L 183.8,417.0 L 183.8,418.0 L 183.0,418.8 L 175.0,418.8 L 173.0,416.8 L 169.0,416.8 L 167.0,414.8 L 165.0,414.8 L 161.0,410.8 L 159.0,410.8 L 155.0,406.8 L 115.0,406.8 L 113.0,404.8 L 111.0,406.8 L 84.0,406.8 L 72.0,418.8 L 69.0,418.8 L 67.0,416.8 L 62.0,416.8 L 61.2,416.0 L 61.2,415.0 L 61.0,414.8 L 60.0,414.8 L 59.2,414.0 L 59.2,413.0 L 59.0,412.8 L 58.0,412.8 L 57.2,412.0 L 57.2,411.0 L 57.0,410.8 L 51.0,410.8 L 49.8,412.0 L 49.8,413.0 L 50.0,413.2 L 51.0,413.2 L 51.8,414.0 L 51.8,415.0 L 54.0,417.2 L 56.0,417.2 L 57.0,418.2 L 58.0,418.2 L 58.8,419.0 L 58.8,420.0 L 59.0,420.2 L 60.0,420.2 L 60.8,421.0 L 60.8,422.0 L 61.0,422.2 L 64.0,422.2 L 64.8,423.0 L 64.8,424.0 L 65.0,424.2 L 66.0,424.2 L 66.8,425.0 L 66.8,426.0 L 67.0,426.2 L 75.0,426.2 L 80.2,421.0 L 80.2,419.0 L 82.0,417.2 L 84.0,417.2 L 86.0,415.2 L 90.0,415.2 L 92.0,413.2 L 140.0,413.2 L 142.0,415.2 L 146.0,415.2 L 148.0,417.2 L 152.0,417.2 L 155.0,420.2 L 156.0,420.2 L 156.8,421.0 L 156.8,422.0 L 157.0,422.2 L 168.0,422.2 L 170.0,424.2 L 174.0,424.2 L 176.0,426.2 L 182.0,426.2 L 186.0,430.2 L 189.0,430.2 L 189.8,431.0 L 189.8,432.0 L 190.0,432.2 L 191.0,432.2 L 191.8,433.0 L 191.8,434.0 L 192.0,434.2 L 197.0,434.2 L 197.8,435.0 L 197.8,436.0 L 198.0,436.2 L 199.0,436.2 L 199.8,437.0 L 199.8,438.0 L 200.0,438.2 L 203.0,438.2 L 206.8,442.0 L 206.8,443.0 L 207.0,443.2 L 208.0,443.2 L 208.8,444.0 L 208.8,451.0 L 207.0,452.8 L 203.0,452.8 L 201.0,454.8 L 188.0,454.8 L 186.0,456.8 L 182.0,456.8 L 180.0,458.8 L 176.0,458.8 L 174.0,460.8 L 171.0,460.8 L 170.8,461.0 L 170.8,462.0 L 170.0,462.8 L 167.0,462.8 L 166.8,463.0 L 166.8,464.0 L 166.0,464.8 L 161.0,464.8 L 160.8,465.0 L 160.8,466.0 L 160.0,466.8 L 159.0,466.8 L 158.8,467.0 L 158.8,468.0 L 158.0,468.8 L 157.0,468.8 L 156.8,469.0 L 156.8,470.0 L 156.0,470.8 L 155.0,470.8 L 154.8,471.0 L 154.8,474.0 L 155.0,474.2 L 159.0,474.2 L 159.2,474.0 L 159.2,473.0 L 160.0,472.2 L 165.0,472.2 L 167.0,470.2 L 169.0,470.2 L 170.2,469.0 L 170.2,467.0 L 172.0,465.2 L 180.0,465.2 L 182.0,463.2 L 188.0,463.2 L 190.0,461.2 L 195.0,461.2 L 195.2,461.0 L 195.2,460.0 L 196.0,459.2 L 207.0,459.2 L 209.0,457.2 L 211.0,459.2 L 215.0,459.2 L 215.2,459.0 L 215.2,457.0 L 219.0,453.2 L 221.0,453.2 L 225.0,449.2 L 228.0,449.2 L 228.2,449.0 L 228.2,448.0 L 229.0,447.2 L 234.0,447.2 L 234.2,447.0 L 234.2,446.0 L 235.0,445.2 L 249.0,445.2 L 250.8,447.0 L 250.8,449.0 L 252.8,451.0 L 252.8,453.0 L 253.0,453.2 L 253.2,453.0 L 253.2,446.0 L 254.0,445.2 L 263.0,445.2 L 263.2,445.0 L 263.2,444.0 L 264.0,443.2 L 265.0,443.2 L 266.0,442.2 L 272.0,442.2 L 274.0,440.2 L 282.0,440.2 L 284.0,438.2 L 347.0,438.2 L 347.8,439.0 L 347.8,440.0 L 348.0,440.2 L 359.0,440.2 L 360.0,441.2 L 361.0,441.2 L 364.0,444.2 L 366.0,444.2 L 367.0,445.2 L 368.0,445.2 L 371.8,449.0 L 370.8,450.0 L 372.0,451.2 L 375.0,451.2 L 376.8,453.0 L 376.8,454.0 L 377.8,455.0 L 377.8,456.0 L 379.8,458.0 L 379.8,465.0 L 368.8,476.0 L 368.8,478.0 L 366.8,480.0 L 366.8,481.0 L 366.0,481.8 L 365.0,481.8 L 364.8,482.0 L 364.8,483.0 L 364.0,483.8 L 363.0,483.8 L 362.8,484.0 L 362.8,485.0 L 362.0,485.8 L 361.0,485.8 L 360.8,486.0 L 360.8,487.0 L 360.0,487.8 L 359.0,487.8 L 358.8,488.0 L 358.8,489.0 L 358.0,489.8 L 357.0,489.8 L 356.8,490.0 L 356.8,493.0 L 356.0,493.8 L 353.0,493.8 L 350.8,496.0 L 350.8,498.0 L 348.8,500.0 L 348.8,502.0 L 347.8,503.0 L 347.8,504.0 L 347.0,504.8 L 344.0,504.8 L 343.8,505.0 L 343.8,506.0 L 343.0,506.8 L 342.0,506.8 L 341.8,507.0 L 341.8,508.0 L 341.0,508.8 L 340.0,508.8 L 339.8,509.0 L 339.8,510.0 L 339.0,510.8 L 336.0,510.8 L 335.8,511.0 L 335.8,512.0 L 335.0,512.8 L 334.0,512.8 L 333.8,513.0 L 333.8,514.0 L 333.0,514.8 L 332.0,514.8 L 331.8,515.0 L 331.8,516.0 L 331.0,516.8 L 330.0,516.8 L 323.0,523.8 L 321.0,523.8 L 313.0,531.8 L 309.0,531.8 L 303.0,537.8 L 301.0,537.8 L 293.0,545.8 L 291.0,545.8 L 288.0,548.8 L 284.0,548.8 L 282.0,550.8 L 280.0,550.8 L 278.0,552.8 L 275.0,552.8 L 274.8,553.0 L 274.8,554.0 L 274.0,554.8 L 271.0,554.8 L 270.8,555.0 L 270.8,556.0 L 270.0,556.8 L 261.0,556.8 L 257.0,560.8 L 253.0,560.8 L 251.0,562.8 L 249.0,562.8 L 247.0,564.8 L 242.0,564.8 L 241.8,565.0 L 241.8,566.0 L 241.0,566.8 L 240.0,566.8 L 239.8,567.0 L 239.8,568.0 L 239.0,568.8 L 234.0,568.8 L 233.8,569.0 L 233.8,570.0 L 233.0,570.8 L 228.0,570.8 L 225.0,573.8 L 221.0,573.8 L 217.0,577.8 L 215.0,577.8 L 213.0,579.8 L 211.0,579.8 L 209.0,581.8 L 198.0,581.8 L 197.8,582.0 L 197.8,583.0 L 197.0,583.8 L 194.0,583.8 L 193.8,584.0 L 193.8,585.0 L 193.0,585.8 L 190.0,585.8 L 189.8,586.0 L 189.8,587.0 L 189.0,587.8 L 188.0,587.8 L 187.8,588.0 L 187.8,589.0 L 187.0,589.8 L 176.0,589.8 L 174.0,591.8 L 165.0,591.8 L 164.8,592.0 L 164.8,595.0 L 162.8,597.0 L 162.8,599.0 L 161.0,600.8 L 159.0,600.8 L 157.0,602.8 L 155.0,602.8 L 153.0,604.8 L 150.0,604.8 L 149.8,605.0 L 149.8,606.0 L 149.0,606.8 L 136.0,606.8 L 134.0,604.8 L 132.0,604.8 L 130.0,602.8 L 128.0,602.8 L 124.2,599.0 L 124.2,597.0 L 119.0,591.8 L 115.0,591.8 L 114.8,592.0 L 116.8,594.0 L 116.8,601.0 L 117.0,601.2 L 118.0,601.2 L 118.8,602.0 L 118.8,603.0 L 119.0,603.2 L 120.0,603.2 L 120.8,604.0 L 120.8,607.0 L 121.0,607.2 L 124.0,607.2 L 124.8,608.0 L 124.8,609.0 L 125.0,609.2 L 132.0,609.2 L 134.0,611.2 L 138.0,611.2 L 140.0,613.2 L 144.0,613.2 L 145.8,615.0 L 145.8,616.0 L 143.8,618.0 L 143.8,622.0 L 142.0,623.8 L 141.0,623.8 L 140.0,622.8 L 139.0,622.8 L 138.0,621.8 L 137.8,622.0 L 137.8,628.0 L 135.8,630.0 L 137.8,632.0 L 137.8,635.0 L 137.0,635.8 L 136.0,635.8 L 135.8,636.0 L 135.8,638.0 L 136.0,638.2 L 138.0,638.2 L 140.2,636.0 L 140.2,634.0 L 147.2,627.0 L 147.2,625.0 L 151.2,621.0 L 151.2,619.0 L 153.2,617.0 L 153.2,615.0 L 165.0,603.2 L 167.0,603.2 L 169.0,601.2 L 188.0,601.2 L 192.0,597.2 L 194.0,597.2 L 196.0,595.2 L 198.0,595.2 L 200.0,593.2 L 204.0,593.2 L 209.0,588.2 L 218.0,588.2 L 218.2,588.0 L 218.2,587.0 L 219.0,586.2 L 220.0,586.2 L 220.2,586.0 L 220.2,585.0 L 221.0,584.2 L 226.0,584.2 L 226.2,584.0 L 226.2,583.0 L 227.0,582.2 L 228.0,582.2 L 228.2,582.0 L 228.2,581.0 L 229.0,580.2 L 236.0,580.2 L 238.0,578.2 L 240.0,578.2 L 242.0,576.2 L 249.0,576.2 L 249.2,576.0 L 249.2,575.0 L 250.0,574.2 L 251.0,574.2 L 251.2,574.0 L 251.2,573.0 L 252.0,572.2 L 259.0,572.2 L 259.2,572.0 L 259.2,571.0 L 260.0,570.2 L 261.0,570.2 L 261.2,570.0 L 261.2,569.0 L 262.0,568.2 L 265.0,568.2 L 270.0,563.2 L 272.0,563.2 L 276.0,559.2 L 284.0,559.2 L 288.0,555.2 L 290.0,555.2 L 292.0,553.2 L 294.0,553.2 L 295.2,552.0 L 295.2,550.0 L 298.0,547.2 L 300.0,547.2 L 307.0,540.2 L 311.0,540.2 L 311.2,540.0 L 311.2,538.0 L 315.0,534.2 L 320.0,534.2 L 320.2,534.0 L 320.2,533.0 L 321.0,532.2 L 322.0,532.2 L 322.2,532.0 L 322.2,531.0 L 323.0,530.2 L 324.0,530.2 L 324.2,530.0 L 324.2,529.0 L 325.0,528.2 L 326.0,528.2 L 326.2,528.0 L 326.2,527.0 L 327.0,526.2 L 330.0,526.2 L 330.2,526.0 L 330.2,525.0 L 331.0,524.2 L 332.0,524.2 L 332.2,524.0 L 332.2,523.0 L 333.0,522.2 L 336.0,522.2 L 336.2,522.0 L 336.2,521.0 L 337.0,520.2 L 338.0,520.2 L 340.2,518.0 L 340.2,516.0 L 341.2,515.0 L 341.2,514.0 L 342.0,513.2 L 343.0,513.2 L 343.2,513.0 L 343.2,512.0 L 344.0,511.2 L 345.0,511.2 L 345.2,511.0 L 345.2,510.0 L 346.0,509.2 L 347.0,509.2 L 347.2,509.0 L 347.2,508.0 L 348.0,507.2 L 351.0,507.2 L 351.2,507.0 L 351.2,506.0 L 352.0,505.2 L 353.0,505.2 L 353.2,505.0 L 353.2,504.0 L 354.0,503.2 L 355.0,503.2 L 355.2,503.0 L 355.2,502.0 L 356.0,501.2 L 357.0,501.2 L 357.2,501.0 L 357.2,500.0 L 358.0,499.2 L 361.0,499.2 L 365.2,495.0 L 365.2,493.0 L 370.2,488.0 L 370.2,485.0 L 371.0,484.2 L 372.0,484.2 L 372.2,484.0 L 372.2,483.0 L 373.0,482.2 L 376.0,482.2 L 376.2,482.0 L 376.2,481.0 L 377.0,480.2 L 378.0,480.2 L 378.2,480.0 L 378.2,479.0 L 379.0,478.2 L 393.0,478.2 L 393.8,479.0 L 393.8,482.0 L 394.0,482.2 L 395.0,482.2 L 395.8,483.0 L 395.8,484.0 L 396.0,484.2 L 397.0,484.2 L 397.8,485.0 L 397.8,486.0 L 398.0,486.2 L 399.0,486.2 L 400.8,488.0 L 400.8,493.0 L 401.0,493.2 L 402.0,493.2 L 402.8,494.0 L 400.8,496.0 L 400.8,498.0 L 398.8,500.0 L 398.8,501.0 L 400.8,503.0 L 398.8,505.0 L 398.8,517.0 L 395.8,520.0 L 395.8,526.0 L 393.8,528.0 L 393.8,531.0 L 393.0,531.8 L 392.0,531.8 L 391.8,532.0 L 391.8,539.0 L 391.0,539.8 L 390.0,539.8 L 389.8,540.0 L 389.8,543.0 L 387.8,545.0 L 387.8,547.0 L 385.8,549.0 L 385.8,553.0 L 365.0,573.8 L 363.0,573.8 L 362.8,574.0 L 362.8,576.0 L 354.8,584.0 L 354.8,586.0 L 350.8,590.0 L 350.8,592.0 L 345.8,597.0 L 345.8,602.0 L 345.0,602.8 L 344.0,602.8 L 343.8,603.0 L 343.8,604.0 L 343.0,604.8 L 342.0,604.8 L 341.8,605.0 L 341.8,608.0 L 341.0,608.8 L 340.0,608.8 L 339.8,609.0 L 339.8,610.0 L 339.0,610.8 L 338.0,610.8 L 337.8,611.0 L 337.8,612.0 L 337.0,612.8 L 336.0,612.8 L 335.8,613.0 L 335.8,614.0 L 335.0,614.8 L 332.0,614.8 L 331.8,615.0 L 331.8,618.0 L 331.0,618.8 L 330.0,618.8 L 329.8,619.0 L 329.8,622.0 L 329.0,622.8 L 328.0,622.8 L 327.8,623.0 L 327.8,624.0 L 324.0,627.8 L 323.0,627.8 L 322.8,628.0 L 322.8,629.0 L 322.0,629.8 L 321.0,629.8 L 320.8,630.0 L 320.8,631.0 L 320.0,631.8 L 317.0,631.8 L 316.8,632.0 L 316.8,637.0 L 316.0,637.8 L 313.0,637.8 L 312.8,638.0 L 312.8,641.0 L 312.0,641.8 L 311.0,641.8 L 310.8,642.0 L 310.8,647.0 L 307.0,650.8 L 305.0,650.8 L 304.8,651.0 L 304.8,653.0 L 297.8,660.0 L 297.8,662.0 L 295.8,664.0 L 295.8,668.0 L 289.8,674.0 L 289.8,676.0 L 288.0,677.8 L 286.0,677.8 L 284.0,679.8 L 282.0,679.8 L 280.0,681.8 L 271.0,681.8 L 270.8,682.0 L 270.8,683.0 L 270.0,683.8 L 267.0,683.8 L 266.8,684.0 L 266.8,685.0 L 266.0,685.8 L 261.0,685.8 L 260.8,686.0 L 260.8,687.0 L 260.0,687.8 L 259.0,687.8 L 258.8,688.0 L 258.8,689.0 L 258.0,689.8 L 257.0,689.8 L 256.8,690.0 L 256.8,691.0 L 256.0,691.8 L 253.0,691.8 L 251.0,693.8 L 249.0,693.8 L 246.0,696.8 L 244.0,696.8 L 242.0,698.8 L 238.0,698.8 L 236.0,700.8 L 234.0,700.8 L 232.0,702.8 L 230.0,702.8 L 228.0,704.8 L 223.0,704.8 L 222.8,705.0 L 222.8,706.0 L 222.0,706.8 L 219.0,706.8 L 218.8,707.0 L 218.8,708.0 L 218.0,708.8 L 213.0,708.8 L 212.8,709.0 L 212.8,710.0 L 212.0,710.8 L 211.0,710.8 L 210.8,711.0 L 210.8,712.0 L 210.0,712.8 L 209.0,712.8 L 208.8,713.0 L 208.8,714.0 L 208.0,714.8 L 205.0,714.8 L 198.0,721.8 L 196.0,721.8 L 194.0,723.8 L 192.0,723.8 L 190.0,725.8 L 186.0,725.8 L 184.0,727.8 L 180.0,727.8 L 178.0,729.8 L 175.0,729.8 L 174.8,730.0 L 174.8,731.0 L 174.0,731.8 L 171.0,731.8 L 170.8,732.0 L 170.8,733.0 L 170.0,733.8 L 169.0,733.8 L 168.8,734.0 L 168.8,735.0 L 168.0,735.8 L 167.0,735.8 L 166.8,736.0 L 166.8,739.0 L 166.0,739.8 L 165.0,739.8 L 164.8,740.0 L 164.8,741.0 L 164.0,741.8 L 163.0,741.8 L 162.8,742.0 L 162.8,747.0 L 163.0,747.2 L 165.0,747.2 L 167.2,745.0 L 167.2,743.0 L 169.0,741.2 L 171.0,741.2 L 172.2,740.0 L 172.2,738.0 L 174.0,736.2 L 176.0,736.2 L 178.0,734.2 L 182.0,734.2 L 184.0,732.2 L 186.0,732.2 L 188.0,730.2 L 190.0,730.2 L 192.0,728.2 L 194.0,728.2 L 196.0,726.2 L 201.0,726.2 L 201.2,726.0 L 201.2,725.0 L 202.0,724.2 L 203.0,724.2 L 203.2,724.0 L 203.2,723.0 L 204.0,722.2 L 209.0,722.2 L 209.2,722.0 L 209.2,721.0 L 210.0,720.2 L 211.0,720.2 L 211.2,720.0 L 211.2,719.0 L 212.0,718.2 L 215.0,718.2 L 220.0,713.2 L 224.0,713.2 L 228.0,709.2 L 232.0,709.2 L 234.0,707.2 L 236.0,707.2 L 240.0,703.2 L 242.0,703.2 L 244.0,701.2 L 249.0,701.2 L 249.2,701.0 L 249.2,700.0 L 250.0,699.2 L 251.0,699.2 L 251.2,699.0 L 251.2,698.0 L 252.0,697.2 L 255.0,697.2 L 255.2,697.0 L 255.2,696.0 L 256.0,695.2 L 257.0,695.2 L 257.2,695.0 L 257.2,694.0 L 258.0,693.2 L 261.0,693.2 L 261.2,693.0 L 261.2,692.0 L 262.0,691.2 L 263.0,691.2 L 263.2,691.0 L 263.2,690.0 L 264.0,689.2 L 265.0,689.2 L 266.0,688.2 L 268.0,688.2 L 268.2,688.0 L 268.2,687.0 L 269.0,686.2 L 271.0,686.2 L 272.8,688.0 L 272.8,693.0 L 268.8,697.0 L 268.8,699.0 L 264.8,703.0 L 264.8,706.0 L 264.0,706.8 L 263.0,706.8 L 262.8,707.0 L 262.8,708.0 L 262.0,708.8 L 261.0,708.8 L 260.8,709.0 L 260.8,712.0 L 260.0,712.8 L 259.0,712.8 L 258.8,713.0 L 258.8,714.0 L 258.0,714.8 L 257.0,714.8 L 256.8,715.0 L 256.8,718.0 L 256.0,718.8 L 255.0,718.8 L 254.8,719.0 L 254.8,722.0 L 250.8,726.0 L 250.8,728.0 L 249.0,729.8 L 248.0,729.8 L 247.8,730.0 L 247.8,733.0 L 247.0,733.8 L 246.0,733.8 L 245.8,734.0 L 245.8,735.0 L 245.0,735.8 L 244.0,735.8 L 243.8,736.0 L 243.8,739.0 L 241.8,741.0 L 241.8,743.0 L 239.8,745.0 L 239.8,747.0 L 237.8,749.0 L 237.8,755.0 L 235.8,757.0 L 235.8,764.0 L 235.0,764.8 L 234.0,764.8 L 233.8,765.0 L 233.8,766.0 L 233.0,766.8 L 232.0,766.8 L 231.8,767.0 L 231.8,770.0 L 231.0,770.8 L 230.0,770.8 L 229.8,771.0 L 229.8,774.0 L 226.0,777.8 L 225.0,777.8 L 224.8,778.0 L 224.8,779.0 L 224.0,779.8 L 223.0,779.8 L 222.8,780.0 L 222.8,781.0 L 222.0,781.8 L 221.0,781.8 L 220.8,782.0 L 220.8,785.0 L 220.0,785.8 L 217.0,785.8 L 216.8,786.0 L 216.8,787.0 L 216.0,787.8 L 213.0,787.8 L 212.8,788.0 L 212.8,795.0 L 207.0,800.8 L 205.0,800.8 L 204.8,801.0 L 204.8,803.0 L 207.0,805.2 L 216.0,805.2 L 216.8,806.0 L 216.8,807.0 L 219.0,809.2 L 224.0,809.2 L 224.2,809.0 L 224.0,808.8 L 223.0,808.8 L 222.2,808.0 L 222.2,807.0 L 222.0,806.8 L 219.0,806.8 L 217.2,805.0 L 217.2,803.0 L 215.2,801.0 L 217.2,799.0 L 217.2,797.0 L 220.2,794.0 L 220.2,792.0 L 224.0,788.2 L 226.0,788.2 L 230.0,784.2 L 232.0,784.2 L 233.8,786.0 L 233.8,793.0 L 234.0,793.2 L 237.0,793.2 L 237.8,794.0 L 237.8,795.0 L 238.0,795.2 L 239.0,795.2 L 239.8,796.0 L 239.8,797.0 L 240.0,797.2 L 240.2,797.0 L 240.2,782.0 L 242.2,780.0 L 242.2,778.0 L 247.2,773.0 L 247.2,771.0 L 253.2,765.0 L 253.2,759.0 L 255.2,757.0 L 255.2,755.0 L 257.2,753.0 L 257.2,750.0 L 258.0,749.2 L 259.0,749.2 L 259.2,749.0 L 259.2,748.0 L 260.0,747.2 L 261.0,747.2 L 261.2,747.0 L 261.2,744.0 L 262.0,743.2 L 263.0,743.2 L 263.2,743.0 L 263.2,742.0 L 264.0,741.2 L 265.0,741.2 L 270.2,736.0 L 270.2,731.0 L 271.0,730.2 L 272.0,730.2 L 272.2,730.0 L 272.2,729.0 L 273.0,728.2 L 274.0,728.2 L 274.2,728.0 L 274.2,725.0 L 275.0,724.2 L 276.0,724.2 L 276.2,724.0 L 276.2,723.0 L 277.0,722.2 L 278.0,722.2 L 278.2,722.0 L 278.2,721.0 L 279.0,720.2 L 280.0,720.2 L 280.2,720.0 L 280.2,719.0 L 281.0,718.2 L 282.0,718.2 L 282.2,718.0 L 282.2,717.0 L 283.0,716.2 L 284.0,716.2 L 284.2,716.0 L 284.2,715.0 L 286.0,713.2 L 288.0,713.2 L 292.2,709.0 L 292.2,707.0 L 294.0,705.2 L 295.0,705.2 L 295.2,705.0 L 295.2,704.0 L 296.0,703.2 L 297.0,703.2 L 297.2,703.0 L 297.2,702.0 L 298.0,701.2 L 299.0,701.2 L 299.2,701.0 L 299.2,700.0 L 300.0,699.2 L 301.0,699.2 L 301.2,699.0 L 301.2,698.0 L 302.0,697.2 L 303.0,697.2 L 303.2,697.0 L 303.2,696.0 L 304.0,695.2 L 305.0,695.2 L 305.2,695.0 L 305.2,694.0 L 306.0,693.2 L 309.0,693.2 L 309.2,693.0 L 309.2,692.0 L 310.0,691.2 L 311.0,691.2 L 311.2,691.0 L 311.2,690.0 L 313.2,688.0 L 313.2,686.0 L 317.0,682.2 L 318.0,682.2 L 318.2,682.0 L 318.2,681.0 L 319.0,680.2 L 320.0,680.2 L 320.2,680.0 L 320.2,675.0 L 324.2,671.0 L 324.2,667.0 L 332.2,659.0 L 332.2,657.0 L 336.2,653.0 L 336.2,649.0 L 338.2,647.0 L 338.2,645.0 L 349.2,634.0 L 349.2,633.0 L 350.0,632.2 L 351.0,632.2 L 351.2,632.0 L 351.2,629.0 L 352.0,628.2 L 353.0,628.2 L 353.2,628.0 L 353.2,627.0 L 354.0,626.2 L 355.0,626.2 L 355.2,626.0 L 355.2,625.0 L 356.0,624.2 L 357.0,624.2 L 357.2,624.0 L 357.2,621.0 L 358.0,620.2 L 359.0,620.2 L 359.2,620.0 L 359.2,617.0 L 360.0,616.2 L 361.0,616.2 L 361.2,616.0 L 361.2,613.0 L 367.0,607.2 L 368.0,607.2 L 368.2,607.0 L 368.2,604.0 L 370.2,602.0 L 370.2,600.0 L 376.2,594.0 L 376.2,592.0 L 380.2,588.0 L 380.2,586.0 L 382.2,584.0 L 382.2,582.0 L 386.2,578.0 L 386.2,576.0 L 395.2,567.0 L 395.2,565.0 L 397.2,563.0 L 397.2,558.0 L 398.0,557.2 L 399.0,557.2 L 399.2,557.0 L 399.2,556.0 L 400.0,555.2 L 401.0,555.2 L 401.2,555.0 L 401.2,552.0 L 402.0,551.2 L 403.0,551.2 L 403.2,551.0 L 403.2,542.0 L 405.2,540.0 L 405.2,534.0 L 407.2,532.0 L 407.2,530.0 L 409.0,528.2 L 412.0,528.2 L 412.8,529.0 L 412.8,538.0 L 414.8,540.0 L 414.8,542.0 L 416.8,544.0 L 416.8,551.0 L 417.0,551.2 L 418.0,551.2 L 418.8,552.0 L 418.8,555.0 L 419.0,555.2 L 420.0,555.2 L 420.8,556.0 L 420.8,557.0 L 421.0,557.2 L 422.0,557.2 L 423.8,559.0 L 423.8,563.0 L 425.8,565.0 L 425.8,568.0 L 426.0,568.2 L 427.0,568.2 L 427.8,569.0 L 427.8,574.0 L 431.8,578.0 L 431.8,580.0 L 433.8,582.0 L 433.8,584.0 L 434.0,584.2 L 436.0,584.2 L 437.8,586.0 L 437.8,588.0 L 450.8,601.0 L 450.8,603.0 L 452.8,605.0 L 452.8,609.0 L 454.8,611.0 L 454.8,615.0 L 456.8,617.0 L 456.8,618.0 L 457.0,618.2 L 458.0,618.2 L 458.8,619.0 L 458.8,622.0 L 459.0,622.2 L 460.0,622.2 L 460.8,623.0 L 460.8,626.0 L 461.0,626.2 L 462.0,626.2 L 462.8,627.0 L 462.8,630.0 L 463.0,630.2 L 464.0,630.2 L 464.8,631.0 L 464.8,636.0 L 466.8,638.0 L 466.8,640.0 L 470.8,644.0 L 470.8,654.0 L 473.8,657.0 L 473.8,659.0 L 475.8,661.0 L 475.8,666.0 L 476.0,666.2 L 477.0,666.2 L 477.8,667.0 L 477.8,672.0 L 478.0,672.2 L 479.0,672.2 L 479.8,673.0 L 479.8,680.0 L 481.8,682.0 L 481.8,693.0 L 482.0,693.2 L 483.0,693.2 L 483.8,694.0 L 483.8,695.0 L 481.8,697.0 L 482.0,697.2 L 483.0,697.2 L 483.8,698.0 L 483.8,737.0 L 483.0,737.8 L 482.0,737.8 L 481.8,738.0 L 481.8,757.0 L 479.8,759.0 L 479.8,766.0 L 479.0,766.8 L 478.0,766.8 L 477.8,767.0 L 477.8,776.0 L 475.8,778.0 L 475.8,784.0 L 473.8,786.0 L 473.8,788.0 L 465.0,796.8 L 463.0,796.8 L 461.0,798.8 L 459.0,798.8 L 457.0,800.8 L 451.0,800.8 L 450.8,801.0 L 450.8,803.0 L 453.0,805.2 L 457.0,805.2 L 459.0,803.2 L 461.0,803.2 L 463.0,801.2 L 467.0,801.2 L 475.0,793.2 L 479.0,793.2 L 479.8,794.0 L 479.8,795.0 L 480.0,795.2 L 482.0,795.2 L 482.2,795.0 L 482.2,794.0 L 482.0,793.8 L 481.0,793.8 L 480.2,793.0 L 480.2,792.0 L 480.0,791.8 L 479.0,791.8 L 478.2,791.0 L 478.2,788.0 L 480.2,786.0 L 480.2,784.0 L 482.2,782.0 L 482.2,778.0 L 484.2,776.0 L 484.2,765.0 L 485.0,764.2 L 486.0,764.2 L 486.2,764.0 L 486.2,749.0 L 488.2,747.0 L 488.2,744.0 L 487.2,743.0 L 487.2,742.0 L 488.2,741.0 L 488.2,694.0 L 486.2,692.0 L 486.2,682.0 L 484.2,680.0 L 484.2,674.0 L 482.2,672.0 L 482.2,663.0 L 482.0,662.8 L 481.0,662.8 L 480.2,662.0 L 480.2,659.0 L 478.2,657.0 L 478.2,647.0 L 474.2,643.0 L 474.2,640.0 L 474.0,639.8 L 473.0,639.8 L 472.2,639.0 L 472.2,636.0 L 472.0,635.8 L 471.0,635.8 L 470.2,635.0 L 470.2,632.0 L 470.0,631.8 L 469.0,631.8 L 468.2,631.0 L 468.2,628.0 L 468.0,627.8 L 467.0,627.8 L 466.2,627.0 L 466.2,626.0 L 465.2,625.0 L 465.2,621.0 L 463.2,619.0 L 463.2,617.0 L 459.2,613.0 L 459.2,607.0 L 457.2,605.0 L 457.2,599.0 L 457.0,598.8 L 455.0,598.8 L 453.2,597.0 L 453.2,594.0 L 453.0,593.8 L 452.0,593.8 L 451.2,593.0 L 451.2,592.0 L 451.0,591.8 L 450.0,591.8 L 449.2,591.0 L 449.2,588.0 L 449.0,587.8 L 448.0,587.8 L 447.2,587.0 L 447.2,586.0 L 447.0,585.8 L 446.0,585.8 L 445.2,585.0 L 445.2,582.0 L 445.0,581.8 L 444.0,581.8 L 443.2,581.0 L 443.2,580.0 L 443.0,579.8 L 442.0,579.8 L 441.2,579.0 L 441.2,578.0 L 440.2,577.0 L 440.2,576.0 L 439.2,575.0 L 439.2,574.0 L 438.0,572.8 L 437.0,572.8 L 436.2,572.0 L 436.2,567.0 L 434.0,564.8 L 433.0,564.8 L 432.2,564.0 L 432.2,561.0 L 424.2,553.0 L 424.2,547.0 L 420.2,543.0 L 420.2,542.0 L 421.2,541.0 L 421.2,540.0 L 420.2,539.0 L 420.2,526.0 L 418.2,524.0 L 418.2,497.0 L 415.2,494.0 L 415.2,478.0 L 419.0,474.2 L 421.0,474.2 L 423.0,472.2 L 437.0,472.2 L 437.8,473.0 L 437.8,476.0 L 438.0,476.2 L 441.0,476.2 L 441.8,477.0 L 441.8,478.0 L 442.0,478.2 L 443.0,478.2 L 443.8,479.0 L 443.8,480.0 L 444.0,480.2 L 447.0,480.2 L 451.0,484.2 L 453.0,484.2 L 454.8,486.0 L 454.8,488.0 L 455.0,488.2 L 457.0,488.2 L 458.8,490.0 L 458.8,492.0 L 460.0,493.2 L 462.0,493.2 L 462.8,494.0 L 462.8,496.0 L 464.0,497.2 L 466.0,497.2 L 466.8,498.0 L 466.8,500.0 L 468.0,501.2 L 470.0,501.2 L 470.8,502.0 L 470.8,504.0 L 472.0,505.2 L 474.0,505.2 L 484.0,515.2 L 486.0,515.2 L 489.0,518.2 L 491.0,518.2 L 500.8,528.0 L 500.8,530.0 L 501.0,530.2 L 503.0,530.2 L 505.8,533.0 L 506.8,534.0 L 506.8,536.0 L 518.0,547.2 L 520.0,547.2 L 526.0,553.2 L 528.0,553.2 L 530.0,555.2 L 537.0,555.2 L 537.8,556.0 L 537.8,557.0 L 538.0,557.2 L 541.0,557.2 L 541.8,558.0 L 541.8,563.0 L 542.0,563.2 L 544.0,563.2 L 551.0,570.2 L 552.0,570.2 L 552.8,571.0 L 552.8,572.0 L 553.0,572.2 L 554.0,572.2 L 554.8,573.0 L 554.8,574.0 L 555.0,574.2 L 556.0,574.2 L 556.8,575.0 L 556.8,578.0 L 557.0,578.2 L 558.0,578.2 L 558.8,579.0 L 558.8,580.0 L 559.0,580.2 L 560.0,580.2 L 560.8,581.0 L 560.8,582.0 L 561.0,582.2 L 562.0,582.2 L 562.8,583.0 L 562.8,584.0 L 575.8,597.0 L 575.8,599.0 L 583.8,607.0 L 583.8,609.0 L 584.0,609.2 L 586.0,609.2 L 590.0,613.2 L 594.0,613.2 L 599.0,618.2 L 600.0,618.2 L 600.8,619.0 L 600.8,620.0 L 601.0,620.2 L 602.0,620.2 L 602.8,621.0 L 602.8,626.0 L 604.8,628.0 L 604.8,632.0 L 606.8,634.0 L 606.8,638.0 L 608.8,640.0 L 608.8,642.0 L 610.8,644.0 L 610.8,647.0 L 611.0,647.2 L 612.0,647.2 L 612.8,648.0 L 612.8,649.0 L 613.0,649.2 L 614.0,649.2 L 614.8,650.0 L 614.8,655.0 L 615.0,655.2 L 616.0,655.2 L 616.8,656.0 L 616.8,659.0 L 617.0,659.2 L 618.0,659.2 L 618.8,660.0 L 618.8,667.0 L 621.8,670.0 L 621.8,672.0 L 623.8,674.0 L 623.8,676.0 L 628.0,680.2 L 630.0,680.2 L 630.2,680.0 L 630.2,678.0 L 628.2,676.0 L 628.2,667.0 L 630.2,665.0 L 630.0,664.8 L 629.0,664.8 L 628.2,664.0 L 628.2,663.0 L 628.0,662.8 L 625.0,662.8 L 624.2,662.0 L 624.2,657.0 L 624.0,656.8 L 623.0,656.8 L 622.2,656.0 L 622.2,655.0 L 622.0,654.8 L 621.0,654.8 L 620.2,654.0 L 620.2,647.0 L 616.2,643.0 L 616.2,641.0 L 613.2,638.0 L 613.2,636.0 L 611.2,634.0 L 611.2,630.0 L 609.2,628.0 L 609.2,626.0 L 605.2,622.0 L 605.2,621.0 L 606.0,620.2 L 607.0,620.2 L 607.2,620.0 L 607.2,617.0 L 607.0,616.8 L 602.0,616.8 L 601.2,616.0 L 601.2,615.0 L 601.0,614.8 L 600.0,614.8 L 599.2,614.0 L 599.2,613.0 L 599.0,612.8 L 598.0,612.8 L 597.2,612.0 L 597.2,611.0 L 597.0,610.8 L 596.0,610.8 L 595.2,610.0 L 595.2,609.0 L 595.0,608.8 L 592.0,608.8 L 591.2,608.0 L 591.2,607.0 L 591.0,606.8 L 590.0,606.8 L 586.2,603.0 L 586.2,601.0 L 584.2,599.0 L 584.2,598.0 L 584.0,597.8 L 583.0,597.8 L 582.2,597.0 L 582.2,596.0 L 582.0,595.8 L 581.0,595.8 L 580.2,595.0 L 580.2,594.0 L 580.0,593.8 L 579.0,593.8 L 578.2,593.0 L 578.2,592.0 L 578.0,591.8 L 577.0,591.8 L 576.2,591.0 L 576.2,588.0 L 576.0,587.8 L 575.0,587.8 L 574.2,587.0 L 574.2,586.0 L 574.0,585.8 L 573.0,585.8 L 572.2,585.0 L 572.2,584.0 L 572.0,583.8 L 571.0,583.8 L 570.2,583.0 L 570.2,582.0 L 570.0,581.8 L 567.0,581.8 L 566.2,581.0 L 566.2,578.0 L 566.0,577.8 L 563.0,577.8 L 561.2,576.0 L 561.2,573.0 L 561.0,572.8 L 560.0,572.8 L 559.2,572.0 L 559.2,571.0 L 559.0,570.8 L 558.0,570.8 L 557.2,570.0 L 557.2,567.0 L 557.0,566.8 L 556.0,566.8 L 555.2,566.0 L 555.2,565.0 L 555.0,564.8 L 552.0,564.8 L 551.2,564.0 L 551.2,563.0 L 551.0,562.8 L 550.0,562.8 L 549.2,562.0 L 549.2,559.0 L 549.0,558.8 L 548.0,558.8 L 547.2,558.0 L 547.2,557.0 L 547.0,556.8 L 546.0,556.8 L 545.2,556.0 L 545.2,553.0 L 545.0,552.8 L 542.0,552.8 L 541.2,552.0 L 541.2,551.0 L 541.0,550.8 L 536.0,550.8 L 534.0,548.8 L 532.0,548.8 L 530.2,547.0 L 530.2,546.0 L 530.0,545.8 L 527.0,545.8 L 519.0,537.8 L 517.0,537.8 L 511.2,532.0 L 511.2,530.0 L 503.2,522.0 L 503.2,519.0 L 503.0,518.8 L 502.0,518.8 L 501.2,518.0 L 501.2,517.0 L 501.0,516.8 L 500.0,516.8 L 499.2,516.0 L 499.2,515.0 L 499.0,514.8 L 496.0,514.8 L 494.0,512.8 L 492.0,512.8 L 490.0,510.8 L 488.0,510.8 L 486.2,509.0 L 486.2,507.0 L 486.0,506.8 L 484.0,506.8 L 449.2,472.0 L 449.2,470.0 L 448.0,468.8 L 446.0,468.8 L 445.2,468.0 L 445.2,461.0 L 445.0,460.8 L 444.0,460.8 L 443.2,460.0 L 443.2,457.0 L 443.0,456.8 L 442.0,456.8 L 441.2,456.0 L 441.2,455.0 L 440.2,454.0 L 440.2,434.0 L 442.0,432.2 L 443.0,432.2 L 443.2,432.0 L 443.2,429.0 L 446.0,426.2 L 451.0,426.2 L 451.2,426.0 L 451.2,425.0 L 452.0,424.2 L 460.0,424.2 L 460.8,425.0 L 460.8,426.0 L 461.0,426.2 L 469.0,426.2 L 471.0,424.2 L 472.0,424.2 L 474.0,426.2 L 501.0,426.2 L 505.0,430.2 L 507.0,428.2 L 509.0,428.2 L 511.0,426.2 L 519.0,426.2 L 521.0,424.2 L 524.0,424.2 L 524.2,424.0 L 523.0,422.8 L 519.0,422.8 L 517.0,420.8 L 515.0,420.8 L 513.0,418.8 L 509.0,418.8 L 508.8,419.0 L 508.8,420.0 L 509.0,420.2 L 510.0,420.2 L 510.8,421.0 L 510.8,422.0 L 511.0,422.2 L 512.0,422.2 L 512.8,423.0 L 512.8,424.0 L 511.0,425.8 L 509.2,424.0 L 509.2,423.0 L 509.0,422.8 L 508.0,422.8 L 507.2,422.0 L 507.2,421.0 L 507.0,420.8 L 506.0,420.8 L 505.2,420.0 L 505.2,419.0 L 505.0,418.8 L 500.0,418.8 L 499.2,418.0 L 499.2,417.0 L 499.0,416.8 L 498.0,416.8 L 497.2,416.0 L 497.2,415.0 L 501.0,411.2 L 516.0,411.2 L 516.8,412.0 L 516.8,413.0 L 517.0,413.2 L 522.0,413.2 L 522.8,414.0 L 522.8,415.0 L 523.0,415.2 L 528.0,415.2 L 530.0,417.2 L 546.0,417.2 L 549.0,420.2 L 554.0,420.2 L 554.8,421.0 L 554.8,422.0 L 555.0,422.2 L 558.0,422.2 L 558.8,423.0 L 558.8,424.0 L 559.0,424.2 L 560.0,424.2 L 560.8,425.0 L 560.8,426.0 L 561.0,426.2 L 563.0,424.2 L 564.0,424.2 L 566.0,426.2 L 569.0,426.2 L 571.0,424.2 L 574.0,424.2 L 575.8,426.0 L 575.8,430.0 L 573.8,432.0 L 575.8,434.0 L 573.8,436.0 L 573.8,438.0 L 576.0,440.2 L 576.2,440.0 L 576.2,438.0 L 578.2,436.0 L 578.2,427.0 L 579.0,426.2 L 580.0,426.2 L 580.2,426.0 L 580.2,425.0 L 581.0,424.2 L 583.0,424.2 L 583.8,425.0 L 583.8,426.0 L 584.0,426.2 L 585.0,426.2 L 585.8,427.0 L 585.8,428.0 L 586.0,428.2 L 587.0,428.2 L 587.8,429.0 L 587.8,430.0 L 588.0,430.2 L 591.0,430.2 L 591.8,431.0 L 591.8,432.0 L 592.0,432.2 L 593.0,432.2 L 593.8,433.0 L 593.8,434.0 L 594.0,434.2 L 599.0,434.2 L 600.8,436.0 L 600.8,438.0 L 601.0,438.2 L 609.0,438.2 L 622.0,451.2 L 624.0,451.2 L 625.8,453.0 L 625.8,455.0 L 626.0,455.2 L 628.0,455.2 L 632.0,459.2 L 634.0,459.2 L 638.0,463.2 L 640.0,463.2 L 641.8,465.0 L 641.8,471.0 L 643.8,473.0 L 643.8,475.0 L 649.0,480.2 L 651.0,480.2 L 651.2,480.0 L 651.2,479.0 L 652.0,478.2 L 656.0,478.2 L 656.8,479.0 L 656.8,480.0 L 657.0,480.2 L 658.0,480.2 L 658.8,481.0 L 658.8,482.0 L 659.0,482.2 L 660.0,482.2 L 660.8,483.0 L 660.8,485.0 L 660.0,485.8 L 659.0,485.8 L 658.8,486.0 L 666.8,494.0 L 666.8,500.0 L 668.0,501.2 L 672.0,501.2 L 673.8,503.0 L 673.8,505.0 L 675.8,507.0 L 675.8,513.0 L 677.8,515.0 L 677.8,518.0 L 678.0,518.2 L 679.0,518.2 L 679.8,519.0 L 679.8,520.0 L 680.0,520.2 L 683.0,520.2 L 683.8,521.0 L 683.8,524.0 L 684.0,524.2 L 685.0,524.2 L 685.8,525.0 L 685.8,526.0 L 686.0,526.2 L 689.0,526.2 L 689.8,527.0 L 689.8,528.0 L 690.0,528.2 L 691.0,528.2 L 691.8,529.0 L 691.8,530.0 L 692.0,530.2 L 693.0,530.2 L 698.8,536.0 L 698.8,538.0 L 702.8,542.0 L 702.8,543.0 L 703.0,543.2 L 706.0,543.2 L 706.8,544.0 L 706.8,545.0 L 707.0,545.2 L 708.0,545.2 L 708.8,546.0 L 708.8,547.0 L 709.0,547.2 L 712.0,547.2 L 716.0,551.2 L 720.0,551.2 L 721.8,553.0 L 721.8,555.0 L 722.0,555.2 L 738.0,555.2 L 740.0,553.2 L 743.0,553.2 L 743.2,553.0 L 743.2,552.0 L 744.0,551.2 L 745.0,551.2 L 745.2,551.0 L 745.0,550.8 L 738.0,550.8 L 736.0,552.8 L 734.0,550.8 L 732.0,550.8 L 730.0,548.8 L 728.0,548.8 L 725.0,545.8 L 723.0,545.8 L 721.0,543.8 L 715.0,543.8 L 711.0,539.8 L 709.0,539.8 L 707.2,538.0 L 707.2,536.0 L 697.0,525.8 L 695.0,525.8 L 690.0,520.8 L 688.0,520.8 L 684.2,517.0 L 684.2,515.0 L 680.2,511.0 L 680.2,507.0 L 678.2,505.0 L 678.2,503.0 L 676.2,501.0 L 676.2,497.0 L 674.2,495.0 L 674.2,492.0 L 674.0,491.8 L 673.0,491.8 L 672.2,491.0 L 672.2,488.0 L 672.0,487.8 L 671.0,487.8 L 670.2,487.0 L 670.2,485.0 L 671.0,484.2 L 672.0,484.2 L 674.0,486.2 L 688.0,486.2 L 690.0,488.2 L 695.0,488.2 L 699.0,484.2 L 730.0,484.2 L 732.0,486.2 L 741.0,486.2 L 741.8,487.0 L 741.8,488.0 L 742.0,488.2 L 751.0,488.2 L 753.0,490.2 L 755.0,490.2 L 756.8,492.0 L 756.8,497.0 L 757.0,497.2 L 760.0,497.2 L 768.0,505.2 L 770.0,505.2 L 770.2,505.0 L 770.2,504.0 L 771.0,503.2 L 772.0,503.2 L 772.2,503.0 L 770.2,501.0 L 770.2,499.0 L 761.2,490.0 L 761.2,487.0 L 762.2,486.0 L 762.2,485.0 L 763.0,484.2 L 764.0,484.2 L 764.2,484.0 L 764.0,483.8 L 761.0,483.8 L 760.8,484.0 L 760.8,485.0 L 760.0,485.8 L 755.0,485.8 L 753.0,483.8 L 751.0,483.8 L 749.0,481.8 L 744.0,481.8 L 743.2,481.0 L 743.2,469.0 L 745.2,467.0 L 745.2,463.0 L 747.2,461.0 L 747.2,458.0 L 748.0,457.2 L 749.0,457.2 L 749.2,457.0 L 749.2,456.0 L 750.0,455.2 L 751.0,455.2 L 751.2,455.0 L 751.2,452.0 L 752.0,451.2 L 755.0,451.2 L 772.2,434.0 L 772.2,433.0 L 773.0,432.2 L 774.0,432.2 L 774.2,432.0 z\" /></g></g></svg>"
      ],
      "text/plain": [
       "<shapely.geometry.multipolygon.MultiPolygon at 0x1d0be2d8048>"
      ]
     },
     "execution_count": 4,
     "metadata": {},
     "output_type": "execute_result"
    }
   ],
   "source": [
    "working_section = 'isthmus'\n",
    "base_filename = sections[working_section][len('.\\img\\polygons_'):- len('.pickle')]\n",
    "print(f'Base filename: {base_filename}')\n",
    "with open(sections[working_section], 'rb') as pickled_source:\n",
    "    polygons = pickle.load(pickled_source)\n",
    "MultiPolygon(polygons)"
   ]
  },
  {
   "cell_type": "markdown",
   "metadata": {},
   "source": [
    "After the previous step, the cell distributions can be computed\n",
    "\n",
    "## Generate the hypothetical cell distributions\n",
    "\n",
    "Firstly, we must identify the segments in each edge of the polygons. Then, the cells are generated from them.  "
   ]
  },
  {
   "cell_type": "code",
   "execution_count": 20,
   "metadata": {},
   "outputs": [
    {
     "name": "stdout",
     "output_type": "stream",
     "text": [
      "Computed 4428 segments in all polygons\n",
      "Generated 4428 cells. The distribution is: 3295 secretory, 1133 ciliary\n",
      "MAX NUMBER OF SOURCE POINTS PER CELL is 11, 34 cells have such many cells\n",
      "No cells with 0 source points\n",
      "source points: 15396, max source points per cell: 11\n"
     ]
    }
   ],
   "source": [
    "avg_cell_diameter = 4.5\n",
    "threshold_secretory = 0.00000001\n",
    "\n",
    "segments = environment.identify_segments_in_polygons(polygons, avg_cell_diameter)\n",
    "print(f'Computed {len(segments)} segments in all polygons')\n",
    "\n",
    "cells, secretory, ciliary, _ = environment.produce_cells(segments, True, threshold_secretory)\n",
    "print(f'Generated {len(cells)} cells. The distribution is: {len(secretory)} secretory, {len(ciliary)} ciliary')\n",
    "\n",
    "source_points = environment.generate_source_points_from_cells(secretory, debug_log=False)\n",
    "print(f\"source points: {len(source_points[0]['location'])}, max source points per cell: {source_points[1]}\")"
   ]
  },
  {
   "cell_type": "markdown",
   "metadata": {},
   "source": [
    "------\n",
    "# Full experiments\n",
    "\n",
    "[back to start](#Dependencies)"
   ]
  },
  {
   "cell_type": "markdown",
   "metadata": {},
   "source": [
    "# UTJ\n",
    "Expected run time: from 69 sec to 2.26 sec, finally 2.87 sec with filtering"
   ]
  },
  {
   "cell_type": "code",
   "execution_count": 3,
   "metadata": {},
   "outputs": [
    {
     "name": "stdout",
     "output_type": "stream",
     "text": [
      "Base filename: 3-1to3-5_L2-3_bl-utj\n",
      "Computed 6871 segments in all polygons. Elapsed 0.29\n",
      "Generated 6871 cells. The distribution is: 3741 secretory and 3130 ciliary. Elapsed 0.62\n",
      "Removed 60  potentially conflictive source points.As a result, 16 secretory cells have no source points. These will become ciliary cells.\n",
      "Updated lists: 6871 cells, 3725 secretory, 3146 ciliary\n",
      "Filtered source points. Elapsed 0.81\n",
      "Exported file: ./distributions/3-1to3-5_L2-3_bl-utj_30-70_s-c_secretory.pickle\n",
      "Exported file: ./distributions/3-1to3-5_L2-3_bl-utj_30-70_s-c_ciliary.pickle\n",
      "Exported file: ./distributions/3-1to3-5_L2-3_bl-utj_30-70_s-c_allCells.pickle\n",
      "EVs generated. Elapsed 0.00299072265625\n",
      "file saved as: D:\\iterations\\v31\\3-1to3-5_L2-3_bl-utj_0.0k_intCol_newEvs\\0_0.0k_intCol_newEVs.xml\n",
      "Total time: 3.00 seconds\n"
     ]
    }
   ],
   "source": [
    "# produce the EVs\n",
    "environment.setup_experiment(sections=sections, version=31, working_section='utj', new_evs_interval_seconds=15, \n",
    "                             new_evs_threshold=0.95, threshold_secretory=0.3, n = 10)"
   ]
  },
  {
   "cell_type": "markdown",
   "metadata": {},
   "source": [
    "------\n",
    "\n",
    "# Isthmus\n",
    "\n",
    "Expected run time: 33 sec, now ~ 2.17 sec"
   ]
  },
  {
   "cell_type": "code",
   "execution_count": 2,
   "metadata": {},
   "outputs": [
    {
     "name": "stdout",
     "output_type": "stream",
     "text": [
      "Base filename: 3-1to3-5_L2-3_tl-isth_fixed\n",
      "Computed 4428 segments in all polygons. Elapsed 0.16\n",
      "OLD METHOD: Generated 4428 cells. The distribution is: 3292 secretory and {len(ciliary)} ciliary. Elapsed {time.time()-s:.2f}\n"
     ]
    },
    {
     "ename": "AttributeError",
     "evalue": "'list' object has no attribute 'location'",
     "output_type": "error",
     "traceback": [
      "\u001b[1;31m---------------------------------------------------------------------------\u001b[0m",
      "\u001b[1;31mAttributeError\u001b[0m                            Traceback (most recent call last)",
      "\u001b[1;32m<ipython-input-2-01f2ab127516>\u001b[0m in \u001b[0;36m<module>\u001b[1;34m\u001b[0m\n\u001b[0;32m      1\u001b[0m \u001b[1;31m# load the section's polygons\u001b[0m\u001b[1;33m\u001b[0m\u001b[1;33m\u001b[0m\u001b[1;33m\u001b[0m\u001b[0m\n\u001b[0;32m      2\u001b[0m environment.setup_experiment(version=33, working_section='isthmus', new_evs_interval_seconds=2, \n\u001b[1;32m----> 3\u001b[1;33m                              new_evs_threshold=0.9, threshold_secretory=0.001, n= 0)\n\u001b[0m",
      "\u001b[1;32mD:\\Development\\python\\ev_diffusion_tools\\dev\\ev_model\\environment.py\u001b[0m in \u001b[0;36msetup_experiment\u001b[1;34m(version, working_section, degrees_of_freedom, dt, avg_cell_diameter, threshold_secretory, target_spts_per_cell, new_evs_interval_seconds, new_evs_threshold, n, debug_log, plot_distributions, return_distributions)\u001b[0m\n\u001b[0;32m    624\u001b[0m     \u001b[0ms\u001b[0m \u001b[1;33m=\u001b[0m \u001b[0mtime\u001b[0m\u001b[1;33m.\u001b[0m\u001b[0mtime\u001b[0m\u001b[1;33m(\u001b[0m\u001b[1;33m)\u001b[0m\u001b[1;33m\u001b[0m\u001b[1;33m\u001b[0m\u001b[0m\n\u001b[0;32m    625\u001b[0m     cells_g, secretory_g, ciliary_g = environment.produce_cell_grids(segments,\n\u001b[1;32m--> 626\u001b[1;33m         True, threshold_secretory, grid_size=np.ceil(avg_cell_diameter))\n\u001b[0m\u001b[0;32m    627\u001b[0m     print(f'Generated {cells_g.total_elements} cells. The distribution is: '\n\u001b[0;32m    628\u001b[0m         \u001b[1;34m'{secretory_g.total_elements} secretory and {ciliary_g.total_elements}'\u001b[0m\u001b[1;33m\u001b[0m\u001b[1;33m\u001b[0m\u001b[0m\n",
      "\u001b[1;32mD:\\Development\\python\\ev_diffusion_tools\\dev\\ev_model\\environment.py\u001b[0m in \u001b[0;36mproduce_cell_grids\u001b[1;34m(segments, probabilistic, threshold_secretory, largest_ev_radius_um, debug_log, grid_size)\u001b[0m\n\u001b[0;32m    371\u001b[0m         \u001b[1;32mif\u001b[0m \u001b[0msegment\u001b[0m\u001b[1;33m.\u001b[0m\u001b[0mdistance_p1p2\u001b[0m \u001b[1;33m>\u001b[0m \u001b[0mlargest_ev_diameter_um\u001b[0m\u001b[1;33m:\u001b[0m\u001b[1;33m\u001b[0m\u001b[1;33m\u001b[0m\u001b[0m\n\u001b[0;32m    372\u001b[0m             if at_safe_distance_to_near_secretory_cells(secretory, segment,\n\u001b[1;32m--> 373\u001b[1;33m                     shortest_secretory_separation):\n\u001b[0m\u001b[0;32m    374\u001b[0m                 \u001b[1;32mif\u001b[0m \u001b[0mprobabilistic\u001b[0m \u001b[1;32mand\u001b[0m \u001b[0mrandom\u001b[0m\u001b[1;33m.\u001b[0m\u001b[0mrandom\u001b[0m\u001b[1;33m(\u001b[0m\u001b[1;33m)\u001b[0m \u001b[1;33m>\u001b[0m \u001b[0mthreshold_secretory\u001b[0m\u001b[1;33m:\u001b[0m\u001b[1;33m\u001b[0m\u001b[1;33m\u001b[0m\u001b[0m\n\u001b[0;32m    375\u001b[0m                     \u001b[0mpasses_secretory_checks\u001b[0m \u001b[1;33m=\u001b[0m \u001b[1;32mTrue\u001b[0m\u001b[1;33m\u001b[0m\u001b[1;33m\u001b[0m\u001b[0m\n",
      "\u001b[1;32mD:\\Development\\python\\ev_diffusion_tools\\dev\\ev_model\\environment.py\u001b[0m in \u001b[0;36mat_safe_distance_to_near_secretory_cells\u001b[1;34m(secretory, segment, shortest_secretory_separation)\u001b[0m\n\u001b[0;32m    332\u001b[0m     \u001b[1;32mfor\u001b[0m \u001b[0mcell_id\u001b[0m \u001b[1;32min\u001b[0m \u001b[0mcell_range\u001b[0m\u001b[1;33m:\u001b[0m\u001b[1;33m\u001b[0m\u001b[1;33m\u001b[0m\u001b[0m\n\u001b[0;32m    333\u001b[0m         \u001b[1;32mfor\u001b[0m \u001b[0msecretory_cell\u001b[0m \u001b[1;32min\u001b[0m \u001b[0msecretory\u001b[0m\u001b[1;33m[\u001b[0m\u001b[0mcell_id\u001b[0m\u001b[1;33m]\u001b[0m\u001b[1;33m.\u001b[0m\u001b[0mvalues\u001b[0m\u001b[1;33m(\u001b[0m\u001b[1;33m)\u001b[0m\u001b[1;33m:\u001b[0m\u001b[1;33m\u001b[0m\u001b[1;33m\u001b[0m\u001b[0m\n\u001b[1;32m--> 334\u001b[1;33m             \u001b[0md\u001b[0m \u001b[1;33m=\u001b[0m \u001b[0mevmetry\u001b[0m\u001b[1;33m.\u001b[0m\u001b[0mtwo_points_distance\u001b[0m\u001b[1;33m(\u001b[0m\u001b[0msegment\u001b[0m\u001b[1;33m.\u001b[0m\u001b[0mlocation\u001b[0m\u001b[1;33m,\u001b[0m \u001b[0msecretory_cell\u001b[0m\u001b[1;33m.\u001b[0m\u001b[0mlocation\u001b[0m\u001b[1;33m)\u001b[0m\u001b[1;33m\u001b[0m\u001b[1;33m\u001b[0m\u001b[0m\n\u001b[0m\u001b[0;32m    335\u001b[0m             \u001b[0mdp\u001b[0m \u001b[1;33m=\u001b[0m \u001b[0mnp\u001b[0m\u001b[1;33m.\u001b[0m\u001b[0mdot\u001b[0m\u001b[1;33m(\u001b[0m\u001b[0msegment\u001b[0m\u001b[1;33m.\u001b[0m\u001b[0munit_normal\u001b[0m\u001b[1;33m,\u001b[0m \u001b[0msecretory_cell\u001b[0m\u001b[1;33m.\u001b[0m\u001b[0munit_normal\u001b[0m\u001b[1;33m)\u001b[0m\u001b[1;33m\u001b[0m\u001b[1;33m\u001b[0m\u001b[0m\n\u001b[0;32m    336\u001b[0m             \u001b[1;32mif\u001b[0m \u001b[0mdp\u001b[0m \u001b[1;33m<\u001b[0m \u001b[1;36m1.\u001b[0m \u001b[1;32mand\u001b[0m \u001b[0md\u001b[0m \u001b[1;33m<\u001b[0m \u001b[0mshortest_secretory_separation\u001b[0m\u001b[1;33m:\u001b[0m\u001b[1;33m\u001b[0m\u001b[1;33m\u001b[0m\u001b[0m\n",
      "\u001b[1;31mAttributeError\u001b[0m: 'list' object has no attribute 'location'"
     ]
    }
   ],
   "source": [
    "# load the section's polygons\n",
    "environment.setup_experiment(version=33, working_section='isthmus', new_evs_interval_seconds=2, \n",
    "                             new_evs_threshold=0.9, threshold_secretory=0.001, n= 0)"
   ]
  },
  {
   "cell_type": "markdown",
   "metadata": {},
   "source": [
    "------\n",
    "\n",
    "# IA junction\n",
    "Expected run time: from 1002 sec (~16min) to 7.6 sec"
   ]
  },
  {
   "cell_type": "code",
   "execution_count": 6,
   "metadata": {},
   "outputs": [
    {
     "name": "stdout",
     "output_type": "stream",
     "text": [
      "Base filename: 3-1to3-5_L2-3_c\n",
      "Computed 30922 segments in all polygons. Elapsed 1.10\n",
      "Generated 30922 cells. The distribution is: 12328 secretory and 18594 ciliary. Elapsed 2.25\n",
      "Removed 90  potentially conflictive source points.As a result, 27 secretory cells have no source points. These will become ciliary cells.\n",
      "Updated lists: 30922 cells, 12301 secretory, 18621 ciliary\n",
      "Filtered source points. Elapsed 1.17\n",
      "Exported file: ./distributions/3-1to3-5_L2-3_c_50-50_s-c_secretory.pickle\n",
      "Exported file: ./distributions/3-1to3-5_L2-3_c_50-50_s-c_ciliary.pickle\n",
      "Exported file: ./distributions/3-1to3-5_L2-3_c_50-50_s-c_allCells.pickle\n",
      "EVs generated. Elapsed 0.008975982666015625\n",
      "file saved as: D:\\iterations\\v31\\3-1to3-5_L2-3_c_0.0k_intCol_newEvs\\0_0.0k_intCol_newEVs.xml\n",
      "Total time: 10.36 seconds\n"
     ]
    }
   ],
   "source": [
    "# produce the EVs\n",
    "environment.setup_experiment(sections=sections, version=31, working_section='ia-junction', new_evs_interval_seconds=15, new_evs_threshold=0.95, threshold_secretory=0.5)"
   ]
  },
  {
   "cell_type": "markdown",
   "metadata": {},
   "source": [
    "------\n",
    "\n",
    "# Ampulla\n",
    "Expected runtime: 5068 sec ~ 84 min, now 15 sec"
   ]
  },
  {
   "cell_type": "code",
   "execution_count": 7,
   "metadata": {},
   "outputs": [
    {
     "name": "stdout",
     "output_type": "stream",
     "text": [
      "Base filename: 3-1to3-5_L2-3_tr-amp_2\n",
      "Computed 58979 segments in all polygons. Elapsed 2.06\n",
      "Generated 58979 cells. The distribution is: 28974 secretory and 30005 ciliary. Elapsed 4.76\n",
      "Removed 20  potentially conflictive source points.As a result, 0 secretory cells have no source points. These will become ciliary cells.\n",
      "Updated lists: 58979 cells, 28974 secretory, 30005 ciliary\n",
      "Filtered source points. Elapsed 1.64\n",
      "Exported file: ./distributions/3-1to3-5_L2-3_tr-amp_2_50-50_s-c_secretory.pickle\n",
      "Exported file: ./distributions/3-1to3-5_L2-3_tr-amp_2_50-50_s-c_ciliary.pickle\n",
      "Exported file: ./distributions/3-1to3-5_L2-3_tr-amp_2_50-50_s-c_allCells.pickle\n",
      "EVs generated. Elapsed 0.022939443588256836\n",
      "file saved as: D:\\iterations\\v31\\3-1to3-5_L2-3_tr-amp_2_0.0k_intCol_newEvs\\0_0.0k_intCol_newEVs.xml\n",
      "Total time: 20.51 seconds\n"
     ]
    }
   ],
   "source": [
    "# produce the EVs\n",
    "environment.setup_experiment(sections=sections, version=31, working_section='ampulla', new_evs_interval_seconds=15, new_evs_threshold=0.95, threshold_secretory=0.5)"
   ]
  },
  {
   "cell_type": "markdown",
   "metadata": {},
   "source": [
    "------\n",
    "\n",
    "# Infundibulum\n",
    "Expected runtime: 1969 sec ~ 32 min, now 10 sec"
   ]
  },
  {
   "cell_type": "code",
   "execution_count": 8,
   "metadata": {},
   "outputs": [
    {
     "name": "stdout",
     "output_type": "stream",
     "text": [
      "Base filename: 3-1to3-5_L2-3_br-inf\n",
      "Computed 43577 segments in all polygons. Elapsed 1.53\n",
      "Generated 43577 cells. The distribution is: 17414 secretory and 26163 ciliary. Elapsed 3.14\n",
      "Removed 126  potentially conflictive source points.As a result, 50 secretory cells have no source points. These will become ciliary cells.\n",
      "Updated lists: 43577 cells, 17364 secretory, 26213 ciliary\n",
      "Filtered source points. Elapsed 1.47\n",
      "Exported file: ./distributions/3-1to3-5_L2-3_br-inf_50-50_s-c_secretory.pickle\n",
      "Exported file: ./distributions/3-1to3-5_L2-3_br-inf_50-50_s-c_ciliary.pickle\n",
      "Exported file: ./distributions/3-1to3-5_L2-3_br-inf_50-50_s-c_allCells.pickle\n",
      "EVs generated. Elapsed 0.011968135833740234\n",
      "file saved as: D:\\iterations\\v31\\3-1to3-5_L2-3_br-inf_0.0k_intCol_newEvs\\0_0.0k_intCol_newEVs.xml\n",
      "Total time: 14.43 seconds\n"
     ]
    }
   ],
   "source": [
    "environment.setup_experiment(sections=sections, version=31, working_section='infundibulum', new_evs_interval_seconds=15, new_evs_threshold=0.95, threshold_secretory=0.5)"
   ]
  },
  {
   "cell_type": "code",
   "execution_count": null,
   "metadata": {},
   "outputs": [],
   "source": []
  }
 ],
 "metadata": {
  "kernelspec": {
   "display_name": "Python 3",
   "language": "python",
   "name": "python3"
  },
  "language_info": {
   "codemirror_mode": {
    "name": "ipython",
    "version": 3
   },
   "file_extension": ".py",
   "mimetype": "text/x-python",
   "name": "python",
   "nbconvert_exporter": "python",
   "pygments_lexer": "ipython3",
   "version": "3.6.12"
  }
 },
 "nbformat": 4,
 "nbformat_minor": 4
}

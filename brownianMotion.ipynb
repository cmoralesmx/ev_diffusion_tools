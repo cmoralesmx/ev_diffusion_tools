{
 "cells": [
  {
   "cell_type": "markdown",
   "metadata": {},
   "source": [
    "# Brownian motion\n",
    "\n",
    "Simulation using one particle in two dimmensions  "
   ]
  },
  {
   "cell_type": "code",
   "execution_count": 3,
   "metadata": {},
   "outputs": [],
   "source": [
    "from scipy import stats, constants\n",
    "from scipy.stats import norm, poisson\n",
    "#from ipywidgets import interact\n",
    "from itertools import cycle\n",
    "import numpy as np\n",
    "import matplotlib.pyplot as plt\n",
    "from random import random, normalvariate\n",
    "%matplotlib inline"
   ]
  },
  {
   "cell_type": "markdown",
   "metadata": {},
   "source": [
    "## As a random walk process  \n",
    "\n",
    "Assumptions:\n",
    "- The number of times a particle can change direction in a certain amount of time can be modelled as a discrete variable\n",
    "- A change on vesicle direction at any step in time is independent from its state in the previous step\n",
    "- We have a constant time step of one second\n",
    "\n",
    "An equation to model Brownian motion follows\n",
    "$$\n",
    "X(0) = X_0\n",
    "$$\n",
    "$$\n",
    "X(t+dt) = X(t) + N(0, 1; t, t+dt)\n",
    "$$\n",
    "Where $N(0,1,t_1,t_2)$ is a normally distributed random variable with mean 0 and variance 1, and is independet from $N(0,1,t_3,t_4)$ [source](https://en.wikipedia.org/wiki/Brownian_motion)  \n",
    "\n",
    "We simulate this by sampling from a Normal distribution at each step.\n",
    "\n",
    "The step function simulates the accumulated stimulus for the particle movement, caused by the continuous bombardment of particles to the vesicle. This stimulus will produce the particle displacement after collisions are computed."
   ]
  },
  {
   "cell_type": "code",
   "execution_count": 2,
   "metadata": {
    "collapsed": true,
    "jupyter": {
     "outputs_hidden": true
    }
   },
   "outputs": [],
   "source": [
    "def random_walk_2d_stimulus():\n",
    "    return (norm.rvs(loc=0, scale=1.0), norm.rvs(loc=0, scale=1.0))"
   ]
  },
  {
   "cell_type": "code",
   "execution_count": 3,
   "metadata": {
    "collapsed": true,
    "jupyter": {
     "outputs_hidden": true
    }
   },
   "outputs": [],
   "source": [
    "def collisions(curr_x, curr_y, stimulus, borders):\n",
    "    new_x = curr_x + stimulus[0]\n",
    "    new_y = curr_y + stimulus[1]\n",
    "    \n",
    "    # left wall\n",
    "    if new_x < -15:\n",
    "        pass\n",
    "    # right wall\n",
    "    if new_x > 15:\n",
    "        pass\n",
    "    if new_y < -15:\n",
    "        pass\n",
    "    if new_y > 15:\n",
    "        pass\n",
    "\n",
    "def couldCollide(EV, stimulus, borders):\n",
    "    return False\n",
    "    closeTo = []\n",
    "    for i in range(len(borders)):\n",
    "        # check if the curr_x crosses any of the vertices coords\n",
    "        for x in borders[i,:,0]:\n",
    "            if EV.pos_x + stimulus[0] < x:\n",
    "                closeTo.append(i)\n",
    "        for x in borders[i,:,1]:\n",
    "            pass"
   ]
  },
  {
   "cell_type": "code",
   "execution_count": 4,
   "metadata": {
    "collapsed": true,
    "jupyter": {
     "outputs_hidden": true
    }
   },
   "outputs": [],
   "source": [
    "class EV:\n",
    "    def __init__(self, x = 0., y=0.):\n",
    "        self.initial_x = x\n",
    "        self.initial_y = y\n",
    "        self.pos_x = [x]\n",
    "        self.pos_y = [y]\n",
    "        #self.stim_x = []\n",
    "        #self.stim_y = []\n",
    "    \n",
    "    def addStimulus(self, stim):\n",
    "        x = self.pos_x[len(self.pos_x) - 1]\n",
    "        y = self.pos_y[len(self.pos_y) - 1]\n",
    "        \n",
    "        self.pos_x.append(x + stim[0])\n",
    "        self.pos_y.append(y + stim[1])\n",
    "        #self.stim_x.append(stimulus[0])\n",
    "        #self.stim_y.append(stimulus[1])"
   ]
  },
  {
   "cell_type": "code",
   "execution_count": 9,
   "metadata": {},
   "outputs": [
    {
     "data": {
      "text/plain": [
       "1"
      ]
     },
     "execution_count": 9,
     "metadata": {},
     "output_type": "execute_result"
    }
   ],
   "source": [
    "simulatedSteps"
   ]
  },
  {
   "cell_type": "code",
   "execution_count": 7,
   "metadata": {},
   "outputs": [
    {
     "name": "stdout",
     "output_type": "stream",
     "text": [
      "(0.3179157283769977, 0.13362415592892496)\n",
      "x: 0.0 y: 0.0\n"
     ]
    },
    {
     "data": {
      "image/png": "[encoded data removed]",
      "text/plain": [
       "<Figure size 432x288 with 1 Axes>"
      ]
     },
     "metadata": {
      "needs_background": "light"
     },
     "output_type": "display_data"
    }
   ],
   "source": [
    "# octagonal borders, needs to be declared as borders, not vertex\n",
    "#borders = np.array([(10,15),(15,10),(15,-10),(10,-15),(-10,-15),(-15,-10),(-15,10),(-10,15),(10,15)])\n",
    "# squared borders\n",
    "borders = np.array([[(15,15),(15,-15)],[(15,-15),(-15,-15)],[(-15,-15),(-15,15)],[(-15,15),(15,15)]])\n",
    "\n",
    "currentTime = 0\n",
    "simulatedSteps = 0\n",
    "EVs = [EV(0., 15.)]\n",
    "\n",
    "@interact(t=(0,1000,1))\n",
    "def simulate(t=0):\n",
    "    global currentTime\n",
    "    global simulatedSteps\n",
    "    currentTime = t\n",
    "    \n",
    "    if simulatedSteps < t + 1:\n",
    "        newSteps = (t+1) - simulatedSteps\n",
    "        for i in range(newSteps):\n",
    "            for idx in range(len(EVs)):\n",
    "                # compute the stimulus for the next time step\n",
    "                xy = random_walk_2d_stimulus()\n",
    "                print(xy)\n",
    "                # check any possible collisions in the new position\n",
    "                if couldCollide(EVs[idx], xy, borders):\n",
    "                    # compute the collision\n",
    "                    pass\n",
    "                else:\n",
    "                    # store the stimulus\n",
    "                    EVs[idx].addStimulus(xy)\n",
    "            simulatedSteps += 1\n",
    "    else:\n",
    "        pass\n",
    "    \n",
    "    # plot each EV current position\n",
    "    plt.axes().set_aspect('equal')\n",
    "    plt.axis([-50, 50,-50, 50])\n",
    "    plt.plot(borders[:,0], borders[:,1], 'k-')\n",
    "    \n",
    "    for idx in range(len(EVs)):\n",
    "        x = np.sum(EVs[idx].pos_x[:currentTime])\n",
    "        y = np.sum(EVs[idx].pos_y[:currentTime])\n",
    "        print('x:',x,'y:',y)\n",
    "        plt.plot(x, y, 'o')    \n",
    "    \n",
    "    plt.show()"
   ]
  },
  {
   "cell_type": "markdown",
   "metadata": {},
   "source": [
    "\n",
    "# Multiple EVs\n",
    "\n",
    "Extending our model for 1 < N < 1000 particles"
   ]
  },
  {
   "cell_type": "code",
   "execution_count": 10,
   "metadata": {
    "collapsed": true,
    "jupyter": {
     "outputs_hidden": true
    }
   },
   "outputs": [
    {
     "data": {
      "image/png": "[encoded data removed]",
      "text/plain": [
       "<Figure size 432x288 with 1 Axes>"
      ]
     },
     "metadata": {
      "needs_background": "light"
     },
     "output_type": "display_data"
    }
   ],
   "source": [
    "N = 30\n",
    "particles = []\n",
    "movement = []\n",
    "steps = 10\n",
    "\n",
    "for idx in range(N):\n",
    "    particles.append({'x':np.append(0.0, norm.rvs(size=steps)), 'y':np.append(0.0, norm.rvs(size=steps)), 'size': np.random.randint(30,171,1)}) \n",
    "\n",
    "for idx in range(N):\n",
    "    plt.plot(np.cumsum(particles[idx]['x']), np.cumsum(particles[idx]['y']))"
   ]
  },
  {
   "cell_type": "markdown",
   "metadata": {},
   "source": [
    "## As a particles dispersion simulation\n",
    "\n",
    "To estimate how the particle disperses on a liquid, we need to use the  \n",
    "### Stoke-Einstein equation  \n",
    "\\begin{equation*}\n",
    "D(T) = \\frac{k T}{6 \\pi \\eta (T) r}\n",
    "\\end{equation*}\n",
    "Where $k$ is the Boltzmann constant, $T$ is the temperature in Kelvins, $\\eta$ is the viscosity of the solvent, and $r$ is the hydrodinamic radius.\n",
    "\n",
    "From experimental data, EV size was identified between $50-250 \\mathrm{nm}$\n",
    "\n",
    "For the parameters, the size of the particle is 30$\\mathrm{nm}$ - "
   ]
  },
  {
   "cell_type": "code",
   "execution_count": 112,
   "metadata": {
    "collapsed": true,
    "jupyter": {
     "outputs_hidden": true
    }
   },
   "outputs": [
    {
     "data": {
      "text/plain": [
       "(4.0473711363799994e-21, 0.018879715211013223)"
      ]
     },
     "execution_count": 112,
     "metadata": {},
     "output_type": "execute_result"
    }
   ],
   "source": [
    "diameter_30nm = 300 * 1E-9\n",
    "\n",
    "fluidViscosity = 0.0010016\n",
    "Temp = 293.15 # temp in kelvins\n",
    "\n",
    "kBT = constants.Boltzmann * Temp\n",
    "sixPiVisc = 6 * np.pi * fluidViscosity\n",
    "\n",
    "kBT, sixPiVisc"
   ]
  },
  {
   "cell_type": "code",
   "execution_count": 113,
   "metadata": {},
   "outputs": [
    {
     "data": {
      "text/plain": [
       "1.4291780326640453e-12"
      ]
     },
     "execution_count": 113,
     "metadata": {},
     "output_type": "execute_result"
    }
   ],
   "source": [
    "D = kBT / (sixPiVisc * (diameter_30nm/2))\n",
    "#D = 1\n",
    "D"
   ]
  },
  {
   "cell_type": "code",
   "execution_count": 128,
   "metadata": {},
   "outputs": [],
   "source": [
    "x0 = 0\n",
    "y0 = 0\n",
    "\n",
    "T = 3600 * 60\n",
    "N = 10\n",
    "\n",
    "xs = np.zeros([N,T])\n",
    "ys = np.zeros([N,T])\n",
    "\n",
    "for t in range(T):\n",
    "    for n in range(N):\n",
    "        xs[n, t] = (xs[n, t-1] if t > 0 else x0) + np.sqrt(D) * normalvariate(0, 1)\n",
    "        ys[n, t] = (ys[n, t-1] if t > 0 else y0) + np.sqrt(D) * normalvariate(0, 1)"
   ]
  },
  {
   "cell_type": "code",
   "execution_count": 130,
   "metadata": {},
   "outputs": [
    {
     "data": {
      "text/plain": [
       "[<matplotlib.lines.Line2D at 0x2120a6540f0>]"
      ]
     },
     "execution_count": 130,
     "metadata": {},
     "output_type": "execute_result"
    },
    {
     "data": {
      "image/png": "[encoded data removed]",
      "text/plain": [
       "<Figure size 432x288 with 1 Axes>"
      ]
     },
     "metadata": {
      "needs_background": "light"
     },
     "output_type": "display_data"
    }
   ],
   "source": [
    "t = T-1\n",
    "fig = plt.figure()\n",
    "plt.axes().set_aspect('equal')\n",
    "#plt.axis([-0.001,0.001,-0.001,0.001])\n",
    "plt.plot(xs[:,t], ys[:,t], '.')"
   ]
  },
  {
   "cell_type": "code",
   "execution_count": 134,
   "metadata": {},
   "outputs": [
    {
     "data": {
      "text/plain": [
       "830.7692307692308"
      ]
     },
     "execution_count": 134,
     "metadata": {},
     "output_type": "execute_result"
    }
   ],
   "source": [
    "T*(1/260)"
   ]
  },
  {
   "cell_type": "code",
   "execution_count": 4,
   "metadata": {},
   "outputs": [],
   "source": [
    "# 10 particles, 100 s, 10 steps per s\n",
    "steps = np.random.random([10,1000])"
   ]
  },
  {
   "cell_type": "code",
   "execution_count": 8,
   "metadata": {},
   "outputs": [
    {
     "data": {
      "text/plain": [
       "0.2950284837742333"
      ]
     },
     "execution_count": 8,
     "metadata": {},
     "output_type": "execute_result"
    }
   ],
   "source": [
    "steps[0,:]"
   ]
  },
  {
   "cell_type": "code",
   "execution_count": 219,
   "metadata": {},
   "outputs": [],
   "source": [
    "nrm = np.random.normal(0, 0.338133699, 1000)"
   ]
  },
  {
   "cell_type": "code",
   "execution_count": 220,
   "metadata": {},
   "outputs": [
    {
     "data": {
      "text/plain": [
       "(-0.019966699653813567, 0.3353807611954261)"
      ]
     },
     "execution_count": 220,
     "metadata": {},
     "output_type": "execute_result"
    }
   ],
   "source": [
    "np.mean(nrm), np.std(nrm)"
   ]
  },
  {
   "cell_type": "code",
   "execution_count": 321,
   "metadata": {},
   "outputs": [
    {
     "name": "stdout",
     "output_type": "stream",
     "text": [
      "0.8554181136000001\n"
     ]
    },
    {
     "data": {
      "text/plain": [
       "(200, 30000, 2)"
      ]
     },
     "execution_count": 321,
     "metadata": {},
     "output_type": "execute_result"
    }
   ],
   "source": [
    "#D = [5.35942492, 4.763933262, 4.287539936, 3.897763578, 3.572949947, 3.298107643, 3.062528526, 2.858359957]\n",
    "# 0.1\n",
    "D01 = [1.464161865, 1.380425045, 1.309586184, 1.248641434, 1.195483157, 1.148583065, 1.106802336, 1.069272642]\n",
    "# 0.01\n",
    "D001 = [0.463008636, 0.436528728, 0.414127514, 0.394855091, 0.378044968, 0.363213857, 0.35000163, 0.338133699]\n",
    "\n",
    "MDD = D01[7]\n",
    "\n",
    "n_particles = 200\n",
    "n_steps = 30000\n",
    "\n",
    "sd = MDD /1.25\n",
    "print(sd)\n",
    "nrm2 = np.random.normal(0, sd, n_particles * n_steps * 2)\n",
    "rnrm = nrm2.reshape((n_particles, n_steps, 2))\n",
    "rnrm.shape"
   ]
  },
  {
   "cell_type": "code",
   "execution_count": 323,
   "metadata": {},
   "outputs": [
    {
     "name": "stdout",
     "output_type": "stream",
     "text": [
      "mean total displacements per step: 1.0733, per second: 3.3071\n",
      "5 secs: 6.9294, 10 secs: 9.7519, 60 secs:28.0226, total:180.0872\n"
     ]
    }
   ],
   "source": [
    "x0, y0 = 0, 0\n",
    "\n",
    "dt=0.01\n",
    "t_ds = []\n",
    "one_seconds = np.array([n for n in range(10,610,10)])\n",
    "five_seconds = 5 * one_seconds\n",
    "ten_seconds = 10 * one_seconds\n",
    "sixty_seconds = 60 * one_seconds\n",
    "for i in range(n_particles):\n",
    "    x, y = 0, 0\n",
    "    displacements, d_1s, d_5s, d_10s, d_60s= [], [], [], [], []\n",
    "    \n",
    "    x_1_1s, y_1_1s = x, y\n",
    "    x_1_5s, y_1_5s = x, y\n",
    "    x_1_10s, y_1_10s = x, y\n",
    "    x_1_60s, y_1_60s = x, y\n",
    "    for j in range(n_steps):\n",
    "        x_1, y_1 = x, y\n",
    "        x += rnrm[i, j, 0]\n",
    "        y += rnrm[i, j, 1]\n",
    "        displ = np.sqrt((x - x_1)**2 + (y - y_1)**2)\n",
    "        displacements.append(displ)\n",
    "        if j+1 in one_seconds:\n",
    "            d = np.sqrt((x - x_1_1s)**2 + (y - y_1_1s)**2)\n",
    "            d_1s.append(d)\n",
    "            x_1_1s, y_1_1s = x, y\n",
    "        if j+1 in five_seconds:\n",
    "            d = np.sqrt((x - x_1_5s)**2 + (y - y_1_5s)**2)\n",
    "            d_5s.append(d)\n",
    "            x_1_5s, y_1_5s = x, y\n",
    "        if j+1 in ten_seconds:\n",
    "            d = np.sqrt((x - x_1_10s)**2 + (y - y_1_10s)**2)\n",
    "            d_10s.append(d)\n",
    "            x_1_10s, y_1_10s = x, y\n",
    "        if j+1 in sixty_seconds:\n",
    "            d = np.sqrt((x - x_1_60s)**2 + (y - y_1_60s)**2)\n",
    "            d_60s.append(d)\n",
    "            x_1_60s, y_1_60s = x, y\n",
    "        #if j+1 in [30000, 60000]\n",
    "    displacements = np.array(displacements)\n",
    "    tdispl = np.sqrt(x*x + y*y)\n",
    "    t_ds.append(tdispl)\n",
    "    #print(f'particle {i}, at {n_steps * dt} seconds, total displacement: {tdispl}, mean:{displacements.mean()}')\n",
    "print(f'mean total displacements per step: {displacements.mean():.4f}, per second: {np.array(d_1s).mean():.4f}')\n",
    "print(f'5 secs: {np.array(d_5s).mean():.4f}, 10 secs: {np.array(d_10s).mean():.4f}, 60 secs:{np.array(d_60s).mean():.4f}, total:{np.sum(t_ds)/len(t_ds):.4f}')"
   ]
  },
  {
   "cell_type": "code",
   "execution_count": 276,
   "metadata": {
    "collapsed": true,
    "jupyter": {
     "outputs_hidden": true
    }
   },
   "outputs": [
    {
     "data": {
      "text/plain": [
       "[109.07573558845637,\n",
       " 11.893257755469355,\n",
       " 63.67490277631125,\n",
       " 49.922358719750164,\n",
       " 70.73739065902079,\n",
       " 34.732229222943054,\n",
       " 175.73768976037456,\n",
       " 81.90003236087757,\n",
       " 125.59801725187043,\n",
       " 63.77801051814756,\n",
       " 65.63833293371383,\n",
       " 44.77013934930192,\n",
       " 85.20683247309756,\n",
       " 119.15517412537343,\n",
       " 159.8761992685009,\n",
       " 18.52767569019669,\n",
       " 113.8274620080841,\n",
       " 57.07770591551543,\n",
       " 48.530518931671914,\n",
       " 82.52822532967043,\n",
       " 110.19097801759393,\n",
       " 99.37829343831487,\n",
       " 152.0368003258668,\n",
       " 115.98701233756437,\n",
       " 160.2405188478533,\n",
       " 46.553172961880655,\n",
       " 27.41079830254682,\n",
       " 40.436143720022564,\n",
       " 71.98948631600447,\n",
       " 83.78639740949916,\n",
       " 69.98395511774696,\n",
       " 131.24695540632527,\n",
       " 91.97883891441339,\n",
       " 36.39391508294007,\n",
       " 79.35867375953907,\n",
       " 53.849096333921636,\n",
       " 57.79988964314769,\n",
       " 101.08293991679822,\n",
       " 90.47340436686042,\n",
       " 71.32225749458367,\n",
       " 37.56602885432363,\n",
       " 47.33683570299386,\n",
       " 25.894911971254306,\n",
       " 70.9534677178492,\n",
       " 162.87953116339654,\n",
       " 80.48818768597815,\n",
       " 86.5745642409959,\n",
       " 58.662695384318255,\n",
       " 76.26342300115667,\n",
       " 142.7306352060843,\n",
       " 154.6697958873353,\n",
       " 132.07990616902217,\n",
       " 94.23827132879549,\n",
       " 42.19896706611561,\n",
       " 56.48416474600091,\n",
       " 31.219073729526116,\n",
       " 37.364182188272025,\n",
       " 18.748088258468268,\n",
       " 54.16022802490852,\n",
       " 25.194284932326564,\n",
       " 85.21593868930862,\n",
       " 28.371914360819982,\n",
       " 27.71407304630527,\n",
       " 69.4016717310681,\n",
       " 94.45763111304663,\n",
       " 80.38225438894784,\n",
       " 39.38371351947031,\n",
       " 44.89659196462601,\n",
       " 70.90385333210394,\n",
       " 130.17831672647787,\n",
       " 46.13874619158782,\n",
       " 62.817413189399275,\n",
       " 60.679851528176805,\n",
       " 92.38155844673787,\n",
       " 66.69159132418937,\n",
       " 26.6831903117088,\n",
       " 112.02469404671118,\n",
       " 103.96958191147164,\n",
       " 58.45782631040006,\n",
       " 15.65969933449071,\n",
       " 48.359563826692515,\n",
       " 94.62839858535823,\n",
       " 47.04542456518175,\n",
       " 141.72398386915654,\n",
       " 19.39854156366878,\n",
       " 130.98142311839416,\n",
       " 68.67058891351996,\n",
       " 82.38639333877497,\n",
       " 148.03107379881837,\n",
       " 74.40533202823505,\n",
       " 42.49465398272793,\n",
       " 36.59584534637132,\n",
       " 24.779320536973504,\n",
       " 39.2671114931751,\n",
       " 42.78598476550385,\n",
       " 70.03786318308535,\n",
       " 77.1545238318466,\n",
       " 78.80903929835472,\n",
       " 63.995343768445565,\n",
       " 55.064919831464515,\n",
       " 65.30819082986805,\n",
       " 18.7955217139229,\n",
       " 59.604547367334284,\n",
       " 167.86930856968283,\n",
       " 146.63652824832778,\n",
       " 44.440697207658424,\n",
       " 74.66048644249697,\n",
       " 175.57521154893692,\n",
       " 156.28003214171477,\n",
       " 96.43463721599122,\n",
       " 80.4543603681022,\n",
       " 124.16433403367898,\n",
       " 11.063589020034204,\n",
       " 71.26822372891657,\n",
       " 90.88734184933129,\n",
       " 98.45979523232359,\n",
       " 70.2235664115857,\n",
       " 98.93801283153789,\n",
       " 101.40189473918076,\n",
       " 176.97230030242332,\n",
       " 113.23196750068216,\n",
       " 112.67476568833486,\n",
       " 6.956430753682693,\n",
       " 62.69804387582346,\n",
       " 91.93483428738541,\n",
       " 77.98751226323823,\n",
       " 51.930079889886386,\n",
       " 80.58548734511153,\n",
       " 99.21542388047904,\n",
       " 86.66247383672159,\n",
       " 69.88555203443092,\n",
       " 234.2224316626967,\n",
       " 112.18120830225675,\n",
       " 43.25327229174027,\n",
       " 67.17704396990892,\n",
       " 36.20663934965308,\n",
       " 42.32173320030065,\n",
       " 15.379470039728233,\n",
       " 104.12341780084672,\n",
       " 98.68953278390616,\n",
       " 120.0600283083078,\n",
       " 94.12463231633804,\n",
       " 160.8203797221706,\n",
       " 56.16218289861188,\n",
       " 109.23516572187053,\n",
       " 100.10825679575147,\n",
       " 51.058587933902864,\n",
       " 97.44698368441324,\n",
       " 63.551638047395585,\n",
       " 60.61426983766659,\n",
       " 64.37974459355355,\n",
       " 50.07938422046887,\n",
       " 152.4368244483291,\n",
       " 60.03630150315927,\n",
       " 21.210742987288178,\n",
       " 49.27933381708171,\n",
       " 60.59952861780064,\n",
       " 179.30803388626225,\n",
       " 86.08651107352054,\n",
       " 148.80540331828087,\n",
       " 121.81845255843392,\n",
       " 163.17647876781325,\n",
       " 49.901645071346564,\n",
       " 59.62957768763385,\n",
       " 195.0000758996017,\n",
       " 75.71679938267572,\n",
       " 101.0909562467527,\n",
       " 60.07783686244923,\n",
       " 33.225023817198036,\n",
       " 111.5960015496703,\n",
       " 74.09161195740893,\n",
       " 18.91267751679201,\n",
       " 167.35797082222783,\n",
       " 111.1239040646408,\n",
       " 56.553638350947196,\n",
       " 89.02981510518883,\n",
       " 98.5330497556638,\n",
       " 37.00075219463106,\n",
       " 126.9133036264885,\n",
       " 36.471480406550114,\n",
       " 83.81722563575492,\n",
       " 71.31591462572915,\n",
       " 32.354771993141526,\n",
       " 92.14813004663516,\n",
       " 12.108434204765091,\n",
       " 40.189698445477795,\n",
       " 69.72036300221114,\n",
       " 61.27743105710368,\n",
       " 32.13927995397377,\n",
       " 76.43940965629903,\n",
       " 97.19750456854545,\n",
       " 38.14914003068459,\n",
       " 60.86711083386729,\n",
       " 47.42070725930242,\n",
       " 27.610789990235478,\n",
       " 15.16209282215571,\n",
       " 90.34795401044519,\n",
       " 71.03563915863508,\n",
       " 112.48755505015572,\n",
       " 76.05267619154297]"
      ]
     },
     "execution_count": 276,
     "metadata": {},
     "output_type": "execute_result"
    }
   ],
   "source": [
    "mean total displacement: 78.6482140859825 per step: 0.4640784552402595 per second: 4.968531915213953 five seconds: 10.940189959474942"
   ]
  }
 ],
 "metadata": {
  "kernelspec": {
   "display_name": "Python 3",
   "language": "python",
   "name": "python3"
  },
  "language_info": {
   "codemirror_mode": {
    "name": "ipython",
    "version": 3
   },
   "file_extension": ".py",
   "mimetype": "text/x-python",
   "name": "python",
   "nbconvert_exporter": "python",
   "pygments_lexer": "ipython3",
   "version": "3.6.10"
  }
 },
 "nbformat": 4,
 "nbformat_minor": 4
}

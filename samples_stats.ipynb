{
 "cells": [
  {
   "cell_type": "code",
   "execution_count": 20,
   "metadata": {},
   "outputs": [],
   "source": [
    "import numpy as np\n",
    "from scipy import stats as st\n",
    "\n",
    "freqsCD1 = [[89, 76, 91, 80, 80],\n",
    "          [130, 139, 117, 119, 113],\n",
    "          [134, 140, 163, 132, 150],\n",
    "          [112, 112, 104, 114, 111],\n",
    "          [134, 112, 116, 106, 127],\n",
    "          [130, 105, 105, 112, 89]]\n",
    "freqsCD2 = [[122, 121, 148, 136, 120], \n",
    "          [168, 165, 149, 158, 165], \n",
    "          [242, 232, 234, 227, 223], \n",
    "          [174, 168, 170, 160, 193],\n",
    "          [180, 168, 158, 180, 179],\n",
    "          [175, 175, 158, 185, 168]]\n",
    "\n",
    "alpha = 0.05"
   ]
  },
  {
   "cell_type": "code",
   "execution_count": 21,
   "metadata": {},
   "outputs": [
    {
     "data": {
      "text/plain": [
       "([89, 76, 91, 80, 80], [122, 121, 148, 136, 120])"
      ]
     },
     "execution_count": 21,
     "metadata": {},
     "output_type": "execute_result"
    }
   ],
   "source": [
    "freqsCD1[0], freqsCD2[0]"
   ]
  },
  {
   "cell_type": "markdown",
   "metadata": {},
   "source": [
    "## checking the assumptions for the test\n",
    "### Normality?"
   ]
  },
  {
   "cell_type": "code",
   "execution_count": 28,
   "metadata": {},
   "outputs": [
    {
     "name": "stdout",
     "output_type": "stream",
     "text": [
      "Data is likely normal distributed, p= 0.32706165313720703\n"
     ]
    }
   ],
   "source": [
    "w, p = st.shapiro(freqsCD1[0])\n",
    "if p > alpha:\n",
    "    print('Data is likely normal distributed, p=',p)\n",
    "else:\n",
    "    print('Data is most-likely not normal distributed, p=',p)"
   ]
  },
  {
   "cell_type": "code",
   "execution_count": 29,
   "metadata": {},
   "outputs": [
    {
     "name": "stdout",
     "output_type": "stream",
     "text": [
      "Data is likely normal distributed, p= 0.1152702048420906\n"
     ]
    }
   ],
   "source": [
    "w, p = st.shapiro(freqsCD2[0])\n",
    "if p > alpha:\n",
    "    print('Data is likely normal distributed, p=',p)\n",
    "else:\n",
    "    print('Data is most-likely not normal distributed, p=',p)"
   ]
  },
  {
   "cell_type": "markdown",
   "metadata": {},
   "source": [
    "### Same variance?\n",
    "Normal data, tested using bartett.\n",
    "Non-normal data, tested using levene."
   ]
  },
  {
   "cell_type": "code",
   "execution_count": 30,
   "metadata": {},
   "outputs": [
    {
     "name": "stdout",
     "output_type": "stream",
     "text": [
      "The samples most likely have equal variance. p= 0.24051501353753826\n"
     ]
    }
   ],
   "source": [
    "s, p = st.bartlett(freqsCD1[0], freqsCD2[0])\n",
    "if p < alpha:\n",
    "    print('The samples have different variances. p=',p)\n",
    "else:\n",
    "    print('The samples most likely have equal variance. p=',p)"
   ]
  },
  {
   "cell_type": "markdown",
   "metadata": {},
   "source": [
    "# If assumptions hold, we Test using 1-way ANOVA"
   ]
  },
  {
   "cell_type": "code",
   "execution_count": 32,
   "metadata": {},
   "outputs": [
    {
     "name": "stdout",
     "output_type": "stream",
     "text": [
      "Signifficant difference, p= 7.29358382395327e-05\n"
     ]
    }
   ],
   "source": [
    "stat, p = st.f_oneway(freqs1[0], freqs2[0])\n",
    "if p < alpha:\n",
    "    print('Signifficant difference, p=',p)\n",
    "else:\n",
    "    print('NO signifficant difference, p=',p)"
   ]
  },
  {
   "cell_type": "markdown",
   "metadata": {},
   "source": [
    "This works fine for two samples"
   ]
  }
 ],
 "metadata": {
  "kernelspec": {
   "display_name": "Python 3",
   "language": "python",
   "name": "python3"
  },
  "language_info": {
   "codemirror_mode": {
    "name": "ipython",
    "version": 3
   },
   "file_extension": ".py",
   "mimetype": "text/x-python",
   "name": "python",
   "nbconvert_exporter": "python",
   "pygments_lexer": "ipython3",
   "version": "3.6.10"
  }
 },
 "nbformat": 4,
 "nbformat_minor": 4
}

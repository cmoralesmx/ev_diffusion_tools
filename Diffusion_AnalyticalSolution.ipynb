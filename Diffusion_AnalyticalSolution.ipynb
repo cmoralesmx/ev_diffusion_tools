{
 "cells": [
  {
   "cell_type": "code",
   "execution_count": null,
   "metadata": {
    "slideshow": {
     "slide_type": "notes"
    }
   },
   "outputs": [],
   "source": [
    "import numpy as np\n",
    "import matplotlib.pyplot as plt\n",
    "#%matplotlib inline\n",
    "from random import random\n",
    "from mpl_toolkits.axes_grid1.anchored_artists import AnchoredSizeBar\n",
    "import matplotlib.font_manager as fm\n",
    "#from scipy.special import erf\n",
    "import pandas as pd\n",
    "import holoviews as hv\n",
    "hv.extension('bokeh')\n",
    "from holoviews import streams\n",
    "\n",
    "Ds = {'Hidrogeno': 6.4E-5,\n",
    "      'Oxigeno': 1.8E-4,\n",
    "        'Alcohol': 1.0E-4,\n",
    "        'Benceno': 8.8E-6,\n",
    "\n",
    "        'Azucar': 3.6E-9,\n",
    "        'Sal': 1.1E-9,\n",
    "        'Alcohol2': 8.0E-10}"
   ]
  },
  {
   "cell_type": "markdown",
   "metadata": {},
   "source": [
    "# Go to: [Simulated data](#Simulated-data)"
   ]
  },
  {
   "cell_type": "markdown",
   "metadata": {},
   "source": [
    "# The diffusion equation\n",
    "The one-dimensional diffusion equation or Fick's second law is\n",
    "$$\n",
    "\\frac{\\partial c}{\\partial t}=\\frac{\\partial }{\\partial x}\\left(D\\frac{\\partial c}{\\partial x}\\right)\n",
    "$$\n",
    "It can be solved for the spatially and temporally varying concentration $c(x,t)$ with sufficient inital and boundary conditions. \n",
    "\n",
    "However, an interesting case is that of a constant diffusion coefficient $D$\n",
    "$$\n",
    "\\frac{\\partial c}{\\partial t}=D\\frac{\\partial^2 c}{\\partial x^2}\n",
    "$$\n",
    "Which solution depends critically on initial and boundary conditions specific to the problem at hand.\n",
    "\n",
    "## Elementary solution\n",
    "The instantaneous, localized release of a sustance in an infinite domain initially free of the sustance.  \n",
    "\n",
    "Matematically, we have:\n",
    "- Infinite doman $-\\infty < x < +\\infty$,\n",
    "- D = constant,\n",
    "- No initial concentration, except for the localized release: $c_0(x)=M\\delta (x)  \\text{ at }t=0$,\n",
    "- It will take the sustance an infinite time to rech the infinitely far ends of the foman, so: $\\lim_{x\\to +\\infty}c=\\lim_{x\\to -\\infty}c=0 \\text{ at } (t<\\infty)$\n",
    "\n",
    "Here, $M$ is the total mass of the substance per unit cross-sectional area, and $\\delta(x)$ is the  \n",
    "Dirac function\n",
    "$$\n",
    "\\delta(x)=\n",
    "\\begin{cases} \n",
    "0 & \\text{if $x \\neq 0$},\\\\\n",
    "+\\infty & \\text{if $x = 0$}.\n",
    "\\end{cases}\n",
    "$$\n",
    "and the area under the infinitely tall and infinitely narrow peak is unity.\n",
    "\n",
    "Which has the solution:\n",
    "$$\n",
    "c(x,t) = At^{-1/2}\\text{exp}^{\\left(- \\frac{x^2}{4Dt}\\right)}.\n",
    "$$\n",
    "That meets the boundary conditions (vanishing concentrations far away on both sides). Then, the remaining, initial condition determines the constant of integration. Conservation of the total amount of the substance requires that\n",
    "$$\n",
    "\\int_{-\\infty}^{+\\infty}c(x,t) dx=\\int_{-\\infty}^{+\\infty}c_0(x)dx=M\n",
    "$$\n",
    "at all times. Therefore, we get: $A=M/\\sqrt{4\\pi D}$.  \n",
    "\n",
    "And the final solution is:\n",
    "$$\n",
    "c(x,t) = \\frac{M}{\\sqrt{4\\pi Dt}}\\text{exp}^{\\left(- \\frac{x^2}{4Dt}\\right)}\n",
    "$$"
   ]
  },
  {
   "cell_type": "markdown",
   "metadata": {},
   "source": [
    "Kronecker delta\n",
    "\n",
    "$$\n",
    "\\delta_{ij}=\n",
    "\\begin{cases} \n",
    "0 & \\text{if $i \\neq j$},\\\\\n",
    "1 & \\text{if $i = j$}.\n",
    "\\end{cases}\n",
    "$$"
   ]
  },
  {
   "cell_type": "code",
   "execution_count": null,
   "metadata": {},
   "outputs": [],
   "source": [
    "def n_1d(mass, D, x, t):\n",
    "    \"\"\"\n",
    "    M mass\n",
    "    D diffusion rate\n",
    "    \"\"\"\n",
    "    return (mass/(2*np.sqrt(np.pi * D * t))) * np.exp(pow(-x,2)/(4*D*t))\n",
    "\n",
    "# from Cushman chp. 2\n",
    "def n(x, t, D):\n",
    "    return np.exp(-x * x / (4 * D * t)) / (2*np.sqrt(np.pi * D * t))\n",
    "\n",
    "def msd_1d(D, t):\n",
    "    return 2*D*t\n",
    "\n",
    "def c_1d(mass, D, x, t):\n",
    "    return (mass/np.sqrt(4*np.pi*D*t))*np.exp(-((x*x)/(4*D*t)))\n",
    "\n",
    "def n_2d():\n",
    "    pass\n",
    "\n",
    "Ds = {'Hidrogen':0.64E-4, 'Oxigen':0.18E-4, 'Alcohopl':0.1E-4,\n",
    "      'Benceno':0.08E-4, 'Sugar':0.36E-9, 'Salt':1.10E-9, 'Alcohol':0.8E-9}"
   ]
  },
  {
   "cell_type": "code",
   "execution_count": null,
   "metadata": {},
   "outputs": [],
   "source": [
    "t = 1\n",
    "x = 0\n",
    "c0 = 7.5E-4\n",
    "n_1d(c0, Ds['Salt'], x, t), msd(Ds['Salt'],t), c_1d(c0, Ds['Salt'], x, t)"
   ]
  },
  {
   "cell_type": "code",
   "execution_count": null,
   "metadata": {},
   "outputs": [],
   "source": [
    "\n",
    "xs = np.linspace(-.5, .5, 10000)\n",
    "escalaX = 100.\n",
    "escalaY = .1\n",
    "\n",
    "ns = n(xs, .1, Ds['Azucar'])\n",
    "\n",
    "fig = plt.figure()\n",
    "plt.axis([-.5, .5, 0, 200])\n",
    "\n",
    "plt.plot(xs * escalaX, ns * escalaY)\n",
    "plt.show(fig)"
   ]
  },
  {
   "cell_type": "markdown",
   "metadata": {},
   "source": [
    "### Example \n",
    "from [Cushman 2012 ch 2](http://www.dartmouth.edu/~cushman/courses/engs43/Chapter2.pdf)\n",
    "\n",
    "A tank aboard a barge traveling along the Chicago Ship Canal suddenly\n",
    "collapses, releasing its benzene content ($C_6H_6$, density = $0.879 g/cm^3$), of which 100 liters find their way quickly to the water. The rest of the benzene remains contained on the barge.  \n",
    "Assuming rapid mixing across the canal section (8.07m deep and 48.8 m wide) and estimating the turbulent diffusion coefficient at $3.0 m^2/s$, what are the concentrations of benzene 2, 6, 12 and 24 hours after the accident, at the site of the spill and 300 m away?  \n",
    "  \n",
    "  To solve this problem, we first determine the mass of benzene that was spilled. Since the density of benzene is 0.879 g/cm3 = 0.879 kg/L, this mass $m$ is:\n",
    "$$m = \\text{mass} \\times \\text{volume}$$"
   ]
  },
  {
   "cell_type": "code",
   "execution_count": null,
   "metadata": {},
   "outputs": [],
   "source": [
    "density = 0.879  # 0.879 g/cm^3 = 0.879 kg/L\n",
    "volume = 100 # liters\n",
    "D = 3\n",
    "\n",
    "m = density * volume\n",
    "print(f'm = {m} Kg')\n",
    "\n",
    "deep = 8.07\n",
    "wide = 48.8\n",
    "\n",
    "area = deep * wide\n",
    "print(f'area = {area} m^2')"
   ]
  },
  {
   "cell_type": "markdown",
   "metadata": {},
   "source": [
    "Over the cross-section of the canal, we have"
   ]
  },
  {
   "cell_type": "code",
   "execution_count": null,
   "metadata": {},
   "outputs": [],
   "source": [
    "# Mass spilled\n",
    "M = m/area\n",
    "print(f'M = {M:.4f} kg/m^2')"
   ]
  },
  {
   "cell_type": "markdown",
   "metadata": {},
   "source": [
    "Because concentration over time is given by\n",
    "$$\n",
    "c(x,t) = \\frac{M}{\\sqrt{4\\pi Dt}}\\text{exp}^{\\left(- \\frac{x^2}{4Dt}\\right)}\n",
    "$$\n",
    "At the site of the spill $(x=0)$ the equation becomes\n",
    "$$\n",
    "c(x,t) = \\frac{M}{\\sqrt{4\\pi Dt}}\n",
    "$$\n",
    "which yields:"
   ]
  },
  {
   "cell_type": "code",
   "execution_count": null,
   "metadata": {},
   "outputs": [],
   "source": [
    "t = 1e-9\n",
    "concentration_at_1_sec = 1/np.sqrt(4*np.pi*D*t)\n",
    "print(f'c(0, t={t} sec)={concentration_at_1_sec * M: .4f} kg/m^3 or {concentration_at_1_sec * 100:.2f}% of the original Mass')"
   ]
  },
  {
   "cell_type": "markdown",
   "metadata": {},
   "source": [
    "Comparison of concentration close to the place of the spill at 3 instants"
   ]
  },
  {
   "cell_type": "code",
   "execution_count": null,
   "metadata": {},
   "outputs": [],
   "source": [
    "ts = [1e-3, 1e-2, 0.1]\n",
    "xs = np.linspace(-4,4,100)\n",
    "M_total = None\n",
    "for t in ts:\n",
    "    cs = np.exp(-np.power(xs,2)/(4*D*t))/np.sqrt(4*np.pi*D*t)\n",
    "    #if M_total is None:\n",
    "    M_total = cs.sum()\n",
    "    plt.plot(xs,cs/M_total)\n"
   ]
  },
  {
   "cell_type": "code",
   "execution_count": null,
   "metadata": {},
   "outputs": [],
   "source": [
    "# concentration after 1 hour\n",
    "seconds = 3600\n",
    "c_at_1_hr = concentration_at_1_sec/np.sqrt(seconds)\n",
    "print(f'c(0, t=1 hr)= {c_at_1_hr*M*1000:.3f} mg/L or {c_at_h:.4f}% of M')\n",
    "print(f'c(0, t=1 hr)= {c_at_1_hr*M:.6f} kg/L or {c_at_h:.4f}% of M')"
   ]
  },
  {
   "cell_type": "code",
   "execution_count": null,
   "metadata": {},
   "outputs": [],
   "source": [
    "# concentration at 4 instants\n",
    "hours = [2, 6, 12, 24]\n",
    "c_at_hs = {}\n",
    "for h in hours:\n",
    "    if h not in c_at_hs:\n",
    "        c_at_hs[h] = c_at_1_hr/np.sqrt(h)\n",
    "    print(f'c(0,t={h} hrs)={c_at_hs[h]*M*1000:.3f} mg/L or {c_at_hs[h]:.4f}% of M')"
   ]
  },
  {
   "cell_type": "markdown",
   "metadata": {},
   "source": [
    "Then, 2, 6, 12, and 24 hours after the spill, at 300 mts, we have:"
   ]
  },
  {
   "cell_type": "code",
   "execution_count": null,
   "metadata": {},
   "outputs": [],
   "source": [
    "x = 300\n",
    "t = 3600\n",
    "# the expected time to displace X distance?\n",
    "x_in_1hr = (x*x)/(4*D*t)"
   ]
  },
  {
   "cell_type": "code",
   "execution_count": null,
   "metadata": {},
   "outputs": [],
   "source": [
    "hours = [2, 6, 12, 24]\n",
    "c_at_hs_at_300 = {}\n",
    "\n",
    "for h in hours:\n",
    "    if h not in c_at_hs_at_300:\n",
    "        # concentration at N hours * \n",
    "        c_at_hs_at_300[h] = c_at_hs[h] * np.exp(-x_in_1hr/h)\n",
    "    print(f'c(x={x},t={h} hrs)={c_at_hs_at_300[h]*M*1000:.4f} mg/L or {c_at_hs_at_300[h]:.6f}% of M')"
   ]
  },
  {
   "cell_type": "markdown",
   "metadata": {},
   "source": [
    "## 2D case\n",
    "\n",
    "Now, the diffusion equation in 2D form can be written as follows,\n",
    "$$\n",
    "D_x\\frac{\\partial^2 c}{\\partial x^2}+D_y\\frac{\\partial^2 c}{\\partial y^2}=\\frac{\\partial^2 c}{\\partial t}\n",
    "$$\n",
    "\n",
    "The solution of the diffusion equation will give us the spatial and temporal distribution concentration in the unbounded domain.\n",
    "\n",
    "For the unbounded domain, the initial and boundary condition are,\n",
    "\n",
    "### Initial Conditions\n",
    "$$\n",
    "C(x=0, y=0, t=0) = M\\delta(x,y)\n",
    "$$\n",
    "\n",
    "Where $\\delta$ is the Kronecker delta. \n",
    "$$\n",
    "\\delta(x, y) = \\begin{cases}\n",
    "0 & \\text{for $x, $y} \\neq \\text{0 and}\\\\\n",
    "1 & \\text{for $x, $y = 0}.\n",
    "\\end{cases}\n",
    "$$\n",
    "\n",
    "### Boundary conditions\n",
    "$$\n",
    "\\begin{align}\n",
    "\\text{When } x\\to \\pm \\infty && \\frac{\\partial c}{\\partial x}, c \\to 0 \\\\\n",
    "\\text{When } y\\to \\pm \\infty && \\frac{\\partial c}{\\partial y}, c \\to 0\n",
    "\\end{align}\n",
    "$$\n",
    "\n",
    "Which can be solved by using separation of variables. Considering that\n",
    "$$\n",
    "C(x, y, t) = C_1 (x, t)C_2(y, t)\n",
    "$$\n",
    "\n",
    "Since $C_1 \\neq 0$ and $C_2 \\neq 0$. Thus,\n",
    "$$\n",
    "\\frac{\\partial c_1}{\\partial t}-D_x\\frac{\\partial^2 c_1}{\\partial x^2}=0 \\\\\n",
    "\\frac{\\partial c_2}{\\partial t}-D_y\\frac{\\partial^2 c_2}{\\partial y^2}=0\n",
    "$$\n",
    "Their solutions are\n",
    "$$\n",
    "c_1(x,t) = \\frac{a}{\\sqrt{4\\pi D_xt}}\\text{exp}^{-\\left(- \\frac{x^2}{4D_xt}\\right)} \\\\\n",
    "c_2(y,t) = \\frac{\\beta}{\\sqrt{4\\pi D_yt}}\\text{exp}^{-\\left(- \\frac{x^2}{4D_xt}\\right)}\n",
    "$$\n",
    "\n",
    "Thus,\n",
    "$$\n",
    "c(x, y, t) = \\left(\\frac{M}{4\\pi t \\sqrt{D_xD_y}}\\right)\\text{exp}^{-\\left(\\frac{x^2}{4D_xt} + \\frac{y^2}{4D_yt}\\right)}\n",
    "$$\n",
    "$$\n",
    "c(x, y, t) = \\left(\\frac{M}{4\\pi t \\sqrt{D_xD_y}}\\right)\\text{exp}^{-\\frac{1}{4t}\\left(\\frac{x^2}{D_x} + \\frac{y^2}{D_y}\\right)}\n",
    "$$\n",
    "\n",
    "This is the solution of the two dimensional diffusion equation for the case of instantaneous loading at x = 0, y = 0 and at t = 0."
   ]
  },
  {
   "cell_type": "markdown",
   "metadata": {},
   "source": [
    "## EVs\n",
    "\n",
    "When water is the ambient fluid, concentration is often expressed in moles of the substance per liter ($ 1\\text{L} = 10^{-3} m^3$) of solution. One mole comprises 6.02 × 1023 atoms or molecules of that substance.  \n",
    "The advantage of using molarity is the ease of translation from chemical reactions at the molecular level to mass budgets at the macroscopic scale: one molecule simply becomes one mole.  \n",
    "To convert moles into grams, one multiplies by the molecular weight of the substance. Example: The mass of 1 mole of ammonia (NH3) is 14+3×1 = 17 g. ([Cushman 2012 p.9](http://www.dartmouth.edu/~cushman/courses/engs43/Chapter1.pdf))\n",
    "\n",
    "### Analytical concentration\n",
    "A"
   ]
  },
  {
   "cell_type": "code",
   "execution_count": null,
   "metadata": {},
   "outputs": [],
   "source": [
    "M = 100e3\n",
    "ts = [1e-6, 1e-2, 0.1]\n",
    "xs = np.linspace(-4,4,100)\n",
    "M_total = None\n",
    "for t in ts:\n",
    "    cs = np.exp(-np.power(xs,2)/(4*D*t))/np.sqrt(4*np.pi*D*t)\n",
    "    #if M_total is None:\n",
    "    #c_total = cs.sum()\n",
    "    plt.plot(xs,(cs/cs.sum())*M)\n",
    "    print(f'at t={t} cs.sum()={cs.sum()/cs.sum()*M} max={cs.max()/cs.sum()*M}')\n",
    "plt.axis([-4,4,0,10000])"
   ]
  },
  {
   "cell_type": "code",
   "execution_count": null,
   "metadata": {},
   "outputs": [],
   "source": [
    "((cs/cs.sum())*M).sum(),"
   ]
  },
  {
   "cell_type": "markdown",
   "metadata": {},
   "source": [
    "# Fick's 2nd law of diffusion"
   ]
  },
  {
   "cell_type": "code",
   "execution_count": 19,
   "metadata": {},
   "outputs": [],
   "source": [
    "def erfcc(x):\n",
    "    # función complementaria 1-erf(x)\n",
    "    # double t,z,ans;\n",
    "    z = np.abs(x)\n",
    "    t = 1.0 / (1.0 + 0.5 * z)\n",
    "    ans = t * np.exp(-z * z - 1.26551223 + t * (1.00002368 + t * (0.37409196 + t * (\n",
    "        0.09678418 + t * (-0.18628806 + t * (0.27886807 + t * (-1.13520398 + t * (\n",
    "            1.48851587 + t * (-0.82215223 + t * 0.17087277)))))))))\n",
    "    return ans if x >= 0.0 else 2.0 - ans\n",
    "\n",
    "\n",
    "# método de Simpson\n",
    "def integral(a, b, n):\n",
    "    if n % 2 == 1:\n",
    "        n += 1\n",
    "    h=(b-a)/n\n",
    "    suma= f(a) + f(b)\n",
    "    for i in range(1,2,n):\n",
    "        suma += 4 * f(a + i * h)\n",
    "    \n",
    "    for i in range(2, 2, n):\n",
    "        suma += 2 * f(a + i * h)\n",
    "    \n",
    "    return suma * h / 3\n",
    "\n",
    "def f(z):\n",
    "    return np.exp(-z * z / (4 * t)) * modified_Bessel_i0(x * z / (2 * t)) * z\n",
    "    \n",
    "def modified_Bessel_i0(x):\n",
    "# Returns the modifed Bessel function I0(x) for any real x.\n",
    "    # double ax,ans;\n",
    "    # double y; //Accumulate polynomials in double precision.\n",
    "    ax = np.abs(x)\n",
    "    if ax < 3.75:  # Polynomial t.\n",
    "        y = x / 3.75\n",
    "        y *= y\n",
    "        ans = 1.0 + y * (3.5156229 + y * (3.0899424 + y * (1.2067492 + y * (0.2659732 + y *(0.360768e-1 + y * 0.45813e-2)))))\n",
    "    else:\n",
    "        y = 3.75 / ax\n",
    "        ans = (np.exp(ax) / np.sqrt(ax)) * (0.39894228 + y * (\n",
    "            0.1328592e-1 + y * (0.225319e-2 + y * (-0.157565e-2 + y * (0.916281e-2 + y * (\n",
    "                -0.2057706e-1 + y * (0.2635537e-1 + y * (-0.1647633e-1 + y * 0.392377e-2)) )))) ))\n",
    "    return ans"
   ]
  },
  {
   "cell_type": "code",
   "execution_count": 11,
   "metadata": {},
   "outputs": [
    {
     "data": {
      "text/plain": [
       "0.007990355951353013"
      ]
     },
     "execution_count": 11,
     "metadata": {},
     "output_type": "execute_result"
    }
   ],
   "source": [
    "# se representa la función\n",
    "x = 1\n",
    "t = 0.1\n",
    "y = np.exp( -x * x / (4 * t)) * integral(0.0, 1.0, 40) / (2 * t)\n",
    "y"
   ]
  },
  {
   "cell_type": "code",
   "execution_count": 49,
   "metadata": {},
   "outputs": [],
   "source": [
    "a = 1.  # radio inicial\n",
    "D = 0.003 # coeficiente de difusion\n",
    "n0 = 1. # concentracion inicial\n",
    "\n",
    "xs = np.linspace(0, 2, 20)\n",
    "r = xs * a\n",
    "t = a*a * 0.02 / D\n",
    "ys = []\n",
    "for x in r:\n",
    "    ys.append(np.exp( -x * x / (4 * t)) * integral(0.0, 1.0, 40) / (2 * t))\n",
    "ys = np.array(ys)"
   ]
  },
  {
   "cell_type": "code",
   "execution_count": 68,
   "metadata": {},
   "outputs": [],
   "source": [
    "def diffusion_at_t(t):\n",
    "    xs = []\n",
    "    ys = []\n",
    "    for x in np.arange(0, 2, 0.01):\n",
    "        if t < 0.003:\n",
    "            # n = n0 pata r <= a\n",
    "            # n = 0 para r > a\n",
    "            y = 1. if x < 1. else 0.\n",
    "        else:\n",
    "            y = np.exp( -x * x / (4 * t)) * integral(0.0, 1.0, 40) / (2 * t)\n",
    "        xs.append(d/a)\n",
    "        ys.append(y)\n",
    "    return np.array(xs), np.array(ys)"
   ]
  },
  {
   "cell_type": "code",
   "execution_count": 80,
   "metadata": {},
   "outputs": [
    {
     "data": {
      "text/plain": [
       "[<matplotlib.lines.Line2D at 0x2b60f44a9b0>]"
      ]
     },
     "execution_count": 80,
     "metadata": {},
     "output_type": "execute_result"
    },
    {
     "data": {
      "image/png": "[encoded data removed]",
      "text/plain": [
       "<Figure size 432x288 with 1 Axes>"
      ]
     },
     "metadata": {},
     "output_type": "display_data"
    }
   ],
   "source": [
    "xs, ys = diffusion_at_t(0.03)\n",
    "plt.plot(xs, ys)"
   ]
  },
  {
   "cell_type": "code",
   "execution_count": null,
   "metadata": {},
   "outputs": [],
   "source": []
  }
 ],
 "metadata": {
  "kernelspec": {
   "display_name": "Python 3",
   "language": "python",
   "name": "python3"
  },
  "language_info": {
   "codemirror_mode": {
    "name": "ipython",
    "version": 3
   },
   "file_extension": ".py",
   "mimetype": "text/x-python",
   "name": "python",
   "nbconvert_exporter": "python",
   "pygments_lexer": "ipython3",
   "version": "3.6.7"
  }
 },
 "nbformat": 4,
 "nbformat_minor": 2
}
